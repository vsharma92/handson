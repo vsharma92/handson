{
 "cells": [
  {
   "cell_type": "code",
   "execution_count": 2,
   "id": "55bf3a92",
   "metadata": {},
   "outputs": [],
   "source": [
    "import pandas as pd\n",
    "import numpy as np\n",
    "import matplotlib.pyplot as plt\n",
    "import seaborn as sns"
   ]
  },
  {
   "cell_type": "code",
   "execution_count": 3,
   "id": "48abd5a2",
   "metadata": {},
   "outputs": [],
   "source": [
    "df=pd.read_csv(r\"C:\\Users\\ashwa\\Downloads\\commodity_prices (1) (1).csv\")"
   ]
  },
  {
   "cell_type": "code",
   "execution_count": 4,
   "id": "ba7ebc99",
   "metadata": {},
   "outputs": [
    {
     "data": {
      "text/html": [
       "<div>\n",
       "<style scoped>\n",
       "    .dataframe tbody tr th:only-of-type {\n",
       "        vertical-align: middle;\n",
       "    }\n",
       "\n",
       "    .dataframe tbody tr th {\n",
       "        vertical-align: top;\n",
       "    }\n",
       "\n",
       "    .dataframe thead th {\n",
       "        text-align: right;\n",
       "    }\n",
       "</style>\n",
       "<table border=\"1\" class=\"dataframe\">\n",
       "  <thead>\n",
       "    <tr style=\"text-align: right;\">\n",
       "      <th></th>\n",
       "      <th>Unnamed: 0</th>\n",
       "      <th>date</th>\n",
       "      <th>oil_brent</th>\n",
       "      <th>oil_dubai</th>\n",
       "      <th>coffee_arabica</th>\n",
       "      <th>coffee_robustas</th>\n",
       "      <th>tea_columbo</th>\n",
       "      <th>tea_kolkata</th>\n",
       "      <th>tea_mombasa</th>\n",
       "      <th>sugar_eu</th>\n",
       "      <th>sugar_us</th>\n",
       "      <th>sugar_world</th>\n",
       "    </tr>\n",
       "  </thead>\n",
       "  <tbody>\n",
       "    <tr>\n",
       "      <th>0</th>\n",
       "      <td>1</td>\n",
       "      <td>1960-01-01</td>\n",
       "      <td>1.63</td>\n",
       "      <td>1.63</td>\n",
       "      <td>0.940900</td>\n",
       "      <td>0.696864</td>\n",
       "      <td>0.930301</td>\n",
       "      <td>1.121401</td>\n",
       "      <td>1.037400</td>\n",
       "      <td>0.122356</td>\n",
       "      <td>0.116845</td>\n",
       "      <td>0.066600</td>\n",
       "    </tr>\n",
       "    <tr>\n",
       "      <th>1</th>\n",
       "      <td>2</td>\n",
       "      <td>1960-02-01</td>\n",
       "      <td>1.63</td>\n",
       "      <td>1.63</td>\n",
       "      <td>0.946900</td>\n",
       "      <td>0.688707</td>\n",
       "      <td>0.930301</td>\n",
       "      <td>1.121401</td>\n",
       "      <td>1.037400</td>\n",
       "      <td>0.122356</td>\n",
       "      <td>0.119049</td>\n",
       "      <td>0.067900</td>\n",
       "    </tr>\n",
       "    <tr>\n",
       "      <th>2</th>\n",
       "      <td>3</td>\n",
       "      <td>1960-03-01</td>\n",
       "      <td>1.63</td>\n",
       "      <td>1.63</td>\n",
       "      <td>0.928100</td>\n",
       "      <td>0.688707</td>\n",
       "      <td>0.930301</td>\n",
       "      <td>1.121401</td>\n",
       "      <td>1.037400</td>\n",
       "      <td>0.122356</td>\n",
       "      <td>0.121254</td>\n",
       "      <td>0.068300</td>\n",
       "    </tr>\n",
       "    <tr>\n",
       "      <th>3</th>\n",
       "      <td>4</td>\n",
       "      <td>1960-04-01</td>\n",
       "      <td>1.63</td>\n",
       "      <td>1.63</td>\n",
       "      <td>0.930300</td>\n",
       "      <td>0.684519</td>\n",
       "      <td>0.930301</td>\n",
       "      <td>1.121401</td>\n",
       "      <td>1.037400</td>\n",
       "      <td>0.122356</td>\n",
       "      <td>0.123459</td>\n",
       "      <td>0.068100</td>\n",
       "    </tr>\n",
       "    <tr>\n",
       "      <th>4</th>\n",
       "      <td>5</td>\n",
       "      <td>1960-05-01</td>\n",
       "      <td>1.63</td>\n",
       "      <td>1.63</td>\n",
       "      <td>0.920000</td>\n",
       "      <td>0.690692</td>\n",
       "      <td>0.930301</td>\n",
       "      <td>1.121401</td>\n",
       "      <td>1.037400</td>\n",
       "      <td>0.122356</td>\n",
       "      <td>0.121254</td>\n",
       "      <td>0.068300</td>\n",
       "    </tr>\n",
       "    <tr>\n",
       "      <th>...</th>\n",
       "      <td>...</td>\n",
       "      <td>...</td>\n",
       "      <td>...</td>\n",
       "      <td>...</td>\n",
       "      <td>...</td>\n",
       "      <td>...</td>\n",
       "      <td>...</td>\n",
       "      <td>...</td>\n",
       "      <td>...</td>\n",
       "      <td>...</td>\n",
       "      <td>...</td>\n",
       "      <td>...</td>\n",
       "    </tr>\n",
       "    <tr>\n",
       "      <th>751</th>\n",
       "      <td>752</td>\n",
       "      <td>2022-08-01</td>\n",
       "      <td>98.60</td>\n",
       "      <td>97.75</td>\n",
       "      <td>5.917861</td>\n",
       "      <td>2.417366</td>\n",
       "      <td>4.210000</td>\n",
       "      <td>3.538154</td>\n",
       "      <td>2.360000</td>\n",
       "      <td>0.330773</td>\n",
       "      <td>0.782199</td>\n",
       "      <td>0.393525</td>\n",
       "    </tr>\n",
       "    <tr>\n",
       "      <th>752</th>\n",
       "      <td>753</td>\n",
       "      <td>2022-09-01</td>\n",
       "      <td>90.16</td>\n",
       "      <td>90.63</td>\n",
       "      <td>5.897138</td>\n",
       "      <td>2.455065</td>\n",
       "      <td>4.490000</td>\n",
       "      <td>3.153198</td>\n",
       "      <td>2.360000</td>\n",
       "      <td>0.323621</td>\n",
       "      <td>0.770956</td>\n",
       "      <td>0.390659</td>\n",
       "    </tr>\n",
       "    <tr>\n",
       "      <th>753</th>\n",
       "      <td>754</td>\n",
       "      <td>2022-10-01</td>\n",
       "      <td>93.13</td>\n",
       "      <td>90.59</td>\n",
       "      <td>5.292852</td>\n",
       "      <td>2.270979</td>\n",
       "      <td>4.135621</td>\n",
       "      <td>2.833112</td>\n",
       "      <td>2.457500</td>\n",
       "      <td>0.320943</td>\n",
       "      <td>0.762578</td>\n",
       "      <td>0.386911</td>\n",
       "    </tr>\n",
       "    <tr>\n",
       "      <th>754</th>\n",
       "      <td>755</td>\n",
       "      <td>2022-11-01</td>\n",
       "      <td>91.07</td>\n",
       "      <td>86.28</td>\n",
       "      <td>4.715462</td>\n",
       "      <td>2.041258</td>\n",
       "      <td>3.831528</td>\n",
       "      <td>2.849979</td>\n",
       "      <td>2.490000</td>\n",
       "      <td>0.332993</td>\n",
       "      <td>0.792340</td>\n",
       "      <td>0.407414</td>\n",
       "    </tr>\n",
       "    <tr>\n",
       "      <th>755</th>\n",
       "      <td>756</td>\n",
       "      <td>2022-12-01</td>\n",
       "      <td>80.90</td>\n",
       "      <td>76.78</td>\n",
       "      <td>4.629482</td>\n",
       "      <td>2.045446</td>\n",
       "      <td>3.994073</td>\n",
       "      <td>2.421516</td>\n",
       "      <td>2.386667</td>\n",
       "      <td>0.345729</td>\n",
       "      <td>0.805127</td>\n",
       "      <td>0.417335</td>\n",
       "    </tr>\n",
       "  </tbody>\n",
       "</table>\n",
       "<p>756 rows × 12 columns</p>\n",
       "</div>"
      ],
      "text/plain": [
       "     Unnamed: 0        date  oil_brent  oil_dubai  coffee_arabica  \\\n",
       "0             1  1960-01-01       1.63       1.63        0.940900   \n",
       "1             2  1960-02-01       1.63       1.63        0.946900   \n",
       "2             3  1960-03-01       1.63       1.63        0.928100   \n",
       "3             4  1960-04-01       1.63       1.63        0.930300   \n",
       "4             5  1960-05-01       1.63       1.63        0.920000   \n",
       "..          ...         ...        ...        ...             ...   \n",
       "751         752  2022-08-01      98.60      97.75        5.917861   \n",
       "752         753  2022-09-01      90.16      90.63        5.897138   \n",
       "753         754  2022-10-01      93.13      90.59        5.292852   \n",
       "754         755  2022-11-01      91.07      86.28        4.715462   \n",
       "755         756  2022-12-01      80.90      76.78        4.629482   \n",
       "\n",
       "     coffee_robustas  tea_columbo  tea_kolkata  tea_mombasa  sugar_eu  \\\n",
       "0           0.696864     0.930301     1.121401     1.037400  0.122356   \n",
       "1           0.688707     0.930301     1.121401     1.037400  0.122356   \n",
       "2           0.688707     0.930301     1.121401     1.037400  0.122356   \n",
       "3           0.684519     0.930301     1.121401     1.037400  0.122356   \n",
       "4           0.690692     0.930301     1.121401     1.037400  0.122356   \n",
       "..               ...          ...          ...          ...       ...   \n",
       "751         2.417366     4.210000     3.538154     2.360000  0.330773   \n",
       "752         2.455065     4.490000     3.153198     2.360000  0.323621   \n",
       "753         2.270979     4.135621     2.833112     2.457500  0.320943   \n",
       "754         2.041258     3.831528     2.849979     2.490000  0.332993   \n",
       "755         2.045446     3.994073     2.421516     2.386667  0.345729   \n",
       "\n",
       "     sugar_us  sugar_world  \n",
       "0    0.116845     0.066600  \n",
       "1    0.119049     0.067900  \n",
       "2    0.121254     0.068300  \n",
       "3    0.123459     0.068100  \n",
       "4    0.121254     0.068300  \n",
       "..        ...          ...  \n",
       "751  0.782199     0.393525  \n",
       "752  0.770956     0.390659  \n",
       "753  0.762578     0.386911  \n",
       "754  0.792340     0.407414  \n",
       "755  0.805127     0.417335  \n",
       "\n",
       "[756 rows x 12 columns]"
      ]
     },
     "execution_count": 4,
     "metadata": {},
     "output_type": "execute_result"
    }
   ],
   "source": [
    "df"
   ]
  },
  {
   "cell_type": "markdown",
   "id": "98a0c146",
   "metadata": {},
   "source": [
    "The problem is to analyze commodity prices for various commodities using the commodity\n",
    "prices dataset. The goal is to leverage Python, data science techniques, statistical analysis\n",
    "and data modeling. Perform all necessary steps to get the key insights from the data."
   ]
  },
  {
   "cell_type": "markdown",
   "id": "5c60b82a",
   "metadata": {},
   "source": [
    "This dataset contains monthly commodity prices from 1960 to 2022. The commodity prices\n",
    "dataset includes the following attributes:\n",
    "    \n",
    "Attributes Description\n",
    "\n",
    "date The date of the recorded commodity price\n",
    "\n",
    "oil_brent The price of Brent oil ($/bbl)\n",
    "\n",
    "Oil_Dubai The price of Dubai oil ($/bbl)\n",
    "\n",
    "Coffee_Arabica The price of Arabica coffee ($/kg)\n",
    "\n",
    "Coffee_Robustas The price of Robusta coffee ($/kg)\n",
    "\n",
    "Tea_Columbo The price of Columbo tea ($/kg)\n",
    "\n",
    "Tea_Kolkata The price of Kolkata tea ($/kg)\n",
    "\n",
    "Tea_Mombasa The price of Mombasa tea ($/kg)\n",
    "\n",
    "Sugar_EU The price of EU sugar ($/kg)\n",
    "\n",
    "Sugar_US The price of US sugar ($/kg)\n",
    "\n",
    "Sugar_World The price of global sugar ($/kg)"
   ]
  },
  {
   "cell_type": "code",
   "execution_count": 5,
   "id": "cc673ac4",
   "metadata": {},
   "outputs": [
    {
     "data": {
      "text/html": [
       "<div>\n",
       "<style scoped>\n",
       "    .dataframe tbody tr th:only-of-type {\n",
       "        vertical-align: middle;\n",
       "    }\n",
       "\n",
       "    .dataframe tbody tr th {\n",
       "        vertical-align: top;\n",
       "    }\n",
       "\n",
       "    .dataframe thead th {\n",
       "        text-align: right;\n",
       "    }\n",
       "</style>\n",
       "<table border=\"1\" class=\"dataframe\">\n",
       "  <thead>\n",
       "    <tr style=\"text-align: right;\">\n",
       "      <th></th>\n",
       "      <th>Unnamed: 0</th>\n",
       "      <th>date</th>\n",
       "      <th>oil_brent</th>\n",
       "      <th>oil_dubai</th>\n",
       "      <th>coffee_arabica</th>\n",
       "      <th>coffee_robustas</th>\n",
       "      <th>tea_columbo</th>\n",
       "      <th>tea_kolkata</th>\n",
       "      <th>tea_mombasa</th>\n",
       "      <th>sugar_eu</th>\n",
       "      <th>sugar_us</th>\n",
       "      <th>sugar_world</th>\n",
       "    </tr>\n",
       "  </thead>\n",
       "  <tbody>\n",
       "    <tr>\n",
       "      <th>0</th>\n",
       "      <td>1</td>\n",
       "      <td>1960-01-01</td>\n",
       "      <td>1.63</td>\n",
       "      <td>1.63</td>\n",
       "      <td>0.9409</td>\n",
       "      <td>0.696864</td>\n",
       "      <td>0.930301</td>\n",
       "      <td>1.121401</td>\n",
       "      <td>1.0374</td>\n",
       "      <td>0.122356</td>\n",
       "      <td>0.116845</td>\n",
       "      <td>0.0666</td>\n",
       "    </tr>\n",
       "    <tr>\n",
       "      <th>1</th>\n",
       "      <td>2</td>\n",
       "      <td>1960-02-01</td>\n",
       "      <td>1.63</td>\n",
       "      <td>1.63</td>\n",
       "      <td>0.9469</td>\n",
       "      <td>0.688707</td>\n",
       "      <td>0.930301</td>\n",
       "      <td>1.121401</td>\n",
       "      <td>1.0374</td>\n",
       "      <td>0.122356</td>\n",
       "      <td>0.119049</td>\n",
       "      <td>0.0679</td>\n",
       "    </tr>\n",
       "    <tr>\n",
       "      <th>2</th>\n",
       "      <td>3</td>\n",
       "      <td>1960-03-01</td>\n",
       "      <td>1.63</td>\n",
       "      <td>1.63</td>\n",
       "      <td>0.9281</td>\n",
       "      <td>0.688707</td>\n",
       "      <td>0.930301</td>\n",
       "      <td>1.121401</td>\n",
       "      <td>1.0374</td>\n",
       "      <td>0.122356</td>\n",
       "      <td>0.121254</td>\n",
       "      <td>0.0683</td>\n",
       "    </tr>\n",
       "    <tr>\n",
       "      <th>3</th>\n",
       "      <td>4</td>\n",
       "      <td>1960-04-01</td>\n",
       "      <td>1.63</td>\n",
       "      <td>1.63</td>\n",
       "      <td>0.9303</td>\n",
       "      <td>0.684519</td>\n",
       "      <td>0.930301</td>\n",
       "      <td>1.121401</td>\n",
       "      <td>1.0374</td>\n",
       "      <td>0.122356</td>\n",
       "      <td>0.123459</td>\n",
       "      <td>0.0681</td>\n",
       "    </tr>\n",
       "    <tr>\n",
       "      <th>4</th>\n",
       "      <td>5</td>\n",
       "      <td>1960-05-01</td>\n",
       "      <td>1.63</td>\n",
       "      <td>1.63</td>\n",
       "      <td>0.9200</td>\n",
       "      <td>0.690692</td>\n",
       "      <td>0.930301</td>\n",
       "      <td>1.121401</td>\n",
       "      <td>1.0374</td>\n",
       "      <td>0.122356</td>\n",
       "      <td>0.121254</td>\n",
       "      <td>0.0683</td>\n",
       "    </tr>\n",
       "  </tbody>\n",
       "</table>\n",
       "</div>"
      ],
      "text/plain": [
       "   Unnamed: 0        date  oil_brent  oil_dubai  coffee_arabica  \\\n",
       "0           1  1960-01-01       1.63       1.63          0.9409   \n",
       "1           2  1960-02-01       1.63       1.63          0.9469   \n",
       "2           3  1960-03-01       1.63       1.63          0.9281   \n",
       "3           4  1960-04-01       1.63       1.63          0.9303   \n",
       "4           5  1960-05-01       1.63       1.63          0.9200   \n",
       "\n",
       "   coffee_robustas  tea_columbo  tea_kolkata  tea_mombasa  sugar_eu  sugar_us  \\\n",
       "0         0.696864     0.930301     1.121401       1.0374  0.122356  0.116845   \n",
       "1         0.688707     0.930301     1.121401       1.0374  0.122356  0.119049   \n",
       "2         0.688707     0.930301     1.121401       1.0374  0.122356  0.121254   \n",
       "3         0.684519     0.930301     1.121401       1.0374  0.122356  0.123459   \n",
       "4         0.690692     0.930301     1.121401       1.0374  0.122356  0.121254   \n",
       "\n",
       "   sugar_world  \n",
       "0       0.0666  \n",
       "1       0.0679  \n",
       "2       0.0683  \n",
       "3       0.0681  \n",
       "4       0.0683  "
      ]
     },
     "execution_count": 5,
     "metadata": {},
     "output_type": "execute_result"
    }
   ],
   "source": [
    "df.head()"
   ]
  },
  {
   "cell_type": "code",
   "execution_count": 6,
   "id": "899f4788",
   "metadata": {},
   "outputs": [
    {
     "data": {
      "text/html": [
       "<div>\n",
       "<style scoped>\n",
       "    .dataframe tbody tr th:only-of-type {\n",
       "        vertical-align: middle;\n",
       "    }\n",
       "\n",
       "    .dataframe tbody tr th {\n",
       "        vertical-align: top;\n",
       "    }\n",
       "\n",
       "    .dataframe thead th {\n",
       "        text-align: right;\n",
       "    }\n",
       "</style>\n",
       "<table border=\"1\" class=\"dataframe\">\n",
       "  <thead>\n",
       "    <tr style=\"text-align: right;\">\n",
       "      <th></th>\n",
       "      <th>Unnamed: 0</th>\n",
       "      <th>date</th>\n",
       "      <th>oil_brent</th>\n",
       "      <th>oil_dubai</th>\n",
       "      <th>coffee_arabica</th>\n",
       "      <th>coffee_robustas</th>\n",
       "      <th>tea_columbo</th>\n",
       "      <th>tea_kolkata</th>\n",
       "      <th>tea_mombasa</th>\n",
       "      <th>sugar_eu</th>\n",
       "      <th>sugar_us</th>\n",
       "      <th>sugar_world</th>\n",
       "    </tr>\n",
       "  </thead>\n",
       "  <tbody>\n",
       "    <tr>\n",
       "      <th>751</th>\n",
       "      <td>752</td>\n",
       "      <td>2022-08-01</td>\n",
       "      <td>98.60</td>\n",
       "      <td>97.75</td>\n",
       "      <td>5.917861</td>\n",
       "      <td>2.417366</td>\n",
       "      <td>4.210000</td>\n",
       "      <td>3.538154</td>\n",
       "      <td>2.360000</td>\n",
       "      <td>0.330773</td>\n",
       "      <td>0.782199</td>\n",
       "      <td>0.393525</td>\n",
       "    </tr>\n",
       "    <tr>\n",
       "      <th>752</th>\n",
       "      <td>753</td>\n",
       "      <td>2022-09-01</td>\n",
       "      <td>90.16</td>\n",
       "      <td>90.63</td>\n",
       "      <td>5.897138</td>\n",
       "      <td>2.455065</td>\n",
       "      <td>4.490000</td>\n",
       "      <td>3.153198</td>\n",
       "      <td>2.360000</td>\n",
       "      <td>0.323621</td>\n",
       "      <td>0.770956</td>\n",
       "      <td>0.390659</td>\n",
       "    </tr>\n",
       "    <tr>\n",
       "      <th>753</th>\n",
       "      <td>754</td>\n",
       "      <td>2022-10-01</td>\n",
       "      <td>93.13</td>\n",
       "      <td>90.59</td>\n",
       "      <td>5.292852</td>\n",
       "      <td>2.270979</td>\n",
       "      <td>4.135621</td>\n",
       "      <td>2.833112</td>\n",
       "      <td>2.457500</td>\n",
       "      <td>0.320943</td>\n",
       "      <td>0.762578</td>\n",
       "      <td>0.386911</td>\n",
       "    </tr>\n",
       "    <tr>\n",
       "      <th>754</th>\n",
       "      <td>755</td>\n",
       "      <td>2022-11-01</td>\n",
       "      <td>91.07</td>\n",
       "      <td>86.28</td>\n",
       "      <td>4.715462</td>\n",
       "      <td>2.041258</td>\n",
       "      <td>3.831528</td>\n",
       "      <td>2.849979</td>\n",
       "      <td>2.490000</td>\n",
       "      <td>0.332993</td>\n",
       "      <td>0.792340</td>\n",
       "      <td>0.407414</td>\n",
       "    </tr>\n",
       "    <tr>\n",
       "      <th>755</th>\n",
       "      <td>756</td>\n",
       "      <td>2022-12-01</td>\n",
       "      <td>80.90</td>\n",
       "      <td>76.78</td>\n",
       "      <td>4.629482</td>\n",
       "      <td>2.045446</td>\n",
       "      <td>3.994073</td>\n",
       "      <td>2.421516</td>\n",
       "      <td>2.386667</td>\n",
       "      <td>0.345729</td>\n",
       "      <td>0.805127</td>\n",
       "      <td>0.417335</td>\n",
       "    </tr>\n",
       "  </tbody>\n",
       "</table>\n",
       "</div>"
      ],
      "text/plain": [
       "     Unnamed: 0        date  oil_brent  oil_dubai  coffee_arabica  \\\n",
       "751         752  2022-08-01      98.60      97.75        5.917861   \n",
       "752         753  2022-09-01      90.16      90.63        5.897138   \n",
       "753         754  2022-10-01      93.13      90.59        5.292852   \n",
       "754         755  2022-11-01      91.07      86.28        4.715462   \n",
       "755         756  2022-12-01      80.90      76.78        4.629482   \n",
       "\n",
       "     coffee_robustas  tea_columbo  tea_kolkata  tea_mombasa  sugar_eu  \\\n",
       "751         2.417366     4.210000     3.538154     2.360000  0.330773   \n",
       "752         2.455065     4.490000     3.153198     2.360000  0.323621   \n",
       "753         2.270979     4.135621     2.833112     2.457500  0.320943   \n",
       "754         2.041258     3.831528     2.849979     2.490000  0.332993   \n",
       "755         2.045446     3.994073     2.421516     2.386667  0.345729   \n",
       "\n",
       "     sugar_us  sugar_world  \n",
       "751  0.782199     0.393525  \n",
       "752  0.770956     0.390659  \n",
       "753  0.762578     0.386911  \n",
       "754  0.792340     0.407414  \n",
       "755  0.805127     0.417335  "
      ]
     },
     "execution_count": 6,
     "metadata": {},
     "output_type": "execute_result"
    }
   ],
   "source": [
    "df.tail()"
   ]
  },
  {
   "cell_type": "code",
   "execution_count": 8,
   "id": "b600459a",
   "metadata": {},
   "outputs": [
    {
     "data": {
      "text/plain": [
       "(756, 12)"
      ]
     },
     "execution_count": 8,
     "metadata": {},
     "output_type": "execute_result"
    }
   ],
   "source": [
    "df.shape"
   ]
  },
  {
   "cell_type": "code",
   "execution_count": null,
   "id": "8143f25d",
   "metadata": {},
   "outputs": [],
   "source": [
    "df=df.drop(columns=[\"Unnamed: 0\"])"
   ]
  },
  {
   "cell_type": "code",
   "execution_count": 22,
   "id": "c5bdfdf1",
   "metadata": {},
   "outputs": [
    {
     "data": {
      "text/html": [
       "<div>\n",
       "<style scoped>\n",
       "    .dataframe tbody tr th:only-of-type {\n",
       "        vertical-align: middle;\n",
       "    }\n",
       "\n",
       "    .dataframe tbody tr th {\n",
       "        vertical-align: top;\n",
       "    }\n",
       "\n",
       "    .dataframe thead th {\n",
       "        text-align: right;\n",
       "    }\n",
       "</style>\n",
       "<table border=\"1\" class=\"dataframe\">\n",
       "  <thead>\n",
       "    <tr style=\"text-align: right;\">\n",
       "      <th></th>\n",
       "      <th>date</th>\n",
       "      <th>oil_brent</th>\n",
       "      <th>oil_dubai</th>\n",
       "      <th>coffee_arabica</th>\n",
       "      <th>coffee_robustas</th>\n",
       "      <th>tea_columbo</th>\n",
       "      <th>tea_kolkata</th>\n",
       "      <th>tea_mombasa</th>\n",
       "      <th>sugar_eu</th>\n",
       "      <th>sugar_us</th>\n",
       "      <th>sugar_world</th>\n",
       "    </tr>\n",
       "  </thead>\n",
       "  <tbody>\n",
       "    <tr>\n",
       "      <th>0</th>\n",
       "      <td>1960-01-01</td>\n",
       "      <td>1.63</td>\n",
       "      <td>1.63</td>\n",
       "      <td>0.940900</td>\n",
       "      <td>0.696864</td>\n",
       "      <td>0.930301</td>\n",
       "      <td>1.121401</td>\n",
       "      <td>1.037400</td>\n",
       "      <td>0.122356</td>\n",
       "      <td>0.116845</td>\n",
       "      <td>0.066600</td>\n",
       "    </tr>\n",
       "    <tr>\n",
       "      <th>1</th>\n",
       "      <td>1960-02-01</td>\n",
       "      <td>1.63</td>\n",
       "      <td>1.63</td>\n",
       "      <td>0.946900</td>\n",
       "      <td>0.688707</td>\n",
       "      <td>0.930301</td>\n",
       "      <td>1.121401</td>\n",
       "      <td>1.037400</td>\n",
       "      <td>0.122356</td>\n",
       "      <td>0.119049</td>\n",
       "      <td>0.067900</td>\n",
       "    </tr>\n",
       "    <tr>\n",
       "      <th>2</th>\n",
       "      <td>1960-03-01</td>\n",
       "      <td>1.63</td>\n",
       "      <td>1.63</td>\n",
       "      <td>0.928100</td>\n",
       "      <td>0.688707</td>\n",
       "      <td>0.930301</td>\n",
       "      <td>1.121401</td>\n",
       "      <td>1.037400</td>\n",
       "      <td>0.122356</td>\n",
       "      <td>0.121254</td>\n",
       "      <td>0.068300</td>\n",
       "    </tr>\n",
       "    <tr>\n",
       "      <th>3</th>\n",
       "      <td>1960-04-01</td>\n",
       "      <td>1.63</td>\n",
       "      <td>1.63</td>\n",
       "      <td>0.930300</td>\n",
       "      <td>0.684519</td>\n",
       "      <td>0.930301</td>\n",
       "      <td>1.121401</td>\n",
       "      <td>1.037400</td>\n",
       "      <td>0.122356</td>\n",
       "      <td>0.123459</td>\n",
       "      <td>0.068100</td>\n",
       "    </tr>\n",
       "    <tr>\n",
       "      <th>4</th>\n",
       "      <td>1960-05-01</td>\n",
       "      <td>1.63</td>\n",
       "      <td>1.63</td>\n",
       "      <td>0.920000</td>\n",
       "      <td>0.690692</td>\n",
       "      <td>0.930301</td>\n",
       "      <td>1.121401</td>\n",
       "      <td>1.037400</td>\n",
       "      <td>0.122356</td>\n",
       "      <td>0.121254</td>\n",
       "      <td>0.068300</td>\n",
       "    </tr>\n",
       "    <tr>\n",
       "      <th>...</th>\n",
       "      <td>...</td>\n",
       "      <td>...</td>\n",
       "      <td>...</td>\n",
       "      <td>...</td>\n",
       "      <td>...</td>\n",
       "      <td>...</td>\n",
       "      <td>...</td>\n",
       "      <td>...</td>\n",
       "      <td>...</td>\n",
       "      <td>...</td>\n",
       "      <td>...</td>\n",
       "    </tr>\n",
       "    <tr>\n",
       "      <th>751</th>\n",
       "      <td>2022-08-01</td>\n",
       "      <td>98.60</td>\n",
       "      <td>97.75</td>\n",
       "      <td>5.917861</td>\n",
       "      <td>2.417366</td>\n",
       "      <td>4.210000</td>\n",
       "      <td>3.538154</td>\n",
       "      <td>2.360000</td>\n",
       "      <td>0.330773</td>\n",
       "      <td>0.782199</td>\n",
       "      <td>0.393525</td>\n",
       "    </tr>\n",
       "    <tr>\n",
       "      <th>752</th>\n",
       "      <td>2022-09-01</td>\n",
       "      <td>90.16</td>\n",
       "      <td>90.63</td>\n",
       "      <td>5.897138</td>\n",
       "      <td>2.455065</td>\n",
       "      <td>4.490000</td>\n",
       "      <td>3.153198</td>\n",
       "      <td>2.360000</td>\n",
       "      <td>0.323621</td>\n",
       "      <td>0.770956</td>\n",
       "      <td>0.390659</td>\n",
       "    </tr>\n",
       "    <tr>\n",
       "      <th>753</th>\n",
       "      <td>2022-10-01</td>\n",
       "      <td>93.13</td>\n",
       "      <td>90.59</td>\n",
       "      <td>5.292852</td>\n",
       "      <td>2.270979</td>\n",
       "      <td>4.135621</td>\n",
       "      <td>2.833112</td>\n",
       "      <td>2.457500</td>\n",
       "      <td>0.320943</td>\n",
       "      <td>0.762578</td>\n",
       "      <td>0.386911</td>\n",
       "    </tr>\n",
       "    <tr>\n",
       "      <th>754</th>\n",
       "      <td>2022-11-01</td>\n",
       "      <td>91.07</td>\n",
       "      <td>86.28</td>\n",
       "      <td>4.715462</td>\n",
       "      <td>2.041258</td>\n",
       "      <td>3.831528</td>\n",
       "      <td>2.849979</td>\n",
       "      <td>2.490000</td>\n",
       "      <td>0.332993</td>\n",
       "      <td>0.792340</td>\n",
       "      <td>0.407414</td>\n",
       "    </tr>\n",
       "    <tr>\n",
       "      <th>755</th>\n",
       "      <td>2022-12-01</td>\n",
       "      <td>80.90</td>\n",
       "      <td>76.78</td>\n",
       "      <td>4.629482</td>\n",
       "      <td>2.045446</td>\n",
       "      <td>3.994073</td>\n",
       "      <td>2.421516</td>\n",
       "      <td>2.386667</td>\n",
       "      <td>0.345729</td>\n",
       "      <td>0.805127</td>\n",
       "      <td>0.417335</td>\n",
       "    </tr>\n",
       "  </tbody>\n",
       "</table>\n",
       "<p>756 rows × 11 columns</p>\n",
       "</div>"
      ],
      "text/plain": [
       "          date  oil_brent  oil_dubai  coffee_arabica  coffee_robustas  \\\n",
       "0   1960-01-01       1.63       1.63        0.940900         0.696864   \n",
       "1   1960-02-01       1.63       1.63        0.946900         0.688707   \n",
       "2   1960-03-01       1.63       1.63        0.928100         0.688707   \n",
       "3   1960-04-01       1.63       1.63        0.930300         0.684519   \n",
       "4   1960-05-01       1.63       1.63        0.920000         0.690692   \n",
       "..         ...        ...        ...             ...              ...   \n",
       "751 2022-08-01      98.60      97.75        5.917861         2.417366   \n",
       "752 2022-09-01      90.16      90.63        5.897138         2.455065   \n",
       "753 2022-10-01      93.13      90.59        5.292852         2.270979   \n",
       "754 2022-11-01      91.07      86.28        4.715462         2.041258   \n",
       "755 2022-12-01      80.90      76.78        4.629482         2.045446   \n",
       "\n",
       "     tea_columbo  tea_kolkata  tea_mombasa  sugar_eu  sugar_us  sugar_world  \n",
       "0       0.930301     1.121401     1.037400  0.122356  0.116845     0.066600  \n",
       "1       0.930301     1.121401     1.037400  0.122356  0.119049     0.067900  \n",
       "2       0.930301     1.121401     1.037400  0.122356  0.121254     0.068300  \n",
       "3       0.930301     1.121401     1.037400  0.122356  0.123459     0.068100  \n",
       "4       0.930301     1.121401     1.037400  0.122356  0.121254     0.068300  \n",
       "..           ...          ...          ...       ...       ...          ...  \n",
       "751     4.210000     3.538154     2.360000  0.330773  0.782199     0.393525  \n",
       "752     4.490000     3.153198     2.360000  0.323621  0.770956     0.390659  \n",
       "753     4.135621     2.833112     2.457500  0.320943  0.762578     0.386911  \n",
       "754     3.831528     2.849979     2.490000  0.332993  0.792340     0.407414  \n",
       "755     3.994073     2.421516     2.386667  0.345729  0.805127     0.417335  \n",
       "\n",
       "[756 rows x 11 columns]"
      ]
     },
     "execution_count": 22,
     "metadata": {},
     "output_type": "execute_result"
    }
   ],
   "source": [
    "df"
   ]
  },
  {
   "cell_type": "code",
   "execution_count": 23,
   "id": "0a3f7750",
   "metadata": {},
   "outputs": [
    {
     "data": {
      "text/plain": [
       "date               0\n",
       "oil_brent          0\n",
       "oil_dubai          0\n",
       "coffee_arabica     0\n",
       "coffee_robustas    0\n",
       "tea_columbo        0\n",
       "tea_kolkata        0\n",
       "tea_mombasa        0\n",
       "sugar_eu           0\n",
       "sugar_us           0\n",
       "sugar_world        0\n",
       "dtype: int64"
      ]
     },
     "execution_count": 23,
     "metadata": {},
     "output_type": "execute_result"
    }
   ],
   "source": [
    "df.isnull().sum()"
   ]
  },
  {
   "cell_type": "code",
   "execution_count": 24,
   "id": "bcbe48ae",
   "metadata": {},
   "outputs": [],
   "source": [
    "#  if any null value\n",
    "  #1 -- droping the null value   df=df.dropna()\n",
    "    \n",
    "  #2 -- filling the null values\n",
    "\n",
    "\n",
    "\n",
    "#df=df[\"oil_dubai\"].fillna(23.67)  # manualy\n",
    "\n",
    "#df=df[\"oil_dubai\"].fillna(x)"
   ]
  },
  {
   "cell_type": "code",
   "execution_count": 25,
   "id": "16d3d7a3",
   "metadata": {},
   "outputs": [],
   "source": [
    "#x=df[\"oil_dubai\"].mean()"
   ]
  },
  {
   "cell_type": "code",
   "execution_count": 26,
   "id": "e3205257",
   "metadata": {},
   "outputs": [
    {
     "name": "stdout",
     "output_type": "stream",
     "text": [
      "<class 'pandas.core.frame.DataFrame'>\n",
      "RangeIndex: 756 entries, 0 to 755\n",
      "Data columns (total 11 columns):\n",
      " #   Column           Non-Null Count  Dtype         \n",
      "---  ------           --------------  -----         \n",
      " 0   date             756 non-null    datetime64[ns]\n",
      " 1   oil_brent        756 non-null    float64       \n",
      " 2   oil_dubai        756 non-null    float64       \n",
      " 3   coffee_arabica   756 non-null    float64       \n",
      " 4   coffee_robustas  756 non-null    float64       \n",
      " 5   tea_columbo      756 non-null    float64       \n",
      " 6   tea_kolkata      756 non-null    float64       \n",
      " 7   tea_mombasa      756 non-null    float64       \n",
      " 8   sugar_eu         756 non-null    float64       \n",
      " 9   sugar_us         756 non-null    float64       \n",
      " 10  sugar_world      756 non-null    float64       \n",
      "dtypes: datetime64[ns](1), float64(10)\n",
      "memory usage: 65.1 KB\n"
     ]
    }
   ],
   "source": [
    "df.info()"
   ]
  },
  {
   "cell_type": "code",
   "execution_count": 27,
   "id": "1b3edf84",
   "metadata": {},
   "outputs": [],
   "source": [
    "#\"-56-67-\"  --  datetime"
   ]
  },
  {
   "cell_type": "code",
   "execution_count": 28,
   "id": "3c82ee61",
   "metadata": {},
   "outputs": [],
   "source": [
    "df['date']=pd.to_datetime(df['date'],format=\"%Y-%m-%d\")"
   ]
  },
  {
   "cell_type": "code",
   "execution_count": 29,
   "id": "7ec3280e",
   "metadata": {},
   "outputs": [
    {
     "name": "stdout",
     "output_type": "stream",
     "text": [
      "<class 'pandas.core.frame.DataFrame'>\n",
      "RangeIndex: 756 entries, 0 to 755\n",
      "Data columns (total 11 columns):\n",
      " #   Column           Non-Null Count  Dtype         \n",
      "---  ------           --------------  -----         \n",
      " 0   date             756 non-null    datetime64[ns]\n",
      " 1   oil_brent        756 non-null    float64       \n",
      " 2   oil_dubai        756 non-null    float64       \n",
      " 3   coffee_arabica   756 non-null    float64       \n",
      " 4   coffee_robustas  756 non-null    float64       \n",
      " 5   tea_columbo      756 non-null    float64       \n",
      " 6   tea_kolkata      756 non-null    float64       \n",
      " 7   tea_mombasa      756 non-null    float64       \n",
      " 8   sugar_eu         756 non-null    float64       \n",
      " 9   sugar_us         756 non-null    float64       \n",
      " 10  sugar_world      756 non-null    float64       \n",
      "dtypes: datetime64[ns](1), float64(10)\n",
      "memory usage: 65.1 KB\n"
     ]
    }
   ],
   "source": [
    "df.info()"
   ]
  },
  {
   "cell_type": "code",
   "execution_count": null,
   "id": "52948ed4",
   "metadata": {},
   "outputs": [],
   "source": [
    "#1) What is the maximum price of Robusta coffee ?"
   ]
  },
  {
   "cell_type": "code",
   "execution_count": 30,
   "id": "42e8c795",
   "metadata": {},
   "outputs": [
    {
     "data": {
      "text/plain": [
       "6.883547"
      ]
     },
     "execution_count": 30,
     "metadata": {},
     "output_type": "execute_result"
    }
   ],
   "source": [
    "df[\"coffee_robustas\"].max()"
   ]
  },
  {
   "cell_type": "code",
   "execution_count": 31,
   "id": "c2e3c193",
   "metadata": {},
   "outputs": [],
   "source": [
    "#2) What is the 75th percentile of sugar prices in the European Union (EU)?\n",
    "\n",
    "sugar_eu_75=df[\"sugar_eu\"].quantile(0.75)"
   ]
  },
  {
   "cell_type": "code",
   "execution_count": 32,
   "id": "be34bc61",
   "metadata": {},
   "outputs": [
    {
     "data": {
      "text/plain": [
       "0.56951937998"
      ]
     },
     "execution_count": 32,
     "metadata": {},
     "output_type": "execute_result"
    }
   ],
   "source": [
    "sugar_eu_75"
   ]
  },
  {
   "cell_type": "code",
   "execution_count": 33,
   "id": "59b2c86b",
   "metadata": {},
   "outputs": [
    {
     "data": {
      "text/html": [
       "<div>\n",
       "<style scoped>\n",
       "    .dataframe tbody tr th:only-of-type {\n",
       "        vertical-align: middle;\n",
       "    }\n",
       "\n",
       "    .dataframe tbody tr th {\n",
       "        vertical-align: top;\n",
       "    }\n",
       "\n",
       "    .dataframe thead th {\n",
       "        text-align: right;\n",
       "    }\n",
       "</style>\n",
       "<table border=\"1\" class=\"dataframe\">\n",
       "  <thead>\n",
       "    <tr style=\"text-align: right;\">\n",
       "      <th></th>\n",
       "      <th>oil_brent</th>\n",
       "      <th>oil_dubai</th>\n",
       "      <th>coffee_arabica</th>\n",
       "      <th>coffee_robustas</th>\n",
       "      <th>tea_columbo</th>\n",
       "      <th>tea_kolkata</th>\n",
       "      <th>tea_mombasa</th>\n",
       "      <th>sugar_eu</th>\n",
       "      <th>sugar_us</th>\n",
       "      <th>sugar_world</th>\n",
       "    </tr>\n",
       "  </thead>\n",
       "  <tbody>\n",
       "    <tr>\n",
       "      <th>count</th>\n",
       "      <td>756.000000</td>\n",
       "      <td>756.000000</td>\n",
       "      <td>756.000000</td>\n",
       "      <td>756.000000</td>\n",
       "      <td>756.000000</td>\n",
       "      <td>756.000000</td>\n",
       "      <td>756.000000</td>\n",
       "      <td>756.000000</td>\n",
       "      <td>756.000000</td>\n",
       "      <td>756.000000</td>\n",
       "    </tr>\n",
       "    <tr>\n",
       "      <th>mean</th>\n",
       "      <td>32.724944</td>\n",
       "      <td>31.238130</td>\n",
       "      <td>2.576555</td>\n",
       "      <td>1.727478</td>\n",
       "      <td>1.777962</td>\n",
       "      <td>1.870308</td>\n",
       "      <td>1.671222</td>\n",
       "      <td>0.405158</td>\n",
       "      <td>0.432462</td>\n",
       "      <td>0.240263</td>\n",
       "    </tr>\n",
       "    <tr>\n",
       "      <th>std</th>\n",
       "      <td>31.885368</td>\n",
       "      <td>30.936611</td>\n",
       "      <td>1.342454</td>\n",
       "      <td>0.940748</td>\n",
       "      <td>1.008679</td>\n",
       "      <td>0.697867</td>\n",
       "      <td>0.615357</td>\n",
       "      <td>0.187741</td>\n",
       "      <td>0.188589</td>\n",
       "      <td>0.151947</td>\n",
       "    </tr>\n",
       "    <tr>\n",
       "      <th>min</th>\n",
       "      <td>1.210000</td>\n",
       "      <td>1.210000</td>\n",
       "      <td>0.777600</td>\n",
       "      <td>0.487210</td>\n",
       "      <td>0.434198</td>\n",
       "      <td>0.664799</td>\n",
       "      <td>0.719600</td>\n",
       "      <td>0.112215</td>\n",
       "      <td>0.116845</td>\n",
       "      <td>0.028700</td>\n",
       "    </tr>\n",
       "    <tr>\n",
       "      <th>25%</th>\n",
       "      <td>10.564999</td>\n",
       "      <td>10.452500</td>\n",
       "      <td>1.351625</td>\n",
       "      <td>0.923053</td>\n",
       "      <td>0.892501</td>\n",
       "      <td>1.297369</td>\n",
       "      <td>1.136800</td>\n",
       "      <td>0.298120</td>\n",
       "      <td>0.297624</td>\n",
       "      <td>0.139705</td>\n",
       "    </tr>\n",
       "    <tr>\n",
       "      <th>50%</th>\n",
       "      <td>20.489130</td>\n",
       "      <td>18.550000</td>\n",
       "      <td>2.697794</td>\n",
       "      <td>1.632172</td>\n",
       "      <td>1.504001</td>\n",
       "      <td>1.850612</td>\n",
       "      <td>1.598257</td>\n",
       "      <td>0.402343</td>\n",
       "      <td>0.471119</td>\n",
       "      <td>0.215285</td>\n",
       "    </tr>\n",
       "    <tr>\n",
       "      <th>75%</th>\n",
       "      <td>47.157500</td>\n",
       "      <td>45.576023</td>\n",
       "      <td>3.312950</td>\n",
       "      <td>2.282200</td>\n",
       "      <td>2.515204</td>\n",
       "      <td>2.376899</td>\n",
       "      <td>2.083830</td>\n",
       "      <td>0.569519</td>\n",
       "      <td>0.512188</td>\n",
       "      <td>0.309325</td>\n",
       "    </tr>\n",
       "    <tr>\n",
       "      <th>max</th>\n",
       "      <td>133.873043</td>\n",
       "      <td>131.224783</td>\n",
       "      <td>7.003600</td>\n",
       "      <td>6.883547</td>\n",
       "      <td>4.490000</td>\n",
       "      <td>4.073011</td>\n",
       "      <td>3.392500</td>\n",
       "      <td>0.783171</td>\n",
       "      <td>1.263247</td>\n",
       "      <td>1.237700</td>\n",
       "    </tr>\n",
       "  </tbody>\n",
       "</table>\n",
       "</div>"
      ],
      "text/plain": [
       "        oil_brent   oil_dubai  coffee_arabica  coffee_robustas  tea_columbo  \\\n",
       "count  756.000000  756.000000      756.000000       756.000000   756.000000   \n",
       "mean    32.724944   31.238130        2.576555         1.727478     1.777962   \n",
       "std     31.885368   30.936611        1.342454         0.940748     1.008679   \n",
       "min      1.210000    1.210000        0.777600         0.487210     0.434198   \n",
       "25%     10.564999   10.452500        1.351625         0.923053     0.892501   \n",
       "50%     20.489130   18.550000        2.697794         1.632172     1.504001   \n",
       "75%     47.157500   45.576023        3.312950         2.282200     2.515204   \n",
       "max    133.873043  131.224783        7.003600         6.883547     4.490000   \n",
       "\n",
       "       tea_kolkata  tea_mombasa    sugar_eu    sugar_us  sugar_world  \n",
       "count   756.000000   756.000000  756.000000  756.000000   756.000000  \n",
       "mean      1.870308     1.671222    0.405158    0.432462     0.240263  \n",
       "std       0.697867     0.615357    0.187741    0.188589     0.151947  \n",
       "min       0.664799     0.719600    0.112215    0.116845     0.028700  \n",
       "25%       1.297369     1.136800    0.298120    0.297624     0.139705  \n",
       "50%       1.850612     1.598257    0.402343    0.471119     0.215285  \n",
       "75%       2.376899     2.083830    0.569519    0.512188     0.309325  \n",
       "max       4.073011     3.392500    0.783171    1.263247     1.237700  "
      ]
     },
     "execution_count": 33,
     "metadata": {},
     "output_type": "execute_result"
    }
   ],
   "source": [
    "df.describe()"
   ]
  },
  {
   "cell_type": "code",
   "execution_count": null,
   "id": "d2bde682",
   "metadata": {},
   "outputs": [],
   "source": [
    "# 3) What is the skewness of the price distribution for Arabica coffee?"
   ]
  },
  {
   "cell_type": "code",
   "execution_count": null,
   "id": "fc9f4938",
   "metadata": {},
   "outputs": [],
   "source": [
    "#     skew()"
   ]
  },
  {
   "cell_type": "code",
   "execution_count": 36,
   "id": "a1f806ac",
   "metadata": {},
   "outputs": [
    {
     "data": {
      "text/plain": [
       "0.5903976942861767"
      ]
     },
     "execution_count": 36,
     "metadata": {},
     "output_type": "execute_result"
    }
   ],
   "source": [
    "df['coffee_arabica'].skew()"
   ]
  },
  {
   "cell_type": "code",
   "execution_count": 35,
   "id": "d66712a1",
   "metadata": {},
   "outputs": [
    {
     "data": {
      "text/plain": [
       "0.5903976942861767"
      ]
     },
     "execution_count": 35,
     "metadata": {},
     "output_type": "execute_result"
    }
   ],
   "source": [
    "skewness   # right skewd data\n"
   ]
  },
  {
   "cell_type": "code",
   "execution_count": 38,
   "id": "5cda638f",
   "metadata": {},
   "outputs": [
    {
     "data": {
      "text/plain": [
       "[<matplotlib.lines.Line2D at 0x1aeda168460>]"
      ]
     },
     "execution_count": 38,
     "metadata": {},
     "output_type": "execute_result"
    },
    {
     "data": {
      "image/png": "[encoded data removed]",
      "text/plain": [
       "<Figure size 640x480 with 1 Axes>"
      ]
     },
     "metadata": {},
     "output_type": "display_data"
    }
   ],
   "source": [
    "plt.plot(df[\"coffee_arabica\"].head(20))"
   ]
  },
  {
   "cell_type": "code",
   "execution_count": 40,
   "id": "3b4416a7",
   "metadata": {},
   "outputs": [
    {
     "data": {
      "text/plain": [
       "0.8891"
      ]
     },
     "execution_count": 40,
     "metadata": {},
     "output_type": "execute_result"
    }
   ],
   "source": [
    "df[\"coffee_arabica\"].mode()[0]"
   ]
  },
  {
   "cell_type": "code",
   "execution_count": 41,
   "id": "aa0a04cc",
   "metadata": {},
   "outputs": [
    {
     "data": {
      "text/plain": [
       "2.6977944369999998"
      ]
     },
     "execution_count": 41,
     "metadata": {},
     "output_type": "execute_result"
    }
   ],
   "source": [
    "df[\"coffee_arabica\"].median()"
   ]
  },
  {
   "cell_type": "code",
   "execution_count": 42,
   "id": "fed8e365",
   "metadata": {},
   "outputs": [
    {
     "data": {
      "text/plain": [
       "2.576554794940582"
      ]
     },
     "execution_count": 42,
     "metadata": {},
     "output_type": "execute_result"
    }
   ],
   "source": [
    "df[\"coffee_arabica\"].mean()"
   ]
  },
  {
   "cell_type": "code",
   "execution_count": 43,
   "id": "243abdf1",
   "metadata": {},
   "outputs": [],
   "source": [
    "# Q4) Is the distribution of sugar prices in the US significantly different from a normal distribution?"
   ]
  },
  {
   "cell_type": "code",
   "execution_count": 57,
   "id": "a6627f05",
   "metadata": {},
   "outputs": [],
   "source": [
    "#Null Hypothesis (H0): The distribution of sugar prices in the US follows a normal distribution.\n",
    "\n",
    "#Alternative Hypothesis (H1): The distribution of sugar prices in the US does not follow a normal\n",
    "#distribution."
   ]
  },
  {
   "cell_type": "code",
   "execution_count": 56,
   "id": "11dd1337",
   "metadata": {},
   "outputs": [
    {
     "data": {
      "text/plain": [
       "0.39009821516930415"
      ]
     },
     "execution_count": 56,
     "metadata": {},
     "output_type": "execute_result"
    }
   ],
   "source": [
    "from scipy import stats\n",
    "us_sugar=df[\"sugar_us\"]\n",
    "test,p=stats.normaltest(us_sugar)\n",
    "p"
   ]
  },
  {
   "cell_type": "code",
   "execution_count": 58,
   "id": "a79c93e6",
   "metadata": {},
   "outputs": [
    {
     "name": "stdout",
     "output_type": "stream",
     "text": [
      "Null\n"
     ]
    }
   ],
   "source": [
    "if p<0.05:\n",
    "    print(\"Alternate\")\n",
    "else:\n",
    "    print(\"Null\")"
   ]
  },
  {
   "cell_type": "markdown",
   "id": "6c2de6b0",
   "metadata": {},
   "source": [
    "5)Which commodity experienced the highest price fluctuations during the observed period?"
   ]
  },
  {
   "cell_type": "code",
   "execution_count": 59,
   "id": "44f7f4de",
   "metadata": {},
   "outputs": [
    {
     "data": {
      "text/plain": [
       "Index(['date', 'oil_brent', 'oil_dubai', 'coffee_arabica', 'coffee_robustas',\n",
       "       'tea_columbo', 'tea_kolkata', 'tea_mombasa', 'sugar_eu', 'sugar_us',\n",
       "       'sugar_world'],\n",
       "      dtype='object')"
      ]
     },
     "execution_count": 59,
     "metadata": {},
     "output_type": "execute_result"
    }
   ],
   "source": [
    "# create a vairable with all the coulumns\n",
    "# run a for loop and find Max()-Min() for each coulmn\n",
    "# find the highest fluctuation value\n",
    "\n",
    "df.columns"
   ]
  },
  {
   "cell_type": "code",
   "execution_count": 60,
   "id": "d9a4ee24",
   "metadata": {},
   "outputs": [],
   "source": [
    "a=['oil_brent', 'oil_dubai', 'coffee_arabica', 'coffee_robustas',\n",
    "       'tea_columbo', 'tea_kolkata', 'tea_mombasa', 'sugar_eu', 'sugar_us',\n",
    "       'sugar_world']"
   ]
  },
  {
   "cell_type": "code",
   "execution_count": 70,
   "id": "36bf8e2c",
   "metadata": {},
   "outputs": [
    {
     "data": {
      "text/plain": [
       "132.66304347826"
      ]
     },
     "execution_count": 70,
     "metadata": {},
     "output_type": "execute_result"
    }
   ],
   "source": [
    "l=[]\n",
    "for i in a:\n",
    "    x=df[i].max()-df[i].min()\n",
    "    l.append(x)\n",
    "    \n",
    "l.sort()\n",
    "l[-1]"
   ]
  },
  {
   "cell_type": "code",
   "execution_count": 72,
   "id": "98324bea",
   "metadata": {},
   "outputs": [
    {
     "data": {
      "image/png": "[encoded data removed]",
      "text/plain": [
       "<Figure size 640x480 with 1 Axes>"
      ]
     },
     "metadata": {},
     "output_type": "display_data"
    }
   ],
   "source": [
    "# oil_brent\n",
    "\n",
    "#6 What is the overall price trend for each commodity ?\n",
    "plt.plot(df[\"oil_brent\"])\n",
    "plt.show()"
   ]
  },
  {
   "cell_type": "code",
   "execution_count": null,
   "id": "fbf95c0d",
   "metadata": {},
   "outputs": [],
   "source": []
  }
 ],
 "metadata": {
  "kernelspec": {
   "display_name": "Python 3 (ipykernel)",
   "language": "python",
   "name": "python3"
  },
  "language_info": {
   "codemirror_mode": {
    "name": "ipython",
    "version": 3
   },
   "file_extension": ".py",
   "mimetype": "text/x-python",
   "name": "python",
   "nbconvert_exporter": "python",
   "pygments_lexer": "ipython3",
   "version": "3.10.9"
  }
 },
 "nbformat": 4,
 "nbformat_minor": 5
}
