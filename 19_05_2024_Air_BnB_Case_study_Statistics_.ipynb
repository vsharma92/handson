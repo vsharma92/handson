{
  "nbformat": 4,
  "nbformat_minor": 0,
  "metadata": {
    "colab": {
      "provenance": []
    },
    "kernelspec": {
      "name": "python3",
      "display_name": "Python 3"
    },
    "language_info": {
      "name": "python"
    }
  },
  "cells": [
    {
      "cell_type": "markdown",
      "source": [
        "##**AIR *BNB* ANALYSIS**"
      ],
      "metadata": {
        "id": "QJGmfWYZi2bK"
      }
    },
    {
      "cell_type": "code",
      "execution_count": null,
      "metadata": {
        "id": "LPsevZjUinSV"
      },
      "outputs": [],
      "source": [
        "# Loading important libraries\n",
        "import numpy as np\n",
        "import pandas as pd\n",
        "import matplotlib.pyplot as plt\n",
        "import seaborn as sns\n",
        "import warnings\n",
        "warnings.filterwarnings('ignore')"
      ]
    },
    {
      "cell_type": "code",
      "source": [
        "Airbnb_df = pd.read_csv('Airbnb_data.csv')\n",
        "Airbnb_df"
      ],
      "metadata": {
        "id": "2MLIIUI9jpnI"
      },
      "execution_count": null,
      "outputs": []
    },
    {
      "cell_type": "markdown",
      "source": [
        "##**About the Dataset – Airbnb Bookings**\n",
        "\n",
        "*   This Airbnb dataset contains nearly 49,000 observations from New York , with 16 columns of data.\n",
        "\n",
        "*   The Data includes both categorical and numeric values, providing a diverse range of information about the listings.\n",
        "\n",
        "*   This Dataset may be useful for analyzing trends and patterns in the Airbnb market in New York and also gain insights into the preferences and behavior of Airbnb users in the area.\n",
        "\n",
        "*   This dataset contains information about Airbnb bookings in New York City in 2019. By analyzing this data, you may be able to understand the trends and patterns of Airbnb use in the NYC."
      ],
      "metadata": {
        "id": "yXH313Iij7ZE"
      }
    },
    {
      "cell_type": "markdown",
      "source": [
        "##**UNDERSTAND THE GIVEN VARIABLES**\n",
        "\n",
        "**Listing_id :-** This is a unique identifier for each listing in the dataset.\n",
        "\n",
        "**Listing_name :-** This is the name or title of the listing, as it appears on the Airbnb website.\n",
        "\n",
        "**Host_id :-** This is a unique identifier for each host in the dataset.\n",
        "\n",
        "**Host_name :-** This is the name of the host as it appears on the Airbnb website.\n",
        "\n",
        "**Neighbourhood_group :-** This is a grouping of neighborhoods in New York City, such as Manhattan or Brooklyn.\n",
        "\n",
        "**Neighbourhood :-** This is the specific neighborhood in which the listing is located.\n",
        "\n",
        "**Latitude :-** This is the geographic latitude of the listing.\n",
        "\n",
        "**Longitude :-** This is the geographic longitude of the listing.\n",
        "\n",
        "**Room_type :-** This is the type of room or property being offered, such as an entire home, private room, shared room.\n",
        "\n",
        "**Price :-** This is the nightly price for the listing, in US dollars.\n",
        "\n",
        "**Minimum_nights :-** This is the minimum number of nights that a guest must stay at the listing.\n",
        "\n",
        "**Total_reviews :-** This is the total number of reviews that the listing has received.\n",
        "\n",
        "**Reviews_per_month :-** This is the average number of reviews that the listing receives per month.\n",
        "\n",
        "**last_Reviews :-** Date of Last review recieved for that listing\n",
        "\n",
        "**Host_listings_count :-** This is the total number of listings that the host has on Airbnb.\n",
        "\n",
        "**Availability_365 :-** This is the number of days in the next 365 days that the listing is available for booking."
      ],
      "metadata": {
        "id": "pxu7V39Cj_Q-"
      }
    },
    {
      "cell_type": "code",
      "source": [
        "Airbnb_df[\"neighbourhood_group\"].unique()"
      ],
      "metadata": {
        "id": "c34q4AK4jyg5"
      },
      "execution_count": null,
      "outputs": []
    },
    {
      "cell_type": "code",
      "source": [
        "Airbnb_df[\"room_type\"].unique()\n"
      ],
      "metadata": {
        "id": "rTeDBhSnlguc"
      },
      "execution_count": null,
      "outputs": []
    },
    {
      "cell_type": "markdown",
      "source": [
        "**Steps to be performed in this case study:**\n",
        "\n",
        "\n",
        "EDA (exploratory data  analysis)\n",
        "\n",
        "Visual Analysis\n",
        "\n",
        "Statistical Analysis"
      ],
      "metadata": {
        "id": "rDA8h6ZLn6Iw"
      }
    },
    {
      "cell_type": "code",
      "source": [
        "# EDA (exploratory data analysis)"
      ],
      "metadata": {
        "id": "1IXGqofSl_8n"
      },
      "execution_count": null,
      "outputs": []
    },
    {
      "cell_type": "code",
      "source": [
        "rename_col = {'id':'listing_id','name':'listing_name','number_of_reviews':'total_reviews','calculated_host_listings_count':'host_listings_count'}"
      ],
      "metadata": {
        "id": "totuiPMBoAWA"
      },
      "execution_count": null,
      "outputs": []
    },
    {
      "cell_type": "code",
      "source": [
        "# use a pandas function to rename the current columns\n",
        "Airbnb_df = Airbnb_df.rename(columns = rename_col)\n",
        "Airbnb_df"
      ],
      "metadata": {
        "id": "Rz6gPq1OoYWs"
      },
      "execution_count": null,
      "outputs": []
    },
    {
      "cell_type": "code",
      "source": [
        "Airbnb_df.isnull().sum()"
      ],
      "metadata": {
        "id": "TEe6V-NqoejA"
      },
      "execution_count": null,
      "outputs": []
    },
    {
      "cell_type": "code",
      "source": [
        "Airbnb_df.info()"
      ],
      "metadata": {
        "id": "QOLiU_ujon5N"
      },
      "execution_count": null,
      "outputs": []
    },
    {
      "cell_type": "code",
      "source": [
        "Airbnb_df=Airbnb_df.drop([\"last_review\"],axis=1)"
      ],
      "metadata": {
        "id": "wEjC8IK-pG7a"
      },
      "execution_count": null,
      "outputs": []
    },
    {
      "cell_type": "code",
      "source": [
        "Airbnb_df.isnull().sum()"
      ],
      "metadata": {
        "id": "cRXcnrH9psZN"
      },
      "execution_count": null,
      "outputs": []
    },
    {
      "cell_type": "code",
      "source": [
        "Airbnb_df[\"reviews_per_month\"]=Airbnb_df[\"reviews_per_month\"].fillna(0)"
      ],
      "metadata": {
        "id": "Mse2uHFOpvyg"
      },
      "execution_count": null,
      "outputs": []
    },
    {
      "cell_type": "code",
      "source": [
        "Airbnb_df.isnull().sum()\n"
      ],
      "metadata": {
        "id": "3125DKDxrObu"
      },
      "execution_count": null,
      "outputs": []
    },
    {
      "cell_type": "code",
      "source": [
        "Airbnb_df.dropna(inplace=True)"
      ],
      "metadata": {
        "id": "SbjelHeCrQSn"
      },
      "execution_count": null,
      "outputs": []
    },
    {
      "cell_type": "code",
      "source": [
        "Airbnb_df.isnull().sum()\n"
      ],
      "metadata": {
        "id": "QUYOFfu8sAGQ"
      },
      "execution_count": null,
      "outputs": []
    },
    {
      "cell_type": "code",
      "source": [
        "Airbnb_df"
      ],
      "metadata": {
        "id": "GWO8gftMsCQr"
      },
      "execution_count": null,
      "outputs": []
    },
    {
      "cell_type": "code",
      "source": [
        "# duplicate values\n",
        "Airbnb_df.duplicated().sum()"
      ],
      "metadata": {
        "id": "SEv6z0VRsicN"
      },
      "execution_count": null,
      "outputs": []
    },
    {
      "cell_type": "code",
      "source": [
        "Airbnb_df[\"price\"].value_counts()"
      ],
      "metadata": {
        "id": "6zHKsX85uxLP"
      },
      "execution_count": null,
      "outputs": []
    },
    {
      "cell_type": "code",
      "source": [
        "# Outlier Analysis for Price columns\n",
        "plt.boxplot(Airbnb_df[\"price\"])\n",
        "plt.show()"
      ],
      "metadata": {
        "id": "VmpY4UhpvkN1"
      },
      "execution_count": null,
      "outputs": []
    },
    {
      "cell_type": "code",
      "source": [
        "Q1=Airbnb_df[\"price\"].quantile(0.25)\n",
        "Q3=Airbnb_df[\"price\"].quantile(0.75)\n",
        "IQR=Q3-Q1"
      ],
      "metadata": {
        "id": "aWMnFU2ZvkQp"
      },
      "execution_count": null,
      "outputs": []
    },
    {
      "cell_type": "code",
      "source": [
        "uf=Q3+1.5*IQR\n",
        "lf=Q1-1.5*IQR\n",
        "print(uf,lf)\n"
      ],
      "metadata": {
        "id": "nlf_ngTfvkTX"
      },
      "execution_count": null,
      "outputs": []
    },
    {
      "cell_type": "code",
      "source": [
        "Airbnb_df=Airbnb_df[(Airbnb_df[\"price\"]<=uf) & (Airbnb_df[\"price\"]>=lf)]\n"
      ],
      "metadata": {
        "id": "YGp2FvUFvkWu"
      },
      "execution_count": null,
      "outputs": []
    },
    {
      "cell_type": "code",
      "source": [
        "Airbnb_df"
      ],
      "metadata": {
        "id": "yC-NsUP3xPi7"
      },
      "execution_count": null,
      "outputs": []
    },
    {
      "cell_type": "markdown",
      "source": [
        "## **Visual Analysis**"
      ],
      "metadata": {
        "id": "2g6lf8RKuFYm"
      }
    },
    {
      "cell_type": "code",
      "source": [
        "# Create a figure with a custom size\n",
        "plt.figure(figsize=(12, 5))\n",
        "\n",
        "\n",
        "# Create a histogram of the 'price' column of the Airbnb_df dataframe\n",
        "# using sns distplot function and specifying the color as red\n",
        "sns.distplot(Airbnb_df['price'],color=('r'))\n",
        "\n",
        "# Add labels to the x-axis and y-axis\n",
        "plt.xlabel('Price', fontsize=14)\n",
        "plt.ylabel('Density', fontsize=14)\n",
        "\n",
        "# Add a title to the plot\n",
        "plt.title('Distribution of Airbnb Prices',fontsize=15)"
      ],
      "metadata": {
        "id": "YuBqPSDusoS_"
      },
      "execution_count": null,
      "outputs": []
    },
    {
      "cell_type": "markdown",
      "source": [
        "**Inferences**\n",
        "\n",
        "-> Most Price is between 40 and 100\n",
        "\n",
        "-> As the price increased the density is decreasing\n"
      ],
      "metadata": {
        "id": "KrxxTh0bQEFe"
      }
    },
    {
      "cell_type": "code",
      "source": [
        "# Set the figure size\n",
        "plt.figure(figsize=(12, 8))\n",
        "\n",
        "# Create a countplot of the neighbourhood group data\n",
        "sns.countplot(data=Airbnb_df, x='neighbourhood_group')\n",
        "\n",
        "# Set the title of the plot\n",
        "plt.title('Neighbourhood_group Listing Counts in NYC', fontsize=15)\n",
        "\n",
        "# Set the x-axis label\n",
        "plt.xlabel('Neighbourhood_Group', fontsize=14)\n",
        "\n",
        "# Set the y-axis label\n",
        "plt.ylabel('Total Listings Counts', fontsize=14)\n",
        "\n",
        "# Show the plot\n",
        "plt.show()"
      ],
      "metadata": {
        "id": "Z_TbmDNEyis7"
      },
      "execution_count": null,
      "outputs": []
    },
    {
      "cell_type": "markdown",
      "source": [
        "**Inferences**\n",
        "\n",
        "-> Brooklyn , Manhattan have more listings\n",
        "\n",
        "-> Less preferences is staten island"
      ],
      "metadata": {
        "id": "98w7tWEzPtif"
      }
    },
    {
      "cell_type": "code",
      "source": [
        "# Set the figure size\n",
        "plt.figure(figsize=(10, 6))\n",
        "\n",
        "# Get the room type counts\n",
        "room_type_counts = Airbnb_df['room_type'].value_counts()\n",
        "\n",
        "# Set the labels and sizes for the pie chart\n",
        "labels = room_type_counts.index\n",
        "sizes = room_type_counts.values\n",
        "\n",
        "# Create the pie chart\n",
        "plt.pie(sizes, labels=labels, autopct='%1.1f%%')\n",
        "\n",
        "# Add a legend to the chart\n",
        "plt.legend(title='Room Type')\n",
        "\n",
        "# Show the plot\n",
        "plt.show()\n"
      ],
      "metadata": {
        "id": "68e5TKfdzanX"
      },
      "execution_count": null,
      "outputs": []
    },
    {
      "cell_type": "code",
      "source": [
        "room_type_counts"
      ],
      "metadata": {
        "id": "vk4LnwsIztWi"
      },
      "execution_count": null,
      "outputs": []
    },
    {
      "cell_type": "markdown",
      "source": [
        "**Inferences**\n",
        "\n",
        "-> Entire home & private room are most preferred types\n",
        "\n",
        "-> Shared room is least preferred"
      ],
      "metadata": {
        "id": "lalMXv9KQKzM"
      }
    },
    {
      "cell_type": "code",
      "source": [
        "\n",
        "# Create the point plot\n",
        "sns.pointplot(x = 'neighbourhood_group', y='price', data=Airbnb_df, estimator = np.mean)\n",
        "\n",
        "# Add axis labels and a title\n",
        "plt.xlabel('Neighbourhood Group',fontsize=14)\n",
        "plt.ylabel('Average Price',fontsize=14)\n",
        "plt.title('Average Price by Neighbourhood Group',fontsize=15)"
      ],
      "metadata": {
        "id": "5DiYqdYMzrH6"
      },
      "execution_count": null,
      "outputs": []
    },
    {
      "cell_type": "markdown",
      "source": [
        "**Inferences**\n",
        "\n",
        "-> Manhattan is having most expensive hotels/properties\n",
        "\n",
        "->  Bronx is having most cheapest hotels/properties\n",
        "\n"
      ],
      "metadata": {
        "id": "104GvuUdQUO5"
      }
    },
    {
      "cell_type": "markdown",
      "source": [
        "## **Statistical Analysis**\n",
        "\n",
        "\n",
        "\n"
      ],
      "metadata": {
        "id": "nXmXJ8Qp1jwC"
      }
    },
    {
      "cell_type": "markdown",
      "source": [
        "***Is there a significant difference in the average room prices between different neighborhood groups?***"
      ],
      "metadata": {
        "id": "fkU370cy6lY6"
      }
    },
    {
      "cell_type": "markdown",
      "source": [
        "Null Hypothesis (H0): There is no significant difference in the average room prices between different neighborhood groups.\n",
        "\n",
        "Alternate Hypothesis (H1): There is a significant difference in the average room prices between different neighborhood groups."
      ],
      "metadata": {
        "id": "XzlQvAGM-ryL"
      }
    },
    {
      "cell_type": "code",
      "source": [
        "from scipy.stats import f_oneway\n",
        "\n",
        "data = Airbnb_df[['price', 'neighbourhood_group']]\n",
        "\n",
        "# Perform ANOVA\n",
        "neighbourhood_groups = data['neighbourhood_group'].unique()\n",
        "grouped_data = [data['price'][data['neighbourhood_group'] == group] for group in neighbourhood_groups]\n"
      ],
      "metadata": {
        "id": "uO1cYwiJ6lLp"
      },
      "execution_count": null,
      "outputs": []
    },
    {
      "cell_type": "code",
      "source": [
        "data"
      ],
      "metadata": {
        "id": "TTY4c2RY8oFn"
      },
      "execution_count": null,
      "outputs": []
    },
    {
      "cell_type": "code",
      "source": [
        "grouped_data"
      ],
      "metadata": {
        "id": "ekXqd3TH9AoX"
      },
      "execution_count": null,
      "outputs": []
    },
    {
      "cell_type": "code",
      "source": [
        "neighbourhood_groups"
      ],
      "metadata": {
        "id": "w1QL_cpv8w1f"
      },
      "execution_count": null,
      "outputs": []
    },
    {
      "cell_type": "code",
      "source": [
        "# Perform one-way ANOVA\n",
        "statistic, p_value = f_oneway(*grouped_data)\n",
        "\n",
        "# Display results\n",
        "print(\"One-way ANOVA results:\")\n",
        "print(f\"Statistic: {statistic}\")\n",
        "print(f\"P-value: {p_value}\")\n",
        "\n"
      ],
      "metadata": {
        "id": "0tBox5aW1b-I"
      },
      "execution_count": null,
      "outputs": []
    },
    {
      "cell_type": "code",
      "source": [
        "# Interpret the results\n",
        "if p_value < 0.05:\n",
        "    print(\"There is a significant difference in the average room prices between different neighborhood groups.\")\n",
        "else:\n",
        "    print(\"There is no significant difference in the average room prices between different neighborhood groups.\")"
      ],
      "metadata": {
        "id": "wEr6CoGM8fkE"
      },
      "execution_count": null,
      "outputs": []
    },
    {
      "cell_type": "markdown",
      "source": [
        "***Is there a significant difference in the average room prices between Airbnb rentals in Brooklyn and Manhattan?***"
      ],
      "metadata": {
        "id": "K7NoOsQv_Vr9"
      }
    },
    {
      "cell_type": "markdown",
      "source": [
        "Null Hypothesis (H0): There is no significant difference in the average room prices between Brooklyn and Manhattan\n",
        "\n",
        "Alternate Hypothesis (H1): There is a significant difference in the average room prices between Brooklyn and Manhattan."
      ],
      "metadata": {
        "id": "QJKTWxSkQtqz"
      }
    },
    {
      "cell_type": "code",
      "source": [
        "brooklyn_prices = Airbnb_df[Airbnb_df['neighbourhood_group'] == 'Brooklyn']['price']\n",
        "manhattan_prices = Airbnb_df[Airbnb_df['neighbourhood_group'] == 'Manhattan']['price']"
      ],
      "metadata": {
        "id": "NAQX21Nl_-EP"
      },
      "execution_count": null,
      "outputs": []
    },
    {
      "cell_type": "code",
      "source": [
        "brooklyn_prices"
      ],
      "metadata": {
        "id": "3yDzGswSA-Rz"
      },
      "execution_count": null,
      "outputs": []
    },
    {
      "cell_type": "code",
      "source": [
        "manhattan_prices"
      ],
      "metadata": {
        "id": "ucAalyiLA_Uc"
      },
      "execution_count": null,
      "outputs": []
    },
    {
      "cell_type": "code",
      "source": [
        "brooklyn_prices.mean()"
      ],
      "metadata": {
        "id": "aNxXO77_BA8w"
      },
      "execution_count": null,
      "outputs": []
    },
    {
      "cell_type": "code",
      "source": [
        "manhattan_prices.mean()"
      ],
      "metadata": {
        "id": "XjKeZIXQBIDv"
      },
      "execution_count": null,
      "outputs": []
    },
    {
      "cell_type": "code",
      "source": [
        "# Before Implementing the t test for two sample we have to compare the variances of both the sample"
      ],
      "metadata": {
        "id": "rBvmWWhmCUru"
      },
      "execution_count": null,
      "outputs": []
    },
    {
      "cell_type": "code",
      "source": [
        "# let's apply the f test to check the variance of the samples\n",
        "from scipy.stats import f"
      ],
      "metadata": {
        "id": "SxdOmhIsCUvZ"
      },
      "execution_count": null,
      "outputs": []
    },
    {
      "cell_type": "code",
      "source": [
        "F=brooklyn_prices.mean()/manhattan_prices.mean()"
      ],
      "metadata": {
        "id": "nPvIZiJ-CU0e"
      },
      "execution_count": null,
      "outputs": []
    },
    {
      "cell_type": "code",
      "source": [
        "F"
      ],
      "metadata": {
        "id": "w7S-g48cCU4M"
      },
      "execution_count": null,
      "outputs": []
    },
    {
      "cell_type": "code",
      "source": [
        "df1=len(brooklyn_prices)-1\n",
        "df2=len(manhattan_prices)-1"
      ],
      "metadata": {
        "id": "DF2ItknMDiT9"
      },
      "execution_count": null,
      "outputs": []
    },
    {
      "cell_type": "code",
      "source": [
        "p_value=1-f.cdf(df1,df2,F)"
      ],
      "metadata": {
        "id": "Ejp0CPG3DiYe"
      },
      "execution_count": null,
      "outputs": []
    },
    {
      "cell_type": "code",
      "source": [
        "p_value"
      ],
      "metadata": {
        "id": "Cu7kCr6wEJld"
      },
      "execution_count": null,
      "outputs": []
    },
    {
      "cell_type": "code",
      "source": [
        "# Interpret the results\n",
        "if p_value < 0.05:\n",
        "    print(\"Variances of both the samples are not equal.\")\n",
        "else:\n",
        "    print(\"Variances of both the samples are equal.\")"
      ],
      "metadata": {
        "id": "CZ5qN_WSES_U"
      },
      "execution_count": null,
      "outputs": []
    },
    {
      "cell_type": "code",
      "source": [
        "from scipy.stats import ttest_ind"
      ],
      "metadata": {
        "id": "Yt82Be_oBKsz"
      },
      "execution_count": null,
      "outputs": []
    },
    {
      "cell_type": "code",
      "source": [
        "t_stats, p_value=ttest_ind(brooklyn_prices,manhattan_prices, equal_var=False)"
      ],
      "metadata": {
        "id": "588NfNQlBWTp"
      },
      "execution_count": null,
      "outputs": []
    },
    {
      "cell_type": "code",
      "source": [
        "p_value"
      ],
      "metadata": {
        "id": "qeWCJGizEthC"
      },
      "execution_count": null,
      "outputs": []
    },
    {
      "cell_type": "code",
      "source": [
        "if p_value < 0.05:\n",
        "    print(\"Reject the null hypothesis. There is a significant difference in average room prices between Brooklyn and Manhattan.\")\n",
        "else:\n",
        "    print(\"Fail to reject the null hypothesis. There is no significant difference in average room prices between Brooklyn and Manhattan.\")"
      ],
      "metadata": {
        "id": "wrZpyjOnEvGZ"
      },
      "execution_count": null,
      "outputs": []
    },
    {
      "cell_type": "markdown",
      "source": [
        "***Is there a significant association between the neighborhood group and the room type chosen by Airbnb guests?***"
      ],
      "metadata": {
        "id": "GHj4q-eEFO-C"
      }
    },
    {
      "cell_type": "markdown",
      "source": [
        "Null Hypothesis= the both the variables are independent having no association\n",
        "\n",
        "Alternate Hypothesis= the both the variables are dependent having association between them\n"
      ],
      "metadata": {
        "id": "xpx7M7o3Q27I"
      }
    },
    {
      "cell_type": "code",
      "source": [
        "from scipy.stats import chi2_contingency\n"
      ],
      "metadata": {
        "id": "9DtMUOZUGK6N"
      },
      "execution_count": null,
      "outputs": []
    },
    {
      "cell_type": "code",
      "source": [
        "contingency_table = pd.crosstab(Airbnb_df['neighbourhood_group'], Airbnb_df['room_type'])"
      ],
      "metadata": {
        "id": "kiqw7rRBGO_i"
      },
      "execution_count": null,
      "outputs": []
    },
    {
      "cell_type": "code",
      "source": [
        "contingency_table"
      ],
      "metadata": {
        "id": "oe7iC99xGZ8j"
      },
      "execution_count": null,
      "outputs": []
    },
    {
      "cell_type": "code",
      "source": [
        "chi2_stat, p_value, dof, expected = chi2_contingency(contingency_table)"
      ],
      "metadata": {
        "id": "ScuPpengGbJB"
      },
      "execution_count": null,
      "outputs": []
    },
    {
      "cell_type": "code",
      "source": [
        "p_value"
      ],
      "metadata": {
        "id": "Qw-zPgtDHDue"
      },
      "execution_count": null,
      "outputs": []
    },
    {
      "cell_type": "code",
      "source": [
        "if p_value < 0.05:\n",
        "    print(\"Reject the null hypothesis. there is  association between both the samples\")\n",
        "else:\n",
        "    print(\"Fail to reject the null hypothesis there is no association between both the samples.\")"
      ],
      "metadata": {
        "id": "ALYK0Z_wHE_R"
      },
      "execution_count": null,
      "outputs": []
    },
    {
      "cell_type": "code",
      "source": [],
      "metadata": {
        "id": "TiDyNf1UHxKz"
      },
      "execution_count": null,
      "outputs": []
    }
  ]
}