{
 "cells": [
  {
   "cell_type": "code",
   "execution_count": 1,
   "id": "d54649d6-f1a8-45b1-893a-dc85d6a0b3a0",
   "metadata": {},
   "outputs": [],
   "source": [
    "import pandas as pd\n",
    "import numpy as np\n",
    "import matplotlib.pyplot as plt\n",
    "import seaborn as sns"
   ]
  },
  {
   "cell_type": "code",
   "execution_count": 7,
   "id": "a2c79c3e-5201-4885-9e3a-553193784f48",
   "metadata": {},
   "outputs": [
    {
     "data": {
      "text/html": [
       "<div>\n",
       "<style scoped>\n",
       "    .dataframe tbody tr th:only-of-type {\n",
       "        vertical-align: middle;\n",
       "    }\n",
       "\n",
       "    .dataframe tbody tr th {\n",
       "        vertical-align: top;\n",
       "    }\n",
       "\n",
       "    .dataframe thead th {\n",
       "        text-align: right;\n",
       "    }\n",
       "</style>\n",
       "<table border=\"1\" class=\"dataframe\">\n",
       "  <thead>\n",
       "    <tr style=\"text-align: right;\">\n",
       "      <th></th>\n",
       "      <th>survived</th>\n",
       "      <th>pclass</th>\n",
       "      <th>sex</th>\n",
       "      <th>age</th>\n",
       "      <th>sibsp</th>\n",
       "      <th>parch</th>\n",
       "      <th>fare</th>\n",
       "      <th>embarked</th>\n",
       "      <th>class</th>\n",
       "      <th>who</th>\n",
       "      <th>adult_male</th>\n",
       "      <th>deck</th>\n",
       "      <th>embark_town</th>\n",
       "      <th>alive</th>\n",
       "      <th>alone</th>\n",
       "    </tr>\n",
       "  </thead>\n",
       "  <tbody>\n",
       "    <tr>\n",
       "      <th>0</th>\n",
       "      <td>0</td>\n",
       "      <td>3</td>\n",
       "      <td>male</td>\n",
       "      <td>22.0</td>\n",
       "      <td>1</td>\n",
       "      <td>0</td>\n",
       "      <td>7.2500</td>\n",
       "      <td>S</td>\n",
       "      <td>Third</td>\n",
       "      <td>man</td>\n",
       "      <td>True</td>\n",
       "      <td>NaN</td>\n",
       "      <td>Southampton</td>\n",
       "      <td>no</td>\n",
       "      <td>False</td>\n",
       "    </tr>\n",
       "    <tr>\n",
       "      <th>1</th>\n",
       "      <td>1</td>\n",
       "      <td>1</td>\n",
       "      <td>female</td>\n",
       "      <td>38.0</td>\n",
       "      <td>1</td>\n",
       "      <td>0</td>\n",
       "      <td>71.2833</td>\n",
       "      <td>C</td>\n",
       "      <td>First</td>\n",
       "      <td>woman</td>\n",
       "      <td>False</td>\n",
       "      <td>C</td>\n",
       "      <td>Cherbourg</td>\n",
       "      <td>yes</td>\n",
       "      <td>False</td>\n",
       "    </tr>\n",
       "    <tr>\n",
       "      <th>2</th>\n",
       "      <td>1</td>\n",
       "      <td>3</td>\n",
       "      <td>female</td>\n",
       "      <td>26.0</td>\n",
       "      <td>0</td>\n",
       "      <td>0</td>\n",
       "      <td>7.9250</td>\n",
       "      <td>S</td>\n",
       "      <td>Third</td>\n",
       "      <td>woman</td>\n",
       "      <td>False</td>\n",
       "      <td>NaN</td>\n",
       "      <td>Southampton</td>\n",
       "      <td>yes</td>\n",
       "      <td>True</td>\n",
       "    </tr>\n",
       "    <tr>\n",
       "      <th>3</th>\n",
       "      <td>1</td>\n",
       "      <td>1</td>\n",
       "      <td>female</td>\n",
       "      <td>35.0</td>\n",
       "      <td>1</td>\n",
       "      <td>0</td>\n",
       "      <td>53.1000</td>\n",
       "      <td>S</td>\n",
       "      <td>First</td>\n",
       "      <td>woman</td>\n",
       "      <td>False</td>\n",
       "      <td>C</td>\n",
       "      <td>Southampton</td>\n",
       "      <td>yes</td>\n",
       "      <td>False</td>\n",
       "    </tr>\n",
       "    <tr>\n",
       "      <th>4</th>\n",
       "      <td>0</td>\n",
       "      <td>3</td>\n",
       "      <td>male</td>\n",
       "      <td>35.0</td>\n",
       "      <td>0</td>\n",
       "      <td>0</td>\n",
       "      <td>8.0500</td>\n",
       "      <td>S</td>\n",
       "      <td>Third</td>\n",
       "      <td>man</td>\n",
       "      <td>True</td>\n",
       "      <td>NaN</td>\n",
       "      <td>Southampton</td>\n",
       "      <td>no</td>\n",
       "      <td>True</td>\n",
       "    </tr>\n",
       "    <tr>\n",
       "      <th>...</th>\n",
       "      <td>...</td>\n",
       "      <td>...</td>\n",
       "      <td>...</td>\n",
       "      <td>...</td>\n",
       "      <td>...</td>\n",
       "      <td>...</td>\n",
       "      <td>...</td>\n",
       "      <td>...</td>\n",
       "      <td>...</td>\n",
       "      <td>...</td>\n",
       "      <td>...</td>\n",
       "      <td>...</td>\n",
       "      <td>...</td>\n",
       "      <td>...</td>\n",
       "      <td>...</td>\n",
       "    </tr>\n",
       "    <tr>\n",
       "      <th>886</th>\n",
       "      <td>0</td>\n",
       "      <td>2</td>\n",
       "      <td>male</td>\n",
       "      <td>27.0</td>\n",
       "      <td>0</td>\n",
       "      <td>0</td>\n",
       "      <td>13.0000</td>\n",
       "      <td>S</td>\n",
       "      <td>Second</td>\n",
       "      <td>man</td>\n",
       "      <td>True</td>\n",
       "      <td>NaN</td>\n",
       "      <td>Southampton</td>\n",
       "      <td>no</td>\n",
       "      <td>True</td>\n",
       "    </tr>\n",
       "    <tr>\n",
       "      <th>887</th>\n",
       "      <td>1</td>\n",
       "      <td>1</td>\n",
       "      <td>female</td>\n",
       "      <td>19.0</td>\n",
       "      <td>0</td>\n",
       "      <td>0</td>\n",
       "      <td>30.0000</td>\n",
       "      <td>S</td>\n",
       "      <td>First</td>\n",
       "      <td>woman</td>\n",
       "      <td>False</td>\n",
       "      <td>B</td>\n",
       "      <td>Southampton</td>\n",
       "      <td>yes</td>\n",
       "      <td>True</td>\n",
       "    </tr>\n",
       "    <tr>\n",
       "      <th>888</th>\n",
       "      <td>0</td>\n",
       "      <td>3</td>\n",
       "      <td>female</td>\n",
       "      <td>NaN</td>\n",
       "      <td>1</td>\n",
       "      <td>2</td>\n",
       "      <td>23.4500</td>\n",
       "      <td>S</td>\n",
       "      <td>Third</td>\n",
       "      <td>woman</td>\n",
       "      <td>False</td>\n",
       "      <td>NaN</td>\n",
       "      <td>Southampton</td>\n",
       "      <td>no</td>\n",
       "      <td>False</td>\n",
       "    </tr>\n",
       "    <tr>\n",
       "      <th>889</th>\n",
       "      <td>1</td>\n",
       "      <td>1</td>\n",
       "      <td>male</td>\n",
       "      <td>26.0</td>\n",
       "      <td>0</td>\n",
       "      <td>0</td>\n",
       "      <td>30.0000</td>\n",
       "      <td>C</td>\n",
       "      <td>First</td>\n",
       "      <td>man</td>\n",
       "      <td>True</td>\n",
       "      <td>C</td>\n",
       "      <td>Cherbourg</td>\n",
       "      <td>yes</td>\n",
       "      <td>True</td>\n",
       "    </tr>\n",
       "    <tr>\n",
       "      <th>890</th>\n",
       "      <td>0</td>\n",
       "      <td>3</td>\n",
       "      <td>male</td>\n",
       "      <td>32.0</td>\n",
       "      <td>0</td>\n",
       "      <td>0</td>\n",
       "      <td>7.7500</td>\n",
       "      <td>Q</td>\n",
       "      <td>Third</td>\n",
       "      <td>man</td>\n",
       "      <td>True</td>\n",
       "      <td>NaN</td>\n",
       "      <td>Queenstown</td>\n",
       "      <td>no</td>\n",
       "      <td>True</td>\n",
       "    </tr>\n",
       "  </tbody>\n",
       "</table>\n",
       "<p>891 rows × 15 columns</p>\n",
       "</div>"
      ],
      "text/plain": [
       "     survived  pclass     sex   age  sibsp  parch     fare embarked   class  \\\n",
       "0           0       3    male  22.0      1      0   7.2500        S   Third   \n",
       "1           1       1  female  38.0      1      0  71.2833        C   First   \n",
       "2           1       3  female  26.0      0      0   7.9250        S   Third   \n",
       "3           1       1  female  35.0      1      0  53.1000        S   First   \n",
       "4           0       3    male  35.0      0      0   8.0500        S   Third   \n",
       "..        ...     ...     ...   ...    ...    ...      ...      ...     ...   \n",
       "886         0       2    male  27.0      0      0  13.0000        S  Second   \n",
       "887         1       1  female  19.0      0      0  30.0000        S   First   \n",
       "888         0       3  female   NaN      1      2  23.4500        S   Third   \n",
       "889         1       1    male  26.0      0      0  30.0000        C   First   \n",
       "890         0       3    male  32.0      0      0   7.7500        Q   Third   \n",
       "\n",
       "       who  adult_male deck  embark_town alive  alone  \n",
       "0      man        True  NaN  Southampton    no  False  \n",
       "1    woman       False    C    Cherbourg   yes  False  \n",
       "2    woman       False  NaN  Southampton   yes   True  \n",
       "3    woman       False    C  Southampton   yes  False  \n",
       "4      man        True  NaN  Southampton    no   True  \n",
       "..     ...         ...  ...          ...   ...    ...  \n",
       "886    man        True  NaN  Southampton    no   True  \n",
       "887  woman       False    B  Southampton   yes   True  \n",
       "888  woman       False  NaN  Southampton    no  False  \n",
       "889    man        True    C    Cherbourg   yes   True  \n",
       "890    man        True  NaN   Queenstown    no   True  \n",
       "\n",
       "[891 rows x 15 columns]"
      ]
     },
     "execution_count": 7,
     "metadata": {},
     "output_type": "execute_result"
    }
   ],
   "source": [
    "# loading inbuilt datasets\n",
    "df1=sns.load_dataset('titanic')\n",
    "df1"
   ]
  },
  {
   "cell_type": "code",
   "execution_count": 2,
   "id": "b0b687f7-ecff-4894-95ea-3656c8764652",
   "metadata": {},
   "outputs": [],
   "source": [
    "data = pd.read_csv('vgsales.csv')"
   ]
  },
  {
   "cell_type": "code",
   "execution_count": 3,
   "id": "bde328d0-25fe-42c9-acf3-2fbb9fdebe28",
   "metadata": {},
   "outputs": [
    {
     "data": {
      "text/html": [
       "<div>\n",
       "<style scoped>\n",
       "    .dataframe tbody tr th:only-of-type {\n",
       "        vertical-align: middle;\n",
       "    }\n",
       "\n",
       "    .dataframe tbody tr th {\n",
       "        vertical-align: top;\n",
       "    }\n",
       "\n",
       "    .dataframe thead th {\n",
       "        text-align: right;\n",
       "    }\n",
       "</style>\n",
       "<table border=\"1\" class=\"dataframe\">\n",
       "  <thead>\n",
       "    <tr style=\"text-align: right;\">\n",
       "      <th></th>\n",
       "      <th>Rank</th>\n",
       "      <th>Name</th>\n",
       "      <th>Platform</th>\n",
       "      <th>Year</th>\n",
       "      <th>Genre</th>\n",
       "      <th>Publisher</th>\n",
       "      <th>NA_Sales</th>\n",
       "      <th>EU_Sales</th>\n",
       "      <th>JP_Sales</th>\n",
       "      <th>Other_Sales</th>\n",
       "      <th>Global_Sales</th>\n",
       "    </tr>\n",
       "  </thead>\n",
       "  <tbody>\n",
       "    <tr>\n",
       "      <th>0</th>\n",
       "      <td>1</td>\n",
       "      <td>Wii Sports</td>\n",
       "      <td>Wii</td>\n",
       "      <td>2006.0</td>\n",
       "      <td>Sports</td>\n",
       "      <td>Nintendo</td>\n",
       "      <td>41.49</td>\n",
       "      <td>29.02</td>\n",
       "      <td>3.77</td>\n",
       "      <td>8.46</td>\n",
       "      <td>82.74</td>\n",
       "    </tr>\n",
       "    <tr>\n",
       "      <th>1</th>\n",
       "      <td>2</td>\n",
       "      <td>Super Mario Bros.</td>\n",
       "      <td>NES</td>\n",
       "      <td>1985.0</td>\n",
       "      <td>Platform</td>\n",
       "      <td>Nintendo</td>\n",
       "      <td>29.08</td>\n",
       "      <td>3.58</td>\n",
       "      <td>6.81</td>\n",
       "      <td>0.77</td>\n",
       "      <td>40.24</td>\n",
       "    </tr>\n",
       "    <tr>\n",
       "      <th>2</th>\n",
       "      <td>3</td>\n",
       "      <td>Mario Kart Wii</td>\n",
       "      <td>Wii</td>\n",
       "      <td>2008.0</td>\n",
       "      <td>Racing</td>\n",
       "      <td>Nintendo</td>\n",
       "      <td>15.85</td>\n",
       "      <td>12.88</td>\n",
       "      <td>3.79</td>\n",
       "      <td>3.31</td>\n",
       "      <td>35.82</td>\n",
       "    </tr>\n",
       "    <tr>\n",
       "      <th>3</th>\n",
       "      <td>4</td>\n",
       "      <td>Wii Sports Resort</td>\n",
       "      <td>Wii</td>\n",
       "      <td>2009.0</td>\n",
       "      <td>Sports</td>\n",
       "      <td>Nintendo</td>\n",
       "      <td>15.75</td>\n",
       "      <td>11.01</td>\n",
       "      <td>3.28</td>\n",
       "      <td>2.96</td>\n",
       "      <td>33.00</td>\n",
       "    </tr>\n",
       "    <tr>\n",
       "      <th>4</th>\n",
       "      <td>5</td>\n",
       "      <td>Pokemon Red/Pokemon Blue</td>\n",
       "      <td>GB</td>\n",
       "      <td>1996.0</td>\n",
       "      <td>Role-Playing</td>\n",
       "      <td>Nintendo</td>\n",
       "      <td>11.27</td>\n",
       "      <td>8.89</td>\n",
       "      <td>10.22</td>\n",
       "      <td>1.00</td>\n",
       "      <td>31.37</td>\n",
       "    </tr>\n",
       "  </tbody>\n",
       "</table>\n",
       "</div>"
      ],
      "text/plain": [
       "   Rank                      Name Platform    Year         Genre Publisher  \\\n",
       "0     1                Wii Sports      Wii  2006.0        Sports  Nintendo   \n",
       "1     2         Super Mario Bros.      NES  1985.0      Platform  Nintendo   \n",
       "2     3            Mario Kart Wii      Wii  2008.0        Racing  Nintendo   \n",
       "3     4         Wii Sports Resort      Wii  2009.0        Sports  Nintendo   \n",
       "4     5  Pokemon Red/Pokemon Blue       GB  1996.0  Role-Playing  Nintendo   \n",
       "\n",
       "   NA_Sales  EU_Sales  JP_Sales  Other_Sales  Global_Sales  \n",
       "0     41.49     29.02      3.77         8.46         82.74  \n",
       "1     29.08      3.58      6.81         0.77         40.24  \n",
       "2     15.85     12.88      3.79         3.31         35.82  \n",
       "3     15.75     11.01      3.28         2.96         33.00  \n",
       "4     11.27      8.89     10.22         1.00         31.37  "
      ]
     },
     "execution_count": 3,
     "metadata": {},
     "output_type": "execute_result"
    }
   ],
   "source": [
    "#first look at the data\n",
    "data.head()"
   ]
  },
  {
   "cell_type": "code",
   "execution_count": 4,
   "id": "c1e770a6-da7c-4e39-92a2-4b9e9e66bbca",
   "metadata": {},
   "outputs": [
    {
     "name": "stdout",
     "output_type": "stream",
     "text": [
      "<class 'pandas.core.frame.DataFrame'>\n",
      "RangeIndex: 16598 entries, 0 to 16597\n",
      "Data columns (total 11 columns):\n",
      " #   Column        Non-Null Count  Dtype  \n",
      "---  ------        --------------  -----  \n",
      " 0   Rank          16598 non-null  int64  \n",
      " 1   Name          16598 non-null  object \n",
      " 2   Platform      16598 non-null  object \n",
      " 3   Year          16327 non-null  float64\n",
      " 4   Genre         16598 non-null  object \n",
      " 5   Publisher     16540 non-null  object \n",
      " 6   NA_Sales      16598 non-null  float64\n",
      " 7   EU_Sales      16598 non-null  float64\n",
      " 8   JP_Sales      16598 non-null  float64\n",
      " 9   Other_Sales   16598 non-null  float64\n",
      " 10  Global_Sales  16598 non-null  float64\n",
      "dtypes: float64(6), int64(1), object(4)\n",
      "memory usage: 1.4+ MB\n"
     ]
    }
   ],
   "source": [
    "#vital information of the dataset\n",
    "data.info()\n",
    "\n",
    "# the output shows a clear indication of null values in the year and publisher column."
   ]
  },
  {
   "cell_type": "code",
   "execution_count": 5,
   "id": "6f52a8ad-62c0-4de1-80ec-8c7cfedfb00f",
   "metadata": {},
   "outputs": [
    {
     "data": {
      "text/plain": [
       "Rank              0\n",
       "Name              0\n",
       "Platform          0\n",
       "Year            271\n",
       "Genre             0\n",
       "Publisher        58\n",
       "NA_Sales          0\n",
       "EU_Sales          0\n",
       "JP_Sales          0\n",
       "Other_Sales       0\n",
       "Global_Sales      0\n",
       "dtype: int64"
      ]
     },
     "execution_count": 5,
     "metadata": {},
     "output_type": "execute_result"
    }
   ],
   "source": [
    "data.isna().sum()"
   ]
  },
  {
   "cell_type": "code",
   "execution_count": 8,
   "id": "5bc1c60c-d3ea-417c-ba67-c0bb1ba0db4a",
   "metadata": {},
   "outputs": [
    {
     "data": {
      "text/plain": [
       "Rank            0\n",
       "Name            0\n",
       "Platform        0\n",
       "Year            0\n",
       "Genre           0\n",
       "Publisher       0\n",
       "NA_Sales        0\n",
       "EU_Sales        0\n",
       "JP_Sales        0\n",
       "Other_Sales     0\n",
       "Global_Sales    0\n",
       "dtype: int64"
      ]
     },
     "execution_count": 8,
     "metadata": {},
     "output_type": "execute_result"
    }
   ],
   "source": [
    "#removing the null values from the data\n",
    "data = data.dropna()\n",
    "data.isna().sum()\n",
    "\n",
    "#the output shows no indication of null values in the data"
   ]
  },
  {
   "cell_type": "code",
   "execution_count": 12,
   "id": "894be262-7850-4d55-bbee-0dc0aca2fb87",
   "metadata": {},
   "outputs": [
    {
     "name": "stdout",
     "output_type": "stream",
     "text": [
      "<class 'pandas.core.frame.DataFrame'>\n",
      "Index: 16291 entries, 0 to 16597\n",
      "Data columns (total 11 columns):\n",
      " #   Column        Non-Null Count  Dtype  \n",
      "---  ------        --------------  -----  \n",
      " 0   Rank          16291 non-null  int64  \n",
      " 1   Name          16291 non-null  object \n",
      " 2   Platform      16291 non-null  object \n",
      " 3   Year          16291 non-null  float64\n",
      " 4   Genre         16291 non-null  object \n",
      " 5   Publisher     16291 non-null  object \n",
      " 6   NA_Sales      16291 non-null  float64\n",
      " 7   EU_Sales      16291 non-null  float64\n",
      " 8   JP_Sales      16291 non-null  float64\n",
      " 9   Other_Sales   16291 non-null  float64\n",
      " 10  Global_Sales  16291 non-null  float64\n",
      "dtypes: float64(6), int64(1), object(4)\n",
      "memory usage: 1.5+ MB\n"
     ]
    }
   ],
   "source": [
    "data.info()"
   ]
  },
  {
   "cell_type": "code",
   "execution_count": 13,
   "id": "6da32239-e396-4bf9-9a66-c8941c81bcd9",
   "metadata": {},
   "outputs": [
    {
     "data": {
      "text/plain": [
       "Rank            0\n",
       "Name            0\n",
       "Platform        0\n",
       "Year            0\n",
       "Genre           0\n",
       "Publisher       0\n",
       "NA_Sales        0\n",
       "EU_Sales        0\n",
       "JP_Sales        0\n",
       "Other_Sales     0\n",
       "Global_Sales    0\n",
       "dtype: int64"
      ]
     },
     "execution_count": 13,
     "metadata": {},
     "output_type": "execute_result"
    }
   ],
   "source": [
    "data.isnull().sum()       #data.isna().sum()"
   ]
  },
  {
   "cell_type": "markdown",
   "id": "80513811-b193-4988-bea3-0cce4d849af7",
   "metadata": {},
   "source": [
    "### Column Wise EDA for insights"
   ]
  },
  {
   "cell_type": "code",
   "execution_count": 14,
   "id": "d3610c7d-7031-49c5-a266-bfa4c55cae77",
   "metadata": {},
   "outputs": [
    {
     "data": {
      "text/html": [
       "<div>\n",
       "<style scoped>\n",
       "    .dataframe tbody tr th:only-of-type {\n",
       "        vertical-align: middle;\n",
       "    }\n",
       "\n",
       "    .dataframe tbody tr th {\n",
       "        vertical-align: top;\n",
       "    }\n",
       "\n",
       "    .dataframe thead th {\n",
       "        text-align: right;\n",
       "    }\n",
       "</style>\n",
       "<table border=\"1\" class=\"dataframe\">\n",
       "  <thead>\n",
       "    <tr style=\"text-align: right;\">\n",
       "      <th></th>\n",
       "      <th>Rank</th>\n",
       "      <th>Name</th>\n",
       "      <th>Platform</th>\n",
       "      <th>Year</th>\n",
       "      <th>Genre</th>\n",
       "      <th>Publisher</th>\n",
       "      <th>NA_Sales</th>\n",
       "      <th>EU_Sales</th>\n",
       "      <th>JP_Sales</th>\n",
       "      <th>Other_Sales</th>\n",
       "      <th>Global_Sales</th>\n",
       "    </tr>\n",
       "  </thead>\n",
       "  <tbody>\n",
       "    <tr>\n",
       "      <th>0</th>\n",
       "      <td>1</td>\n",
       "      <td>Wii Sports</td>\n",
       "      <td>Wii</td>\n",
       "      <td>2006.0</td>\n",
       "      <td>Sports</td>\n",
       "      <td>Nintendo</td>\n",
       "      <td>41.49</td>\n",
       "      <td>29.02</td>\n",
       "      <td>3.77</td>\n",
       "      <td>8.46</td>\n",
       "      <td>82.74</td>\n",
       "    </tr>\n",
       "    <tr>\n",
       "      <th>1</th>\n",
       "      <td>2</td>\n",
       "      <td>Super Mario Bros.</td>\n",
       "      <td>NES</td>\n",
       "      <td>1985.0</td>\n",
       "      <td>Platform</td>\n",
       "      <td>Nintendo</td>\n",
       "      <td>29.08</td>\n",
       "      <td>3.58</td>\n",
       "      <td>6.81</td>\n",
       "      <td>0.77</td>\n",
       "      <td>40.24</td>\n",
       "    </tr>\n",
       "    <tr>\n",
       "      <th>2</th>\n",
       "      <td>3</td>\n",
       "      <td>Mario Kart Wii</td>\n",
       "      <td>Wii</td>\n",
       "      <td>2008.0</td>\n",
       "      <td>Racing</td>\n",
       "      <td>Nintendo</td>\n",
       "      <td>15.85</td>\n",
       "      <td>12.88</td>\n",
       "      <td>3.79</td>\n",
       "      <td>3.31</td>\n",
       "      <td>35.82</td>\n",
       "    </tr>\n",
       "    <tr>\n",
       "      <th>3</th>\n",
       "      <td>4</td>\n",
       "      <td>Wii Sports Resort</td>\n",
       "      <td>Wii</td>\n",
       "      <td>2009.0</td>\n",
       "      <td>Sports</td>\n",
       "      <td>Nintendo</td>\n",
       "      <td>15.75</td>\n",
       "      <td>11.01</td>\n",
       "      <td>3.28</td>\n",
       "      <td>2.96</td>\n",
       "      <td>33.00</td>\n",
       "    </tr>\n",
       "    <tr>\n",
       "      <th>4</th>\n",
       "      <td>5</td>\n",
       "      <td>Pokemon Red/Pokemon Blue</td>\n",
       "      <td>GB</td>\n",
       "      <td>1996.0</td>\n",
       "      <td>Role-Playing</td>\n",
       "      <td>Nintendo</td>\n",
       "      <td>11.27</td>\n",
       "      <td>8.89</td>\n",
       "      <td>10.22</td>\n",
       "      <td>1.00</td>\n",
       "      <td>31.37</td>\n",
       "    </tr>\n",
       "  </tbody>\n",
       "</table>\n",
       "</div>"
      ],
      "text/plain": [
       "   Rank                      Name Platform    Year         Genre Publisher  \\\n",
       "0     1                Wii Sports      Wii  2006.0        Sports  Nintendo   \n",
       "1     2         Super Mario Bros.      NES  1985.0      Platform  Nintendo   \n",
       "2     3            Mario Kart Wii      Wii  2008.0        Racing  Nintendo   \n",
       "3     4         Wii Sports Resort      Wii  2009.0        Sports  Nintendo   \n",
       "4     5  Pokemon Red/Pokemon Blue       GB  1996.0  Role-Playing  Nintendo   \n",
       "\n",
       "   NA_Sales  EU_Sales  JP_Sales  Other_Sales  Global_Sales  \n",
       "0     41.49     29.02      3.77         8.46         82.74  \n",
       "1     29.08      3.58      6.81         0.77         40.24  \n",
       "2     15.85     12.88      3.79         3.31         35.82  \n",
       "3     15.75     11.01      3.28         2.96         33.00  \n",
       "4     11.27      8.89     10.22         1.00         31.37  "
      ]
     },
     "execution_count": 14,
     "metadata": {},
     "output_type": "execute_result"
    }
   ],
   "source": [
    "data.head()"
   ]
  },
  {
   "cell_type": "markdown",
   "id": "92fa3dc3-f1a3-4944-b714-fe0d5b8f7597",
   "metadata": {},
   "source": [
    "#### Platform column"
   ]
  },
  {
   "cell_type": "code",
   "execution_count": 16,
   "id": "5b0d8836-fb79-40d0-973b-a1e95a15579b",
   "metadata": {},
   "outputs": [
    {
     "data": {
      "text/plain": [
       "31"
      ]
     },
     "execution_count": 16,
     "metadata": {},
     "output_type": "execute_result"
    }
   ],
   "source": [
    "#How many unique platforms are present in the data?\n",
    "data['Platform'].nunique()\n",
    "\n",
    "#there are 31 platforms that are present in the data."
   ]
  },
  {
   "cell_type": "code",
   "execution_count": 17,
   "id": "1dff5c82-e5d8-42e9-a29d-3b3ab0fea173",
   "metadata": {},
   "outputs": [
    {
     "data": {
      "text/plain": [
       "array(['Wii', 'NES', 'GB', 'DS', 'X360', 'PS3', 'PS2', 'SNES', 'GBA',\n",
       "       '3DS', 'PS4', 'N64', 'PS', 'XB', 'PC', '2600', 'PSP', 'XOne', 'GC',\n",
       "       'WiiU', 'GEN', 'DC', 'PSV', 'SAT', 'SCD', 'WS', 'NG', 'TG16',\n",
       "       '3DO', 'GG', 'PCFX'], dtype=object)"
      ]
     },
     "execution_count": 17,
     "metadata": {},
     "output_type": "execute_result"
    }
   ],
   "source": [
    "data['Platform'].unique()"
   ]
  },
  {
   "cell_type": "code",
   "execution_count": 22,
   "id": "41d09856-6a42-41e9-be3e-4d380b5d4d28",
   "metadata": {},
   "outputs": [
    {
     "data": {
      "text/plain": [
       "count    16291.000000\n",
       "mean      2006.405561\n",
       "std          5.832412\n",
       "min       1980.000000\n",
       "25%       2003.000000\n",
       "50%       2007.000000\n",
       "75%       2010.000000\n",
       "max       2020.000000\n",
       "Name: Year, dtype: float64"
      ]
     },
     "execution_count": 22,
     "metadata": {},
     "output_type": "execute_result"
    }
   ],
   "source": [
    "#Which platform had the latest and earliest release and what were the sales of the games respectively in various parts of the world?\n",
    "\n",
    "data['Year'].describe()\n",
    "\n",
    "#The year of release for the earliest and latest is 1980, and 2020."
   ]
  },
  {
   "cell_type": "code",
   "execution_count": 23,
   "id": "c12501e1-5add-437c-bec5-d1ca504b3d19",
   "metadata": {},
   "outputs": [],
   "source": [
    "Earliest = data.loc[(data['Year'] == 1980)] ## EXTRACTING THE RECORD OF 1980\n",
    "Latest = data.loc[(data['Year'] == 2020)]   ## EXTRACTING THE RECORD OF 2020"
   ]
  },
  {
   "cell_type": "code",
   "execution_count": null,
   "id": "5e276b95-ab2c-4344-9c05-935b7f6b2df7",
   "metadata": {},
   "outputs": [],
   "source": [
    "print(\"The platform with the Earliest release is :{}\".format(Earliest['Platform'].unique()))\n",
    "print(\"The platform with the Latest release is :{}\".format(Latest['Platform'].unique()))"
   ]
  },
  {
   "cell_type": "code",
   "execution_count": 24,
   "id": "55bdf912-0f19-454d-9fe5-a8f27a37681c",
   "metadata": {},
   "outputs": [
    {
     "data": {
      "text/html": [
       "<div>\n",
       "<style scoped>\n",
       "    .dataframe tbody tr th:only-of-type {\n",
       "        vertical-align: middle;\n",
       "    }\n",
       "\n",
       "    .dataframe tbody tr th {\n",
       "        vertical-align: top;\n",
       "    }\n",
       "\n",
       "    .dataframe thead th {\n",
       "        text-align: right;\n",
       "    }\n",
       "</style>\n",
       "<table border=\"1\" class=\"dataframe\">\n",
       "  <thead>\n",
       "    <tr style=\"text-align: right;\">\n",
       "      <th></th>\n",
       "      <th>Rank</th>\n",
       "      <th>Name</th>\n",
       "      <th>Platform</th>\n",
       "      <th>Year</th>\n",
       "      <th>Genre</th>\n",
       "      <th>Publisher</th>\n",
       "      <th>NA_Sales</th>\n",
       "      <th>EU_Sales</th>\n",
       "      <th>JP_Sales</th>\n",
       "      <th>Other_Sales</th>\n",
       "      <th>Global_Sales</th>\n",
       "    </tr>\n",
       "  </thead>\n",
       "  <tbody>\n",
       "    <tr>\n",
       "      <th>258</th>\n",
       "      <td>259</td>\n",
       "      <td>Asteroids</td>\n",
       "      <td>2600</td>\n",
       "      <td>1980.0</td>\n",
       "      <td>Shooter</td>\n",
       "      <td>Atari</td>\n",
       "      <td>4.00</td>\n",
       "      <td>0.26</td>\n",
       "      <td>0.0</td>\n",
       "      <td>0.05</td>\n",
       "      <td>4.31</td>\n",
       "    </tr>\n",
       "    <tr>\n",
       "      <th>544</th>\n",
       "      <td>545</td>\n",
       "      <td>Missile Command</td>\n",
       "      <td>2600</td>\n",
       "      <td>1980.0</td>\n",
       "      <td>Shooter</td>\n",
       "      <td>Atari</td>\n",
       "      <td>2.56</td>\n",
       "      <td>0.17</td>\n",
       "      <td>0.0</td>\n",
       "      <td>0.03</td>\n",
       "      <td>2.76</td>\n",
       "    </tr>\n",
       "    <tr>\n",
       "      <th>1766</th>\n",
       "      <td>1768</td>\n",
       "      <td>Kaboom!</td>\n",
       "      <td>2600</td>\n",
       "      <td>1980.0</td>\n",
       "      <td>Misc</td>\n",
       "      <td>Activision</td>\n",
       "      <td>1.07</td>\n",
       "      <td>0.07</td>\n",
       "      <td>0.0</td>\n",
       "      <td>0.01</td>\n",
       "      <td>1.15</td>\n",
       "    </tr>\n",
       "    <tr>\n",
       "      <th>1969</th>\n",
       "      <td>1971</td>\n",
       "      <td>Defender</td>\n",
       "      <td>2600</td>\n",
       "      <td>1980.0</td>\n",
       "      <td>Misc</td>\n",
       "      <td>Atari</td>\n",
       "      <td>0.99</td>\n",
       "      <td>0.05</td>\n",
       "      <td>0.0</td>\n",
       "      <td>0.01</td>\n",
       "      <td>1.05</td>\n",
       "    </tr>\n",
       "    <tr>\n",
       "      <th>2669</th>\n",
       "      <td>2671</td>\n",
       "      <td>Boxing</td>\n",
       "      <td>2600</td>\n",
       "      <td>1980.0</td>\n",
       "      <td>Fighting</td>\n",
       "      <td>Activision</td>\n",
       "      <td>0.72</td>\n",
       "      <td>0.04</td>\n",
       "      <td>0.0</td>\n",
       "      <td>0.01</td>\n",
       "      <td>0.77</td>\n",
       "    </tr>\n",
       "    <tr>\n",
       "      <th>4025</th>\n",
       "      <td>4027</td>\n",
       "      <td>Ice Hockey</td>\n",
       "      <td>2600</td>\n",
       "      <td>1980.0</td>\n",
       "      <td>Sports</td>\n",
       "      <td>Activision</td>\n",
       "      <td>0.46</td>\n",
       "      <td>0.03</td>\n",
       "      <td>0.0</td>\n",
       "      <td>0.01</td>\n",
       "      <td>0.49</td>\n",
       "    </tr>\n",
       "    <tr>\n",
       "      <th>5366</th>\n",
       "      <td>5368</td>\n",
       "      <td>Freeway</td>\n",
       "      <td>2600</td>\n",
       "      <td>1980.0</td>\n",
       "      <td>Action</td>\n",
       "      <td>Activision</td>\n",
       "      <td>0.32</td>\n",
       "      <td>0.02</td>\n",
       "      <td>0.0</td>\n",
       "      <td>0.00</td>\n",
       "      <td>0.34</td>\n",
       "    </tr>\n",
       "    <tr>\n",
       "      <th>6317</th>\n",
       "      <td>6319</td>\n",
       "      <td>Bridge</td>\n",
       "      <td>2600</td>\n",
       "      <td>1980.0</td>\n",
       "      <td>Misc</td>\n",
       "      <td>Activision</td>\n",
       "      <td>0.25</td>\n",
       "      <td>0.02</td>\n",
       "      <td>0.0</td>\n",
       "      <td>0.00</td>\n",
       "      <td>0.27</td>\n",
       "    </tr>\n",
       "    <tr>\n",
       "      <th>6896</th>\n",
       "      <td>6898</td>\n",
       "      <td>Checkers</td>\n",
       "      <td>2600</td>\n",
       "      <td>1980.0</td>\n",
       "      <td>Misc</td>\n",
       "      <td>Atari</td>\n",
       "      <td>0.22</td>\n",
       "      <td>0.01</td>\n",
       "      <td>0.0</td>\n",
       "      <td>0.00</td>\n",
       "      <td>0.24</td>\n",
       "    </tr>\n",
       "  </tbody>\n",
       "</table>\n",
       "</div>"
      ],
      "text/plain": [
       "      Rank             Name Platform    Year     Genre   Publisher  NA_Sales  \\\n",
       "258    259        Asteroids     2600  1980.0   Shooter       Atari      4.00   \n",
       "544    545  Missile Command     2600  1980.0   Shooter       Atari      2.56   \n",
       "1766  1768          Kaboom!     2600  1980.0      Misc  Activision      1.07   \n",
       "1969  1971         Defender     2600  1980.0      Misc       Atari      0.99   \n",
       "2669  2671           Boxing     2600  1980.0  Fighting  Activision      0.72   \n",
       "4025  4027       Ice Hockey     2600  1980.0    Sports  Activision      0.46   \n",
       "5366  5368          Freeway     2600  1980.0    Action  Activision      0.32   \n",
       "6317  6319           Bridge     2600  1980.0      Misc  Activision      0.25   \n",
       "6896  6898         Checkers     2600  1980.0      Misc       Atari      0.22   \n",
       "\n",
       "      EU_Sales  JP_Sales  Other_Sales  Global_Sales  \n",
       "258       0.26       0.0         0.05          4.31  \n",
       "544       0.17       0.0         0.03          2.76  \n",
       "1766      0.07       0.0         0.01          1.15  \n",
       "1969      0.05       0.0         0.01          1.05  \n",
       "2669      0.04       0.0         0.01          0.77  \n",
       "4025      0.03       0.0         0.01          0.49  \n",
       "5366      0.02       0.0         0.00          0.34  \n",
       "6317      0.02       0.0         0.00          0.27  \n",
       "6896      0.01       0.0         0.00          0.24  "
      ]
     },
     "execution_count": 24,
     "metadata": {},
     "output_type": "execute_result"
    }
   ],
   "source": [
    "Earliest"
   ]
  },
  {
   "cell_type": "code",
   "execution_count": 25,
   "id": "566da214-7819-4926-a11a-adf1c78ff1e4",
   "metadata": {},
   "outputs": [
    {
     "data": {
      "text/html": [
       "<div>\n",
       "<style scoped>\n",
       "    .dataframe tbody tr th:only-of-type {\n",
       "        vertical-align: middle;\n",
       "    }\n",
       "\n",
       "    .dataframe tbody tr th {\n",
       "        vertical-align: top;\n",
       "    }\n",
       "\n",
       "    .dataframe thead th {\n",
       "        text-align: right;\n",
       "    }\n",
       "</style>\n",
       "<table border=\"1\" class=\"dataframe\">\n",
       "  <thead>\n",
       "    <tr style=\"text-align: right;\">\n",
       "      <th></th>\n",
       "      <th>Rank</th>\n",
       "      <th>Name</th>\n",
       "      <th>Platform</th>\n",
       "      <th>Year</th>\n",
       "      <th>Genre</th>\n",
       "      <th>Publisher</th>\n",
       "      <th>NA_Sales</th>\n",
       "      <th>EU_Sales</th>\n",
       "      <th>JP_Sales</th>\n",
       "      <th>Other_Sales</th>\n",
       "      <th>Global_Sales</th>\n",
       "    </tr>\n",
       "  </thead>\n",
       "  <tbody>\n",
       "    <tr>\n",
       "      <th>5957</th>\n",
       "      <td>5959</td>\n",
       "      <td>Imagine: Makeup Artist</td>\n",
       "      <td>DS</td>\n",
       "      <td>2020.0</td>\n",
       "      <td>Simulation</td>\n",
       "      <td>Ubisoft</td>\n",
       "      <td>0.27</td>\n",
       "      <td>0.0</td>\n",
       "      <td>0.0</td>\n",
       "      <td>0.02</td>\n",
       "      <td>0.29</td>\n",
       "    </tr>\n",
       "  </tbody>\n",
       "</table>\n",
       "</div>"
      ],
      "text/plain": [
       "      Rank                    Name Platform    Year       Genre Publisher  \\\n",
       "5957  5959  Imagine: Makeup Artist       DS  2020.0  Simulation   Ubisoft   \n",
       "\n",
       "      NA_Sales  EU_Sales  JP_Sales  Other_Sales  Global_Sales  \n",
       "5957      0.27       0.0       0.0         0.02          0.29  "
      ]
     },
     "execution_count": 25,
     "metadata": {},
     "output_type": "execute_result"
    }
   ],
   "source": [
    "Latest"
   ]
  },
  {
   "cell_type": "code",
   "execution_count": 26,
   "id": "fac520b6-cae6-4476-937d-52a61097aa46",
   "metadata": {},
   "outputs": [
    {
     "name": "stdout",
     "output_type": "stream",
     "text": [
      "The platform with the Earliest release is :['2600']\n",
      "The platform with the Latest release is :['DS']\n"
     ]
    }
   ],
   "source": [
    "print(\"The platform with the Earliest release is :{}\".format(Earliest['Platform'].unique()))\n",
    "print(\"The platform with the Latest release is :{}\".format(Latest['Platform'].unique()))"
   ]
  },
  {
   "cell_type": "code",
   "execution_count": null,
   "id": "bdcfbb5d-ca78-43cc-b6cf-1781a9dae607",
   "metadata": {},
   "outputs": [],
   "source": [
    "#The platform with the earliest release was 2600, and\n",
    "#the platform with the latest release is DS."
   ]
  },
  {
   "cell_type": "code",
   "execution_count": 27,
   "id": "60c09032-13e8-4763-bc20-854c996938b0",
   "metadata": {},
   "outputs": [],
   "source": [
    "#To calculate the sales in various regions, we will sum the values in each region\n",
    "x = [\"North America\", \"Europe\", \"Japan\", \"Other\"]\n",
    "y = [Earliest['NA_Sales'].sum(), Earliest['EU_Sales'].sum(),\n",
    "     Earliest['JP_Sales'].sum(), Earliest['Other_Sales'].sum()]"
   ]
  },
  {
   "cell_type": "code",
   "execution_count": 28,
   "id": "1375964e-ce58-4a79-9f4d-f41a89a3859a",
   "metadata": {},
   "outputs": [
    {
     "data": {
      "text/plain": [
       "['North America', 'Europe', 'Japan', 'Other']"
      ]
     },
     "execution_count": 28,
     "metadata": {},
     "output_type": "execute_result"
    }
   ],
   "source": [
    "x"
   ]
  },
  {
   "cell_type": "code",
   "execution_count": 29,
   "id": "b186f572-c9a4-45c3-ac76-4fbc5cdb9c80",
   "metadata": {},
   "outputs": [
    {
     "data": {
      "text/plain": [
       "[10.590000000000002, 0.67, 0.0, 0.12000000000000001]"
      ]
     },
     "execution_count": 29,
     "metadata": {},
     "output_type": "execute_result"
    }
   ],
   "source": [
    "y"
   ]
  },
  {
   "cell_type": "code",
   "execution_count": 30,
   "id": "c613ec13-7cc9-4128-a18c-c9be06cabece",
   "metadata": {},
   "outputs": [
    {
     "data": {
      "text/plain": [
       "<Axes: >"
      ]
     },
     "execution_count": 30,
     "metadata": {},
     "output_type": "execute_result"
    },
    {
     "data": {
      "image/png": "[encoded data removed]",
      "text/plain": [
       "<Figure size 640x480 with 1 Axes>"
      ]
     },
     "metadata": {},
     "output_type": "display_data"
    }
   ],
   "source": [
    "sns.barplot( x=x, y=y)"
   ]
  },
  {
   "cell_type": "code",
   "execution_count": 31,
   "id": "8d6ab3f9-0445-42a0-97f0-e5be00c5c399",
   "metadata": {},
   "outputs": [],
   "source": [
    "y2 = [Latest['NA_Sales'].sum(), Latest['EU_Sales'].sum(),\n",
    "     Latest['JP_Sales'].sum(), Latest['Other_Sales'].sum()]"
   ]
  },
  {
   "cell_type": "code",
   "execution_count": 32,
   "id": "12528eac-01fa-4bf2-a9af-4db462a55ea4",
   "metadata": {},
   "outputs": [
    {
     "data": {
      "text/plain": [
       "[0.27, 0.0, 0.0, 0.02]"
      ]
     },
     "execution_count": 32,
     "metadata": {},
     "output_type": "execute_result"
    }
   ],
   "source": [
    "y2"
   ]
  },
  {
   "cell_type": "code",
   "execution_count": 33,
   "id": "95de0446-2eb8-4ad1-bc4d-f0879de3e2ae",
   "metadata": {},
   "outputs": [
    {
     "data": {
      "text/plain": [
       "<Axes: >"
      ]
     },
     "execution_count": 33,
     "metadata": {},
     "output_type": "execute_result"
    },
    {
     "data": {
      "image/png": "[encoded data removed]",
      "text/plain": [
       "<Figure size 640x480 with 1 Axes>"
      ]
     },
     "metadata": {},
     "output_type": "display_data"
    }
   ],
   "source": [
    "sns.barplot(x=x, y=y2)"
   ]
  },
  {
   "cell_type": "code",
   "execution_count": 34,
   "id": "04ddd9f2-f9e6-4acd-8e24-e9c715ef1c2d",
   "metadata": {},
   "outputs": [
    {
     "data": {
      "text/plain": [
       "<Axes: >"
      ]
     },
     "execution_count": 34,
     "metadata": {},
     "output_type": "execute_result"
    },
    {
     "data": {
      "image/png": "[encoded data removed]",
      "text/plain": [
       "<Figure size 640x480 with 1 Axes>"
      ]
     },
     "metadata": {},
     "output_type": "display_data"
    }
   ],
   "source": [
    "sns.lineplot(x=x, y=y, color='Red', label=\"Earliest\") #Red for the earliest\n",
    "sns.lineplot(x=x, y=y2, color='Blue', label = 'Latest') #Blue for the latest           ## FOR COMPARISON"
   ]
  },
  {
   "cell_type": "code",
   "execution_count": null,
   "id": "d2e838dc-54bb-434b-858b-ac4a4df0fdda",
   "metadata": {},
   "outputs": [],
   "source": [
    "# the earliest release had considerable sales in various parts of the world.\n",
    "# But the latest release did not have a lot of sales compared to the earliest.\n",
    "# Matter of fact, the sales were less than 1 million in sales for the latest release."
   ]
  },
  {
   "cell_type": "code",
   "execution_count": 35,
   "id": "80691f52-bf6d-4945-9037-34c1a7f3583f",
   "metadata": {},
   "outputs": [
    {
     "data": {
      "text/plain": [
       "Platform\n",
       "DS      2131\n",
       "PS2     2127\n",
       "PS3     1304\n",
       "Wii     1290\n",
       "X360    1234\n",
       "PSP     1197\n",
       "PS      1189\n",
       "PC       938\n",
       "XB       803\n",
       "GBA      786\n",
       "GC       542\n",
       "3DS      499\n",
       "PSV      410\n",
       "PS4      336\n",
       "N64      316\n",
       "SNES     239\n",
       "XOne     213\n",
       "SAT      173\n",
       "WiiU     143\n",
       "2600     116\n",
       "NES       98\n",
       "GB        97\n",
       "DC        52\n",
       "GEN       27\n",
       "NG        12\n",
       "SCD        6\n",
       "WS         6\n",
       "3DO        3\n",
       "TG16       2\n",
       "GG         1\n",
       "PCFX       1\n",
       "Name: count, dtype: int64"
      ]
     },
     "execution_count": 35,
     "metadata": {},
     "output_type": "execute_result"
    }
   ],
   "source": [
    "#What was the most frequent platform, and how did it perform during the years in global sales and individual sales?\n",
    "data['Platform'].value_counts()             ## IT IS A CATEGORICAL DATA SO WE ARE USING VALUE_COUNTS()"
   ]
  },
  {
   "cell_type": "code",
   "execution_count": null,
   "id": "5055410d-572b-45a8-9381-a08513a9e9c0",
   "metadata": {},
   "outputs": [],
   "source": [
    "#clearly DS had the most number of releases, so we will focus on DS, for further analysis."
   ]
  },
  {
   "cell_type": "code",
   "execution_count": 44,
   "id": "b7fa8188-c184-47cd-bdb9-b1b77ad077ca",
   "metadata": {},
   "outputs": [],
   "source": [
    "ds = data[(data['Platform'] == 'DS')]"
   ]
  },
  {
   "cell_type": "code",
   "execution_count": 45,
   "id": "27a4fe01-678c-4be3-b1b4-0d7a70f3e5af",
   "metadata": {},
   "outputs": [
    {
     "data": {
      "text/html": [
       "<div>\n",
       "<style scoped>\n",
       "    .dataframe tbody tr th:only-of-type {\n",
       "        vertical-align: middle;\n",
       "    }\n",
       "\n",
       "    .dataframe tbody tr th {\n",
       "        vertical-align: top;\n",
       "    }\n",
       "\n",
       "    .dataframe thead th {\n",
       "        text-align: right;\n",
       "    }\n",
       "</style>\n",
       "<table border=\"1\" class=\"dataframe\">\n",
       "  <thead>\n",
       "    <tr style=\"text-align: right;\">\n",
       "      <th></th>\n",
       "      <th>Rank</th>\n",
       "      <th>Name</th>\n",
       "      <th>Platform</th>\n",
       "      <th>Year</th>\n",
       "      <th>Genre</th>\n",
       "      <th>Publisher</th>\n",
       "      <th>NA_Sales</th>\n",
       "      <th>EU_Sales</th>\n",
       "      <th>JP_Sales</th>\n",
       "      <th>Other_Sales</th>\n",
       "      <th>Global_Sales</th>\n",
       "    </tr>\n",
       "  </thead>\n",
       "  <tbody>\n",
       "    <tr>\n",
       "      <th>6</th>\n",
       "      <td>7</td>\n",
       "      <td>New Super Mario Bros.</td>\n",
       "      <td>DS</td>\n",
       "      <td>2006.0</td>\n",
       "      <td>Platform</td>\n",
       "      <td>Nintendo</td>\n",
       "      <td>11.38</td>\n",
       "      <td>9.23</td>\n",
       "      <td>6.50</td>\n",
       "      <td>2.90</td>\n",
       "      <td>30.01</td>\n",
       "    </tr>\n",
       "    <tr>\n",
       "      <th>10</th>\n",
       "      <td>11</td>\n",
       "      <td>Nintendogs</td>\n",
       "      <td>DS</td>\n",
       "      <td>2005.0</td>\n",
       "      <td>Simulation</td>\n",
       "      <td>Nintendo</td>\n",
       "      <td>9.07</td>\n",
       "      <td>11.00</td>\n",
       "      <td>1.93</td>\n",
       "      <td>2.75</td>\n",
       "      <td>24.76</td>\n",
       "    </tr>\n",
       "    <tr>\n",
       "      <th>11</th>\n",
       "      <td>12</td>\n",
       "      <td>Mario Kart DS</td>\n",
       "      <td>DS</td>\n",
       "      <td>2005.0</td>\n",
       "      <td>Racing</td>\n",
       "      <td>Nintendo</td>\n",
       "      <td>9.81</td>\n",
       "      <td>7.57</td>\n",
       "      <td>4.13</td>\n",
       "      <td>1.92</td>\n",
       "      <td>23.42</td>\n",
       "    </tr>\n",
       "    <tr>\n",
       "      <th>19</th>\n",
       "      <td>20</td>\n",
       "      <td>Brain Age: Train Your Brain in Minutes a Day</td>\n",
       "      <td>DS</td>\n",
       "      <td>2005.0</td>\n",
       "      <td>Misc</td>\n",
       "      <td>Nintendo</td>\n",
       "      <td>4.75</td>\n",
       "      <td>9.26</td>\n",
       "      <td>4.16</td>\n",
       "      <td>2.05</td>\n",
       "      <td>20.22</td>\n",
       "    </tr>\n",
       "    <tr>\n",
       "      <th>20</th>\n",
       "      <td>21</td>\n",
       "      <td>Pokemon Diamond/Pokemon Pearl</td>\n",
       "      <td>DS</td>\n",
       "      <td>2006.0</td>\n",
       "      <td>Role-Playing</td>\n",
       "      <td>Nintendo</td>\n",
       "      <td>6.42</td>\n",
       "      <td>4.52</td>\n",
       "      <td>6.04</td>\n",
       "      <td>1.37</td>\n",
       "      <td>18.36</td>\n",
       "    </tr>\n",
       "    <tr>\n",
       "      <th>...</th>\n",
       "      <td>...</td>\n",
       "      <td>...</td>\n",
       "      <td>...</td>\n",
       "      <td>...</td>\n",
       "      <td>...</td>\n",
       "      <td>...</td>\n",
       "      <td>...</td>\n",
       "      <td>...</td>\n",
       "      <td>...</td>\n",
       "      <td>...</td>\n",
       "      <td>...</td>\n",
       "    </tr>\n",
       "    <tr>\n",
       "      <th>16586</th>\n",
       "      <td>16589</td>\n",
       "      <td>Secret Files 2: Puritas Cordis</td>\n",
       "      <td>DS</td>\n",
       "      <td>2009.0</td>\n",
       "      <td>Adventure</td>\n",
       "      <td>Deep Silver</td>\n",
       "      <td>0.00</td>\n",
       "      <td>0.01</td>\n",
       "      <td>0.00</td>\n",
       "      <td>0.00</td>\n",
       "      <td>0.01</td>\n",
       "    </tr>\n",
       "    <tr>\n",
       "      <th>16587</th>\n",
       "      <td>16590</td>\n",
       "      <td>Mezase!! Tsuri Master DS</td>\n",
       "      <td>DS</td>\n",
       "      <td>2009.0</td>\n",
       "      <td>Sports</td>\n",
       "      <td>Hudson Soft</td>\n",
       "      <td>0.00</td>\n",
       "      <td>0.00</td>\n",
       "      <td>0.01</td>\n",
       "      <td>0.00</td>\n",
       "      <td>0.01</td>\n",
       "    </tr>\n",
       "    <tr>\n",
       "      <th>16588</th>\n",
       "      <td>16591</td>\n",
       "      <td>Mega Brain Boost</td>\n",
       "      <td>DS</td>\n",
       "      <td>2008.0</td>\n",
       "      <td>Puzzle</td>\n",
       "      <td>Majesco Entertainment</td>\n",
       "      <td>0.01</td>\n",
       "      <td>0.00</td>\n",
       "      <td>0.00</td>\n",
       "      <td>0.00</td>\n",
       "      <td>0.01</td>\n",
       "    </tr>\n",
       "    <tr>\n",
       "      <th>16592</th>\n",
       "      <td>16595</td>\n",
       "      <td>Plushees</td>\n",
       "      <td>DS</td>\n",
       "      <td>2008.0</td>\n",
       "      <td>Simulation</td>\n",
       "      <td>Destineer</td>\n",
       "      <td>0.01</td>\n",
       "      <td>0.00</td>\n",
       "      <td>0.00</td>\n",
       "      <td>0.00</td>\n",
       "      <td>0.01</td>\n",
       "    </tr>\n",
       "    <tr>\n",
       "      <th>16596</th>\n",
       "      <td>16599</td>\n",
       "      <td>Know How 2</td>\n",
       "      <td>DS</td>\n",
       "      <td>2010.0</td>\n",
       "      <td>Puzzle</td>\n",
       "      <td>7G//AMES</td>\n",
       "      <td>0.00</td>\n",
       "      <td>0.01</td>\n",
       "      <td>0.00</td>\n",
       "      <td>0.00</td>\n",
       "      <td>0.01</td>\n",
       "    </tr>\n",
       "  </tbody>\n",
       "</table>\n",
       "<p>2131 rows × 11 columns</p>\n",
       "</div>"
      ],
      "text/plain": [
       "        Rank                                          Name Platform    Year  \\\n",
       "6          7                         New Super Mario Bros.       DS  2006.0   \n",
       "10        11                                    Nintendogs       DS  2005.0   \n",
       "11        12                                 Mario Kart DS       DS  2005.0   \n",
       "19        20  Brain Age: Train Your Brain in Minutes a Day       DS  2005.0   \n",
       "20        21                 Pokemon Diamond/Pokemon Pearl       DS  2006.0   \n",
       "...      ...                                           ...      ...     ...   \n",
       "16586  16589                Secret Files 2: Puritas Cordis       DS  2009.0   \n",
       "16587  16590                      Mezase!! Tsuri Master DS       DS  2009.0   \n",
       "16588  16591                              Mega Brain Boost       DS  2008.0   \n",
       "16592  16595                                      Plushees       DS  2008.0   \n",
       "16596  16599                                    Know How 2       DS  2010.0   \n",
       "\n",
       "              Genre              Publisher  NA_Sales  EU_Sales  JP_Sales  \\\n",
       "6          Platform               Nintendo     11.38      9.23      6.50   \n",
       "10       Simulation               Nintendo      9.07     11.00      1.93   \n",
       "11           Racing               Nintendo      9.81      7.57      4.13   \n",
       "19             Misc               Nintendo      4.75      9.26      4.16   \n",
       "20     Role-Playing               Nintendo      6.42      4.52      6.04   \n",
       "...             ...                    ...       ...       ...       ...   \n",
       "16586     Adventure            Deep Silver      0.00      0.01      0.00   \n",
       "16587        Sports            Hudson Soft      0.00      0.00      0.01   \n",
       "16588        Puzzle  Majesco Entertainment      0.01      0.00      0.00   \n",
       "16592    Simulation              Destineer      0.01      0.00      0.00   \n",
       "16596        Puzzle               7G//AMES      0.00      0.01      0.00   \n",
       "\n",
       "       Other_Sales  Global_Sales  \n",
       "6             2.90         30.01  \n",
       "10            2.75         24.76  \n",
       "11            1.92         23.42  \n",
       "19            2.05         20.22  \n",
       "20            1.37         18.36  \n",
       "...            ...           ...  \n",
       "16586         0.00          0.01  \n",
       "16587         0.00          0.01  \n",
       "16588         0.00          0.01  \n",
       "16592         0.00          0.01  \n",
       "16596         0.00          0.01  \n",
       "\n",
       "[2131 rows x 11 columns]"
      ]
     },
     "execution_count": 45,
     "metadata": {},
     "output_type": "execute_result"
    }
   ],
   "source": [
    "ds"
   ]
  },
  {
   "cell_type": "code",
   "execution_count": 38,
   "id": "45c48a40-4c90-498f-a0df-afcf12e44f80",
   "metadata": {},
   "outputs": [],
   "source": [
    "ds = data.loc[(data['Platform'] == 'DS')]"
   ]
  },
  {
   "cell_type": "code",
   "execution_count": 39,
   "id": "2c8c75cc-1277-4f2c-b0a0-f6133e7f1191",
   "metadata": {},
   "outputs": [
    {
     "data": {
      "text/html": [
       "<div>\n",
       "<style scoped>\n",
       "    .dataframe tbody tr th:only-of-type {\n",
       "        vertical-align: middle;\n",
       "    }\n",
       "\n",
       "    .dataframe tbody tr th {\n",
       "        vertical-align: top;\n",
       "    }\n",
       "\n",
       "    .dataframe thead th {\n",
       "        text-align: right;\n",
       "    }\n",
       "</style>\n",
       "<table border=\"1\" class=\"dataframe\">\n",
       "  <thead>\n",
       "    <tr style=\"text-align: right;\">\n",
       "      <th></th>\n",
       "      <th>Rank</th>\n",
       "      <th>Name</th>\n",
       "      <th>Platform</th>\n",
       "      <th>Year</th>\n",
       "      <th>Genre</th>\n",
       "      <th>Publisher</th>\n",
       "      <th>NA_Sales</th>\n",
       "      <th>EU_Sales</th>\n",
       "      <th>JP_Sales</th>\n",
       "      <th>Other_Sales</th>\n",
       "      <th>Global_Sales</th>\n",
       "    </tr>\n",
       "  </thead>\n",
       "  <tbody>\n",
       "    <tr>\n",
       "      <th>6</th>\n",
       "      <td>7</td>\n",
       "      <td>New Super Mario Bros.</td>\n",
       "      <td>DS</td>\n",
       "      <td>2006.0</td>\n",
       "      <td>Platform</td>\n",
       "      <td>Nintendo</td>\n",
       "      <td>11.38</td>\n",
       "      <td>9.23</td>\n",
       "      <td>6.50</td>\n",
       "      <td>2.90</td>\n",
       "      <td>30.01</td>\n",
       "    </tr>\n",
       "    <tr>\n",
       "      <th>10</th>\n",
       "      <td>11</td>\n",
       "      <td>Nintendogs</td>\n",
       "      <td>DS</td>\n",
       "      <td>2005.0</td>\n",
       "      <td>Simulation</td>\n",
       "      <td>Nintendo</td>\n",
       "      <td>9.07</td>\n",
       "      <td>11.00</td>\n",
       "      <td>1.93</td>\n",
       "      <td>2.75</td>\n",
       "      <td>24.76</td>\n",
       "    </tr>\n",
       "    <tr>\n",
       "      <th>11</th>\n",
       "      <td>12</td>\n",
       "      <td>Mario Kart DS</td>\n",
       "      <td>DS</td>\n",
       "      <td>2005.0</td>\n",
       "      <td>Racing</td>\n",
       "      <td>Nintendo</td>\n",
       "      <td>9.81</td>\n",
       "      <td>7.57</td>\n",
       "      <td>4.13</td>\n",
       "      <td>1.92</td>\n",
       "      <td>23.42</td>\n",
       "    </tr>\n",
       "    <tr>\n",
       "      <th>19</th>\n",
       "      <td>20</td>\n",
       "      <td>Brain Age: Train Your Brain in Minutes a Day</td>\n",
       "      <td>DS</td>\n",
       "      <td>2005.0</td>\n",
       "      <td>Misc</td>\n",
       "      <td>Nintendo</td>\n",
       "      <td>4.75</td>\n",
       "      <td>9.26</td>\n",
       "      <td>4.16</td>\n",
       "      <td>2.05</td>\n",
       "      <td>20.22</td>\n",
       "    </tr>\n",
       "    <tr>\n",
       "      <th>20</th>\n",
       "      <td>21</td>\n",
       "      <td>Pokemon Diamond/Pokemon Pearl</td>\n",
       "      <td>DS</td>\n",
       "      <td>2006.0</td>\n",
       "      <td>Role-Playing</td>\n",
       "      <td>Nintendo</td>\n",
       "      <td>6.42</td>\n",
       "      <td>4.52</td>\n",
       "      <td>6.04</td>\n",
       "      <td>1.37</td>\n",
       "      <td>18.36</td>\n",
       "    </tr>\n",
       "    <tr>\n",
       "      <th>...</th>\n",
       "      <td>...</td>\n",
       "      <td>...</td>\n",
       "      <td>...</td>\n",
       "      <td>...</td>\n",
       "      <td>...</td>\n",
       "      <td>...</td>\n",
       "      <td>...</td>\n",
       "      <td>...</td>\n",
       "      <td>...</td>\n",
       "      <td>...</td>\n",
       "      <td>...</td>\n",
       "    </tr>\n",
       "    <tr>\n",
       "      <th>16586</th>\n",
       "      <td>16589</td>\n",
       "      <td>Secret Files 2: Puritas Cordis</td>\n",
       "      <td>DS</td>\n",
       "      <td>2009.0</td>\n",
       "      <td>Adventure</td>\n",
       "      <td>Deep Silver</td>\n",
       "      <td>0.00</td>\n",
       "      <td>0.01</td>\n",
       "      <td>0.00</td>\n",
       "      <td>0.00</td>\n",
       "      <td>0.01</td>\n",
       "    </tr>\n",
       "    <tr>\n",
       "      <th>16587</th>\n",
       "      <td>16590</td>\n",
       "      <td>Mezase!! Tsuri Master DS</td>\n",
       "      <td>DS</td>\n",
       "      <td>2009.0</td>\n",
       "      <td>Sports</td>\n",
       "      <td>Hudson Soft</td>\n",
       "      <td>0.00</td>\n",
       "      <td>0.00</td>\n",
       "      <td>0.01</td>\n",
       "      <td>0.00</td>\n",
       "      <td>0.01</td>\n",
       "    </tr>\n",
       "    <tr>\n",
       "      <th>16588</th>\n",
       "      <td>16591</td>\n",
       "      <td>Mega Brain Boost</td>\n",
       "      <td>DS</td>\n",
       "      <td>2008.0</td>\n",
       "      <td>Puzzle</td>\n",
       "      <td>Majesco Entertainment</td>\n",
       "      <td>0.01</td>\n",
       "      <td>0.00</td>\n",
       "      <td>0.00</td>\n",
       "      <td>0.00</td>\n",
       "      <td>0.01</td>\n",
       "    </tr>\n",
       "    <tr>\n",
       "      <th>16592</th>\n",
       "      <td>16595</td>\n",
       "      <td>Plushees</td>\n",
       "      <td>DS</td>\n",
       "      <td>2008.0</td>\n",
       "      <td>Simulation</td>\n",
       "      <td>Destineer</td>\n",
       "      <td>0.01</td>\n",
       "      <td>0.00</td>\n",
       "      <td>0.00</td>\n",
       "      <td>0.00</td>\n",
       "      <td>0.01</td>\n",
       "    </tr>\n",
       "    <tr>\n",
       "      <th>16596</th>\n",
       "      <td>16599</td>\n",
       "      <td>Know How 2</td>\n",
       "      <td>DS</td>\n",
       "      <td>2010.0</td>\n",
       "      <td>Puzzle</td>\n",
       "      <td>7G//AMES</td>\n",
       "      <td>0.00</td>\n",
       "      <td>0.01</td>\n",
       "      <td>0.00</td>\n",
       "      <td>0.00</td>\n",
       "      <td>0.01</td>\n",
       "    </tr>\n",
       "  </tbody>\n",
       "</table>\n",
       "<p>2131 rows × 11 columns</p>\n",
       "</div>"
      ],
      "text/plain": [
       "        Rank                                          Name Platform    Year  \\\n",
       "6          7                         New Super Mario Bros.       DS  2006.0   \n",
       "10        11                                    Nintendogs       DS  2005.0   \n",
       "11        12                                 Mario Kart DS       DS  2005.0   \n",
       "19        20  Brain Age: Train Your Brain in Minutes a Day       DS  2005.0   \n",
       "20        21                 Pokemon Diamond/Pokemon Pearl       DS  2006.0   \n",
       "...      ...                                           ...      ...     ...   \n",
       "16586  16589                Secret Files 2: Puritas Cordis       DS  2009.0   \n",
       "16587  16590                      Mezase!! Tsuri Master DS       DS  2009.0   \n",
       "16588  16591                              Mega Brain Boost       DS  2008.0   \n",
       "16592  16595                                      Plushees       DS  2008.0   \n",
       "16596  16599                                    Know How 2       DS  2010.0   \n",
       "\n",
       "              Genre              Publisher  NA_Sales  EU_Sales  JP_Sales  \\\n",
       "6          Platform               Nintendo     11.38      9.23      6.50   \n",
       "10       Simulation               Nintendo      9.07     11.00      1.93   \n",
       "11           Racing               Nintendo      9.81      7.57      4.13   \n",
       "19             Misc               Nintendo      4.75      9.26      4.16   \n",
       "20     Role-Playing               Nintendo      6.42      4.52      6.04   \n",
       "...             ...                    ...       ...       ...       ...   \n",
       "16586     Adventure            Deep Silver      0.00      0.01      0.00   \n",
       "16587        Sports            Hudson Soft      0.00      0.00      0.01   \n",
       "16588        Puzzle  Majesco Entertainment      0.01      0.00      0.00   \n",
       "16592    Simulation              Destineer      0.01      0.00      0.00   \n",
       "16596        Puzzle               7G//AMES      0.00      0.01      0.00   \n",
       "\n",
       "       Other_Sales  Global_Sales  \n",
       "6             2.90         30.01  \n",
       "10            2.75         24.76  \n",
       "11            1.92         23.42  \n",
       "19            2.05         20.22  \n",
       "20            1.37         18.36  \n",
       "...            ...           ...  \n",
       "16586         0.00          0.01  \n",
       "16587         0.00          0.01  \n",
       "16588         0.00          0.01  \n",
       "16592         0.00          0.01  \n",
       "16596         0.00          0.01  \n",
       "\n",
       "[2131 rows x 11 columns]"
      ]
     },
     "execution_count": 39,
     "metadata": {},
     "output_type": "execute_result"
    }
   ],
   "source": [
    "ds"
   ]
  },
  {
   "cell_type": "code",
   "execution_count": 40,
   "id": "67ed93fc-d447-4324-9557-4f01219dcef7",
   "metadata": {},
   "outputs": [
    {
     "data": {
      "text/plain": [
       "array([2006., 2005., 2010., 2009., 2004., 2007., 2012., 2008., 2011.,\n",
       "       2013., 2020., 2014., 1985.])"
      ]
     },
     "execution_count": 40,
     "metadata": {},
     "output_type": "execute_result"
    }
   ],
   "source": [
    "ds['Year'].unique()"
   ]
  },
  {
   "cell_type": "code",
   "execution_count": 46,
   "id": "f300a867-717d-4055-8ada-96297bc83d9b",
   "metadata": {},
   "outputs": [],
   "source": [
    "final_NA = {1985: [], 2004:[], 2005: [], 2006: [], 2007: [], 2008:[], 2009: [], 2010: [], 2011: [], 2012:[], 2013: [], 2014: [], 2020: []}\n",
    "final_EU = {1985: [], 2004:[], 2005: [], 2006: [], 2007: [], 2008:[], 2009: [], 2010: [], 2011: [], 2012:[], 2013: [], 2014: [], 2020: []}\n",
    "final_JP = {1985: [], 2004:[], 2005: [], 2006: [], 2007: [], 2008:[], 2009: [], 2010: [], 2011: [], 2012:[], 2013: [], 2014: [], 2020: []}\n",
    "final_Other = {1985: [], 2004:[], 2005: [], 2006: [], 2007: [], 2008:[], 2009: [], 2010: [], 2011: [], 2012:[], 2013: [], 2014: [], 2020: []}\n",
    "final_Global = {1985: [], 2004:[], 2005: [], 2006: [], 2007: [], 2008:[], 2009: [], 2010: [], 2011: [], 2012:[], 2013: [], 2014: [], 2020: []}\n",
    "\n",
    "\n",
    "## WE ARE MAKING A DICTIONARY FOR A LOCK AND KEY BASIS AND CRETAING A EMPTY LIST INFRONT OF THE YEAR TO FILL IT WITH RELEVANT DATA"
   ]
  },
  {
   "cell_type": "code",
   "execution_count": 47,
   "id": "f7ef503f-dfef-4d30-9b0b-65c823166195",
   "metadata": {},
   "outputs": [
    {
     "data": {
      "text/plain": [
       "{1985: [],\n",
       " 2004: [],\n",
       " 2005: [],\n",
       " 2006: [],\n",
       " 2007: [],\n",
       " 2008: [],\n",
       " 2009: [],\n",
       " 2010: [],\n",
       " 2011: [],\n",
       " 2012: [],\n",
       " 2013: [],\n",
       " 2014: [],\n",
       " 2020: []}"
      ]
     },
     "execution_count": 47,
     "metadata": {},
     "output_type": "execute_result"
    }
   ],
   "source": [
    "final_NA"
   ]
  },
  {
   "cell_type": "code",
   "execution_count": 48,
   "id": "2aa85eaf-882f-4e7b-b4c7-c8da3491997a",
   "metadata": {},
   "outputs": [
    {
     "name": "stdout",
     "output_type": "stream",
     "text": [
      "Rank                                7\n",
      "Name            New Super Mario Bros.\n",
      "Platform                           DS\n",
      "Year                           2006.0\n",
      "Genre                        Platform\n",
      "Publisher                    Nintendo\n",
      "NA_Sales                        11.38\n",
      "EU_Sales                         9.23\n",
      "JP_Sales                          6.5\n",
      "Other_Sales                       2.9\n",
      "Global_Sales                    30.01\n",
      "Name: 6, dtype: object\n"
     ]
    }
   ],
   "source": [
    "for i in ds.iterrows():\n",
    "  print(i[1])\n",
    "  break"
   ]
  },
  {
   "cell_type": "code",
   "execution_count": 49,
   "id": "c9de8358-6b3e-4058-a571-fd177f92a089",
   "metadata": {},
   "outputs": [
    {
     "data": {
      "text/plain": [
       "'Platform'"
      ]
     },
     "execution_count": 49,
     "metadata": {},
     "output_type": "execute_result"
    }
   ],
   "source": [
    "i[1][4]        ##INDEXING DONE"
   ]
  },
  {
   "cell_type": "code",
   "execution_count": 50,
   "id": "1075faf4-f5aa-4c31-9820-b806f82ed5ea",
   "metadata": {},
   "outputs": [
    {
     "data": {
      "text/plain": [
       "11.38"
      ]
     },
     "execution_count": 50,
     "metadata": {},
     "output_type": "execute_result"
    }
   ],
   "source": [
    "i[1][6]          ##INDEXING DONE"
   ]
  },
  {
   "cell_type": "code",
   "execution_count": 51,
   "id": "17c5a2f4-98b5-4bd6-8538-da15932f87d5",
   "metadata": {},
   "outputs": [],
   "source": [
    "for i in ds.iterrows():\n",
    "  year = i[1][3]\n",
    "  final_NA[year].insert(0, i[1][6])\n",
    "  final_EU[year].insert(0, i[1][7])\n",
    "  final_JP[year].insert(0, i[1][8])\n",
    "  final_Other[year].insert(0, i[1][9])\n",
    "  final_Global[year].insert(0, i[1][10])"
   ]
  },
  {
   "cell_type": "code",
   "execution_count": 67,
   "id": "a3729753-9e2a-440b-a0b4-5f16c2bc4ca9",
   "metadata": {},
   "outputs": [
    {
     "data": {
      "text/plain": [
       "{1985: 0.0,\n",
       " 2004: 8.42,\n",
       " 2005: 48.470000000000006,\n",
       " 2006: 50.63000000000001,\n",
       " 2007: 76.36,\n",
       " 2008: 79.39999999999998,\n",
       " 2009: 62.41000000000001,\n",
       " 2010: 42.36,\n",
       " 2011: 15.29,\n",
       " 2012: 4.18,\n",
       " 2013: 0.7200000000000001,\n",
       " 2014: 0.02,\n",
       " 2020: 0.27}"
      ]
     },
     "execution_count": 67,
     "metadata": {},
     "output_type": "execute_result"
    }
   ],
   "source": [
    "final_NA"
   ]
  },
  {
   "cell_type": "code",
   "execution_count": 59,
   "id": "2071d737-917c-4689-86b4-e7c3a950c30c",
   "metadata": {},
   "outputs": [],
   "source": [
    "for i in final_NA.keys():\n",
    "  final_NA[i] = sum(final_NA[i])\n",
    "\n",
    "for i in final_EU.keys():\n",
    "  final_EU[i] = sum(final_EU[i])\n",
    "\n",
    "for i in final_JP.keys():\n",
    "  final_JP[i] = sum(final_JP[i])\n",
    "\n",
    "for i in final_Other.keys():\n",
    "  final_Other[i] = sum(final_Other[i])\n",
    "\n",
    "for i in final_Global.keys():\n",
    "  final_Global[i] = sum(final_Global[i])"
   ]
  },
  {
   "cell_type": "code",
   "execution_count": 61,
   "id": "41196e70-339a-4886-95c7-fc758e8942ad",
   "metadata": {},
   "outputs": [
    {
     "data": {
      "text/plain": [
       "({1985: 0.0,\n",
       "  2004: 8.42,\n",
       "  2005: 48.470000000000006,\n",
       "  2006: 50.63000000000001,\n",
       "  2007: 76.36,\n",
       "  2008: 79.39999999999998,\n",
       "  2009: 62.41000000000001,\n",
       "  2010: 42.36,\n",
       "  2011: 15.29,\n",
       "  2012: 4.18,\n",
       "  2013: 0.7200000000000001,\n",
       "  2014: 0.02,\n",
       "  2020: 0.27},\n",
       " {1985: 0.0,\n",
       "  2004: 3.9699999999999998,\n",
       "  2005: 42.06,\n",
       "  2006: 23.53,\n",
       "  2007: 34.58,\n",
       "  2008: 33.04999999999999,\n",
       "  2009: 26.519999999999996,\n",
       "  2010: 20.07,\n",
       "  2011: 6.1800000000000015,\n",
       "  2012: 3.0200000000000005,\n",
       "  2013: 1.07,\n",
       "  2014: 0.0,\n",
       "  2020: 0.0})"
      ]
     },
     "execution_count": 61,
     "metadata": {},
     "output_type": "execute_result"
    }
   ],
   "source": [
    "final_NA,final_EU"
   ]
  },
  {
   "cell_type": "code",
   "execution_count": 64,
   "id": "7b8e0733-180e-4fc1-864b-be707e555144",
   "metadata": {},
   "outputs": [
    {
     "data": {
      "text/plain": [
       "<Axes: >"
      ]
     },
     "execution_count": 64,
     "metadata": {},
     "output_type": "execute_result"
    },
    {
     "data": {
      "image/png": "[encoded data removed]",
      "text/plain": [
       "<Figure size 640x480 with 1 Axes>"
      ]
     },
     "metadata": {},
     "output_type": "display_data"
    }
   ],
   "source": [
    "years = final_NA.keys()\n",
    "sns.lineplot(data=final_NA, color='Blue', label='North America') #North America Sales\n",
    "sns.lineplot(data=final_EU, color='Orange', label='Europe') #Europe Sales\n",
    "sns.lineplot(data=final_JP, color='Green', label='Japan') #Japan Sales\n",
    "sns.lineplot(data=final_Other, color='Purple', label='Rest of the world') #Rest of the world Sales"
   ]
  },
  {
   "cell_type": "code",
   "execution_count": null,
   "id": "a70032c7-7eb7-4f2d-bbe9-6860a49f5379",
   "metadata": {},
   "outputs": [],
   "source": [
    "#the sales in the north america surpassed all other areas, but only saw considerable spike during 2004-2014."
   ]
  },
  {
   "cell_type": "code",
   "execution_count": 68,
   "id": "6dc465b7-dfde-4ed0-86d6-3ca14d6f52aa",
   "metadata": {},
   "outputs": [
    {
     "data": {
      "text/plain": [
       "<Axes: >"
      ]
     },
     "execution_count": 68,
     "metadata": {},
     "output_type": "execute_result"
    },
    {
     "data": {
      "image/png": "[encoded data removed]",
      "text/plain": [
       "<Figure size 640x480 with 1 Axes>"
      ]
     },
     "metadata": {},
     "output_type": "display_data"
    }
   ],
   "source": [
    "sns.lineplot(data=final_Global)"
   ]
  },
  {
   "cell_type": "code",
   "execution_count": null,
   "id": "cc216612-82ad-4204-98b7-ed71a0cc00f0",
   "metadata": {},
   "outputs": [],
   "source": [
    "# global sales saw a considerable amount of sales during 2004 to 2014."
   ]
  },
  {
   "cell_type": "markdown",
   "id": "e685b84b-a586-4fbd-96ca-86149df3e2a8",
   "metadata": {},
   "source": [
    "### Genre Column"
   ]
  },
  {
   "cell_type": "code",
   "execution_count": 69,
   "id": "ce82c79a-37ef-44a8-9c80-70f20a94276f",
   "metadata": {},
   "outputs": [
    {
     "data": {
      "text/plain": [
       "Genre\n",
       "Action          3251\n",
       "Sports          2304\n",
       "Misc            1686\n",
       "Role-Playing    1470\n",
       "Shooter         1282\n",
       "Adventure       1274\n",
       "Racing          1225\n",
       "Platform         875\n",
       "Simulation       848\n",
       "Fighting         836\n",
       "Strategy         670\n",
       "Puzzle           570\n",
       "Name: count, dtype: int64"
      ]
     },
     "execution_count": 69,
     "metadata": {},
     "output_type": "execute_result"
    }
   ],
   "source": [
    "data['Genre'].value_counts()"
   ]
  },
  {
   "cell_type": "code",
   "execution_count": 71,
   "id": "9cb73acf-fdba-49ea-8984-a2f7afd243c1",
   "metadata": {},
   "outputs": [
    {
     "data": {
      "text/html": [
       "<div>\n",
       "<style scoped>\n",
       "    .dataframe tbody tr th:only-of-type {\n",
       "        vertical-align: middle;\n",
       "    }\n",
       "\n",
       "    .dataframe tbody tr th {\n",
       "        vertical-align: top;\n",
       "    }\n",
       "\n",
       "    .dataframe thead th {\n",
       "        text-align: right;\n",
       "    }\n",
       "</style>\n",
       "<table border=\"1\" class=\"dataframe\">\n",
       "  <thead>\n",
       "    <tr style=\"text-align: right;\">\n",
       "      <th></th>\n",
       "      <th>Rank</th>\n",
       "      <th>Name</th>\n",
       "      <th>Platform</th>\n",
       "      <th>Year</th>\n",
       "      <th>Genre</th>\n",
       "      <th>Publisher</th>\n",
       "      <th>NA_Sales</th>\n",
       "      <th>EU_Sales</th>\n",
       "      <th>JP_Sales</th>\n",
       "      <th>Other_Sales</th>\n",
       "      <th>Global_Sales</th>\n",
       "    </tr>\n",
       "  </thead>\n",
       "  <tbody>\n",
       "    <tr>\n",
       "      <th>16</th>\n",
       "      <td>17</td>\n",
       "      <td>Grand Theft Auto V</td>\n",
       "      <td>PS3</td>\n",
       "      <td>2013.0</td>\n",
       "      <td>Action</td>\n",
       "      <td>Take-Two Interactive</td>\n",
       "      <td>7.01</td>\n",
       "      <td>9.27</td>\n",
       "      <td>0.97</td>\n",
       "      <td>4.14</td>\n",
       "      <td>21.40</td>\n",
       "    </tr>\n",
       "    <tr>\n",
       "      <th>17</th>\n",
       "      <td>18</td>\n",
       "      <td>Grand Theft Auto: San Andreas</td>\n",
       "      <td>PS2</td>\n",
       "      <td>2004.0</td>\n",
       "      <td>Action</td>\n",
       "      <td>Take-Two Interactive</td>\n",
       "      <td>9.43</td>\n",
       "      <td>0.40</td>\n",
       "      <td>0.41</td>\n",
       "      <td>10.57</td>\n",
       "      <td>20.81</td>\n",
       "    </tr>\n",
       "    <tr>\n",
       "      <th>23</th>\n",
       "      <td>24</td>\n",
       "      <td>Grand Theft Auto V</td>\n",
       "      <td>X360</td>\n",
       "      <td>2013.0</td>\n",
       "      <td>Action</td>\n",
       "      <td>Take-Two Interactive</td>\n",
       "      <td>9.63</td>\n",
       "      <td>5.31</td>\n",
       "      <td>0.06</td>\n",
       "      <td>1.38</td>\n",
       "      <td>16.38</td>\n",
       "    </tr>\n",
       "    <tr>\n",
       "      <th>24</th>\n",
       "      <td>25</td>\n",
       "      <td>Grand Theft Auto: Vice City</td>\n",
       "      <td>PS2</td>\n",
       "      <td>2002.0</td>\n",
       "      <td>Action</td>\n",
       "      <td>Take-Two Interactive</td>\n",
       "      <td>8.41</td>\n",
       "      <td>5.49</td>\n",
       "      <td>0.47</td>\n",
       "      <td>1.78</td>\n",
       "      <td>16.15</td>\n",
       "    </tr>\n",
       "    <tr>\n",
       "      <th>38</th>\n",
       "      <td>39</td>\n",
       "      <td>Grand Theft Auto III</td>\n",
       "      <td>PS2</td>\n",
       "      <td>2001.0</td>\n",
       "      <td>Action</td>\n",
       "      <td>Take-Two Interactive</td>\n",
       "      <td>6.99</td>\n",
       "      <td>4.51</td>\n",
       "      <td>0.30</td>\n",
       "      <td>1.30</td>\n",
       "      <td>13.10</td>\n",
       "    </tr>\n",
       "    <tr>\n",
       "      <th>...</th>\n",
       "      <td>...</td>\n",
       "      <td>...</td>\n",
       "      <td>...</td>\n",
       "      <td>...</td>\n",
       "      <td>...</td>\n",
       "      <td>...</td>\n",
       "      <td>...</td>\n",
       "      <td>...</td>\n",
       "      <td>...</td>\n",
       "      <td>...</td>\n",
       "      <td>...</td>\n",
       "    </tr>\n",
       "    <tr>\n",
       "      <th>16564</th>\n",
       "      <td>16567</td>\n",
       "      <td>Original Frisbee Disc Sports: Ultimate &amp; Golf</td>\n",
       "      <td>DS</td>\n",
       "      <td>2007.0</td>\n",
       "      <td>Action</td>\n",
       "      <td>Destination Software, Inc</td>\n",
       "      <td>0.01</td>\n",
       "      <td>0.00</td>\n",
       "      <td>0.00</td>\n",
       "      <td>0.00</td>\n",
       "      <td>0.01</td>\n",
       "    </tr>\n",
       "    <tr>\n",
       "      <th>16567</th>\n",
       "      <td>16570</td>\n",
       "      <td>Fujiko F. Fujio Characters: Great Assembly! Sl...</td>\n",
       "      <td>3DS</td>\n",
       "      <td>2014.0</td>\n",
       "      <td>Action</td>\n",
       "      <td>Namco Bandai Games</td>\n",
       "      <td>0.00</td>\n",
       "      <td>0.00</td>\n",
       "      <td>0.01</td>\n",
       "      <td>0.00</td>\n",
       "      <td>0.01</td>\n",
       "    </tr>\n",
       "    <tr>\n",
       "      <th>16582</th>\n",
       "      <td>16585</td>\n",
       "      <td>Planet Monsters</td>\n",
       "      <td>GBA</td>\n",
       "      <td>2001.0</td>\n",
       "      <td>Action</td>\n",
       "      <td>Titus</td>\n",
       "      <td>0.01</td>\n",
       "      <td>0.00</td>\n",
       "      <td>0.00</td>\n",
       "      <td>0.00</td>\n",
       "      <td>0.01</td>\n",
       "    </tr>\n",
       "    <tr>\n",
       "      <th>16583</th>\n",
       "      <td>16586</td>\n",
       "      <td>Carmageddon 64</td>\n",
       "      <td>N64</td>\n",
       "      <td>1999.0</td>\n",
       "      <td>Action</td>\n",
       "      <td>Virgin Interactive</td>\n",
       "      <td>0.01</td>\n",
       "      <td>0.00</td>\n",
       "      <td>0.00</td>\n",
       "      <td>0.00</td>\n",
       "      <td>0.01</td>\n",
       "    </tr>\n",
       "    <tr>\n",
       "      <th>16589</th>\n",
       "      <td>16592</td>\n",
       "      <td>Chou Ezaru wa Akai Hana: Koi wa Tsuki ni Shiru...</td>\n",
       "      <td>PSV</td>\n",
       "      <td>2016.0</td>\n",
       "      <td>Action</td>\n",
       "      <td>dramatic create</td>\n",
       "      <td>0.00</td>\n",
       "      <td>0.00</td>\n",
       "      <td>0.01</td>\n",
       "      <td>0.00</td>\n",
       "      <td>0.01</td>\n",
       "    </tr>\n",
       "  </tbody>\n",
       "</table>\n",
       "<p>3251 rows × 11 columns</p>\n",
       "</div>"
      ],
      "text/plain": [
       "        Rank                                               Name Platform  \\\n",
       "16        17                                 Grand Theft Auto V      PS3   \n",
       "17        18                      Grand Theft Auto: San Andreas      PS2   \n",
       "23        24                                 Grand Theft Auto V     X360   \n",
       "24        25                        Grand Theft Auto: Vice City      PS2   \n",
       "38        39                               Grand Theft Auto III      PS2   \n",
       "...      ...                                                ...      ...   \n",
       "16564  16567      Original Frisbee Disc Sports: Ultimate & Golf       DS   \n",
       "16567  16570  Fujiko F. Fujio Characters: Great Assembly! Sl...      3DS   \n",
       "16582  16585                                    Planet Monsters      GBA   \n",
       "16583  16586                                     Carmageddon 64      N64   \n",
       "16589  16592  Chou Ezaru wa Akai Hana: Koi wa Tsuki ni Shiru...      PSV   \n",
       "\n",
       "         Year   Genre                  Publisher  NA_Sales  EU_Sales  \\\n",
       "16     2013.0  Action       Take-Two Interactive      7.01      9.27   \n",
       "17     2004.0  Action       Take-Two Interactive      9.43      0.40   \n",
       "23     2013.0  Action       Take-Two Interactive      9.63      5.31   \n",
       "24     2002.0  Action       Take-Two Interactive      8.41      5.49   \n",
       "38     2001.0  Action       Take-Two Interactive      6.99      4.51   \n",
       "...       ...     ...                        ...       ...       ...   \n",
       "16564  2007.0  Action  Destination Software, Inc      0.01      0.00   \n",
       "16567  2014.0  Action         Namco Bandai Games      0.00      0.00   \n",
       "16582  2001.0  Action                      Titus      0.01      0.00   \n",
       "16583  1999.0  Action         Virgin Interactive      0.01      0.00   \n",
       "16589  2016.0  Action            dramatic create      0.00      0.00   \n",
       "\n",
       "       JP_Sales  Other_Sales  Global_Sales  \n",
       "16         0.97         4.14         21.40  \n",
       "17         0.41        10.57         20.81  \n",
       "23         0.06         1.38         16.38  \n",
       "24         0.47         1.78         16.15  \n",
       "38         0.30         1.30         13.10  \n",
       "...         ...          ...           ...  \n",
       "16564      0.00         0.00          0.01  \n",
       "16567      0.01         0.00          0.01  \n",
       "16582      0.00         0.00          0.01  \n",
       "16583      0.00         0.00          0.01  \n",
       "16589      0.01         0.00          0.01  \n",
       "\n",
       "[3251 rows x 11 columns]"
      ]
     },
     "execution_count": 71,
     "metadata": {},
     "output_type": "execute_result"
    }
   ],
   "source": [
    "#for the Action Genre, let's do an analysis on their sales.\n",
    "action = data.loc[(data['Genre'] ==  'Action')]\n",
    "action"
   ]
  },
  {
   "cell_type": "code",
   "execution_count": 73,
   "id": "89327d55-205a-47e0-b5d7-63316669277a",
   "metadata": {},
   "outputs": [
    {
     "data": {
      "text/plain": [
       "[1980.0,\n",
       " 1981.0,\n",
       " 1982.0,\n",
       " 1983.0,\n",
       " 1984.0,\n",
       " 1985.0,\n",
       " 1986.0,\n",
       " 1987.0,\n",
       " 1988.0,\n",
       " 1989.0,\n",
       " 1990.0,\n",
       " 1991.0,\n",
       " 1992.0,\n",
       " 1993.0,\n",
       " 1994.0,\n",
       " 1995.0,\n",
       " 1996.0,\n",
       " 1997.0,\n",
       " 1998.0,\n",
       " 1999.0,\n",
       " 2000.0,\n",
       " 2001.0,\n",
       " 2002.0,\n",
       " 2003.0,\n",
       " 2004.0,\n",
       " 2005.0,\n",
       " 2006.0,\n",
       " 2007.0,\n",
       " 2008.0,\n",
       " 2009.0,\n",
       " 2010.0,\n",
       " 2011.0,\n",
       " 2012.0,\n",
       " 2013.0,\n",
       " 2014.0,\n",
       " 2015.0,\n",
       " 2016.0,\n",
       " 2017.0]"
      ]
     },
     "execution_count": 73,
     "metadata": {},
     "output_type": "execute_result"
    }
   ],
   "source": [
    "years = list(action['Year'].unique())\n",
    "years = sorted(years)\n",
    "years"
   ]
  },
  {
   "cell_type": "code",
   "execution_count": 74,
   "id": "c744bf3c-1fe0-4d03-8a91-ef03a0a9ab62",
   "metadata": {},
   "outputs": [],
   "source": [
    "Final_NA = dict()\n",
    "Final_EU = dict()\n",
    "Final_JP = dict()\n",
    "Final_Other = dict()\n",
    "Final_Global = dict()\n",
    "\n",
    "for i in years:\n",
    "  Final_NA[i] = list()\n",
    "\n",
    "for i in years:\n",
    "  Final_EU[i] = list()\n",
    "\n",
    "for i in years:\n",
    "  Final_JP[i] = list()\n",
    "\n",
    "for i in years:\n",
    "  Final_Other[i] = list()\n",
    "\n",
    "for i in years:\n",
    "  Final_Global[i] = list()"
   ]
  },
  {
   "cell_type": "code",
   "execution_count": 75,
   "id": "63277eb0-e0cb-4c1e-8aa0-1f8eca4a3da5",
   "metadata": {},
   "outputs": [
    {
     "data": {
      "text/plain": [
       "{1980.0: [],\n",
       " 1981.0: [],\n",
       " 1982.0: [],\n",
       " 1983.0: [],\n",
       " 1984.0: [],\n",
       " 1985.0: [],\n",
       " 1986.0: [],\n",
       " 1987.0: [],\n",
       " 1988.0: [],\n",
       " 1989.0: [],\n",
       " 1990.0: [],\n",
       " 1991.0: [],\n",
       " 1992.0: [],\n",
       " 1993.0: [],\n",
       " 1994.0: [],\n",
       " 1995.0: [],\n",
       " 1996.0: [],\n",
       " 1997.0: [],\n",
       " 1998.0: [],\n",
       " 1999.0: [],\n",
       " 2000.0: [],\n",
       " 2001.0: [],\n",
       " 2002.0: [],\n",
       " 2003.0: [],\n",
       " 2004.0: [],\n",
       " 2005.0: [],\n",
       " 2006.0: [],\n",
       " 2007.0: [],\n",
       " 2008.0: [],\n",
       " 2009.0: [],\n",
       " 2010.0: [],\n",
       " 2011.0: [],\n",
       " 2012.0: [],\n",
       " 2013.0: [],\n",
       " 2014.0: [],\n",
       " 2015.0: [],\n",
       " 2016.0: [],\n",
       " 2017.0: []}"
      ]
     },
     "execution_count": 75,
     "metadata": {},
     "output_type": "execute_result"
    }
   ],
   "source": [
    "Final_Global"
   ]
  },
  {
   "cell_type": "code",
   "execution_count": 76,
   "id": "bae8be3d-dc77-489e-98b9-31637b74967a",
   "metadata": {},
   "outputs": [],
   "source": [
    "for i in action.iterrows():\n",
    "  year = i[1][3]\n",
    "  Final_NA[year].insert(0, i[1][6])\n",
    "  Final_EU[year].insert(0, i[1][7])\n",
    "  Final_JP[year].insert(0, i[1][8])\n",
    "  Final_Other[year].insert(0, i[1][9])\n",
    "  Final_Global[year].insert(0, i[1][10])"
   ]
  },
  {
   "cell_type": "code",
   "execution_count": 77,
   "id": "6b0d3a49-6680-4619-8946-d0f35bc0ce21",
   "metadata": {},
   "outputs": [],
   "source": [
    "for i in Final_NA.keys():\n",
    "  Final_NA[i] = sum(Final_NA[i])\n",
    "\n",
    "for i in Final_EU.keys():\n",
    "  Final_EU[i] = sum(Final_EU[i])\n",
    "\n",
    "for i in Final_JP.keys():\n",
    "  Final_JP[i] = sum(Final_JP[i])\n",
    "\n",
    "for i in Final_Other.keys():\n",
    "  Final_Other[i] = sum(Final_Other[i])\n",
    "\n",
    "for i in Final_Global.keys():\n",
    "  Final_Global[i] = sum(Final_Global[i])"
   ]
  },
  {
   "cell_type": "code",
   "execution_count": 78,
   "id": "006856c1-e037-4649-9fcc-1c0d61b1cf70",
   "metadata": {},
   "outputs": [
    {
     "data": {
      "text/plain": [
       "<Axes: >"
      ]
     },
     "execution_count": 78,
     "metadata": {},
     "output_type": "execute_result"
    },
    {
     "data": {
      "image/png": "[encoded data removed]",
      "text/plain": [
       "<Figure size 640x480 with 1 Axes>"
      ]
     },
     "metadata": {},
     "output_type": "display_data"
    }
   ],
   "source": [
    "sns.lineplot(Final_NA, label=\"North America\")\n",
    "sns.lineplot(Final_EU, label=\"Europe\")\n",
    "sns.lineplot(Final_JP, label=\"Japan\")\n",
    "sns.lineplot(Final_Other, label='Rest of the World')"
   ]
  },
  {
   "cell_type": "code",
   "execution_count": 79,
   "id": "64e154e7-d7b7-4155-923a-51e3c5caa2b1",
   "metadata": {},
   "outputs": [
    {
     "data": {
      "text/plain": [
       "{1980.0: 0.32,\n",
       " 1981.0: 13.86,\n",
       " 1982.0: 6.07,\n",
       " 1983.0: 2.67,\n",
       " 1984.0: 0.8,\n",
       " 1985.0: 1.64,\n",
       " 1986.0: 6.5200000000000005,\n",
       " 1987.0: 1.04,\n",
       " 1988.0: 1.1500000000000001,\n",
       " 1989.0: 3.83,\n",
       " 1990.0: 4.2700000000000005,\n",
       " 1991.0: 3.4699999999999998,\n",
       " 1992.0: 2.21,\n",
       " 1993.0: 0.64,\n",
       " 1994.0: 0.57,\n",
       " 1995.0: 1.73,\n",
       " 1996.0: 10.650000000000002,\n",
       " 1997.0: 14.400000000000002,\n",
       " 1998.0: 20.15,\n",
       " 1999.0: 14.91,\n",
       " 2000.0: 17.79,\n",
       " 2001.0: 29.809999999999995,\n",
       " 2002.0: 47.81,\n",
       " 2003.0: 37.74000000000001,\n",
       " 2004.0: 39.08,\n",
       " 2005.0: 49.61999999999999,\n",
       " 2006.0: 38.370000000000005,\n",
       " 2007.0: 58.89999999999999,\n",
       " 2008.0: 72.39,\n",
       " 2009.0: 71.61,\n",
       " 2010.0: 60.320000000000036,\n",
       " 2011.0: 53.73,\n",
       " 2012.0: 52.480000000000004,\n",
       " 2013.0: 53.78999999999999,\n",
       " 2014.0: 38.72999999999999,\n",
       " 2015.0: 22.830000000000002,\n",
       " 2016.0: 5.870000000000001,\n",
       " 2017.0: 0.0}"
      ]
     },
     "execution_count": 79,
     "metadata": {},
     "output_type": "execute_result"
    }
   ],
   "source": [
    "Final_NA"
   ]
  },
  {
   "cell_type": "code",
   "execution_count": 80,
   "id": "648cea5f-f156-4809-8981-053dc5b83026",
   "metadata": {},
   "outputs": [
    {
     "data": {
      "text/plain": [
       "0.0"
      ]
     },
     "execution_count": 80,
     "metadata": {},
     "output_type": "execute_result"
    }
   ],
   "source": [
    "Final_NA[i]"
   ]
  },
  {
   "cell_type": "code",
   "execution_count": 81,
   "id": "b489cbea-1eb3-43b4-91c5-14e34d53e690",
   "metadata": {},
   "outputs": [
    {
     "data": {
      "text/plain": [
       "0.0"
      ]
     },
     "execution_count": 81,
     "metadata": {},
     "output_type": "execute_result"
    }
   ],
   "source": [
    "Final_EU[i]"
   ]
  },
  {
   "cell_type": "code",
   "execution_count": 82,
   "id": "81d1a734-73a6-4c89-91bd-27a948db3d35",
   "metadata": {},
   "outputs": [
    {
     "data": {
      "text/plain": [
       "0.01"
      ]
     },
     "execution_count": 82,
     "metadata": {},
     "output_type": "execute_result"
    }
   ],
   "source": [
    "Final_JP[i]"
   ]
  },
  {
   "cell_type": "code",
   "execution_count": 83,
   "id": "30930679-077c-41e4-95c1-4f235b5f6779",
   "metadata": {},
   "outputs": [
    {
     "data": {
      "text/plain": [
       "0.0"
      ]
     },
     "execution_count": 83,
     "metadata": {},
     "output_type": "execute_result"
    }
   ],
   "source": [
    "Final_Other[i]"
   ]
  },
  {
   "cell_type": "code",
   "execution_count": 84,
   "id": "a90ef3d7-d177-411f-8c9a-149f686679f4",
   "metadata": {},
   "outputs": [
    {
     "data": {
      "text/plain": [
       "0.01"
      ]
     },
     "execution_count": 84,
     "metadata": {},
     "output_type": "execute_result"
    }
   ],
   "source": [
    "Final_Global[i]"
   ]
  },
  {
   "cell_type": "code",
   "execution_count": 85,
   "id": "7111a355-44e8-450d-a439-379ba54f9455",
   "metadata": {},
   "outputs": [],
   "source": [
    "#the initial spike was seen in north america for action genre\n",
    "#although japan saw an equal spike w.r.t north america in the mid 80s, they didn't get as much spike after the late 90s.\n",
    "#the Europe sales picked up after mid 90s, and saw a considerable rise in the later years for action genre."
   ]
  },
  {
   "cell_type": "code",
   "execution_count": null,
   "id": "88f06ca0-1d29-49e6-8c35-b2005a00d5bf",
   "metadata": {},
   "outputs": [],
   "source": []
  },
  {
   "cell_type": "markdown",
   "id": "178edaf3-89ae-4a7e-877a-7ec8a50a7b02",
   "metadata": {},
   "source": [
    "### Publisher Column"
   ]
  },
  {
   "cell_type": "code",
   "execution_count": 123,
   "id": "76cf24bf-a567-4b5a-b8bf-ac1efbf7b4cc",
   "metadata": {},
   "outputs": [
    {
     "data": {
      "text/plain": [
       "Publisher\n",
       "Electronic Arts                 1339\n",
       "Activision                       966\n",
       "Namco Bandai Games               928\n",
       "Ubisoft                          918\n",
       "Konami Digital Entertainment     823\n",
       "                                ... \n",
       "Detn8 Games                        1\n",
       "Pow                                1\n",
       "Navarre Corp                       1\n",
       "MediaQuest                         1\n",
       "UIG Entertainment                  1\n",
       "Name: count, Length: 576, dtype: int64"
      ]
     },
     "execution_count": 123,
     "metadata": {},
     "output_type": "execute_result"
    }
   ],
   "source": [
    "data['Publisher'].value_counts()"
   ]
  },
  {
   "cell_type": "code",
   "execution_count": null,
   "id": "94c7735a-4f88-4ff0-9dc4-f973cec26ef1",
   "metadata": {},
   "outputs": [],
   "source": [
    "#the most frequent publisher is Electronic Arts, let's analyze their sales over the years."
   ]
  },
  {
   "cell_type": "code",
   "execution_count": 124,
   "id": "00606c43-339c-41a6-a810-1aef11a5dc04",
   "metadata": {},
   "outputs": [],
   "source": [
    "EA = data.loc[(data['Publisher'] == 'Electronic Arts')]"
   ]
  },
  {
   "cell_type": "code",
   "execution_count": 125,
   "id": "7c0363d7-272f-4fa9-bc1a-8a181e37cec0",
   "metadata": {},
   "outputs": [],
   "source": [
    "years = list(EA['Year'].unique())\n",
    "years = sorted(years)"
   ]
  },
  {
   "cell_type": "code",
   "execution_count": 126,
   "id": "b7637957-5c92-49df-9ead-a1c2993cfd20",
   "metadata": {},
   "outputs": [],
   "source": [
    "EA_Final_NA = dict()\n",
    "EA_Final_EU = dict()\n",
    "EA_Final_JP = dict()\n",
    "EA_Final_Other = dict()\n",
    "EA_Final_Global = dict()\n",
    "\n",
    "for i in years:\n",
    "  EA_Final_NA[i] = list()\n",
    "\n",
    "for i in years:\n",
    "  EA_Final_EU[i] = list()\n",
    "\n",
    "for i in years:\n",
    "  EA_Final_JP[i] = list()\n",
    "\n",
    "for i in years:\n",
    "  EA_Final_Other[i] = list()\n",
    "\n",
    "for i in years:\n",
    "  EA_Final_Global[i] = list()"
   ]
  },
  {
   "cell_type": "code",
   "execution_count": 127,
   "id": "a3525fd5-1e6d-4862-8625-c11dd9cc869a",
   "metadata": {},
   "outputs": [],
   "source": [
    "for i in EA.iterrows():\n",
    "  year = i[1][3]\n",
    "  EA_Final_NA[year].insert(0, i[1][6])\n",
    "  EA_Final_EU[year].insert(0, i[1][7])\n",
    "  EA_Final_JP[year].insert(0, i[1][8])\n",
    "  EA_Final_Other[year].insert(0, i[1][9])\n",
    "  EA_Final_Global[year].insert(0, i[1][10])"
   ]
  },
  {
   "cell_type": "code",
   "execution_count": 128,
   "id": "40124326-252a-4c0f-b257-325352b81164",
   "metadata": {},
   "outputs": [],
   "source": [
    "for i in EA_Final_NA.keys():\n",
    "  EA_Final_NA[i] = sum(EA_Final_NA[i])\n",
    "\n",
    "for i in EA_Final_EU.keys():\n",
    "  EA_Final_EU[i] = sum(EA_Final_EU[i])\n",
    "\n",
    "for i in EA_Final_JP.keys():\n",
    "  EA_Final_JP[i] = sum(EA_Final_JP[i])\n",
    "\n",
    "for i in EA_Final_Other.keys():\n",
    "  EA_Final_Other[i] = sum(EA_Final_Other[i])\n",
    "\n",
    "for i in EA_Final_Global.keys():\n",
    "  EA_Final_Global[i] = sum(EA_Final_Global[i])"
   ]
  },
  {
   "cell_type": "code",
   "execution_count": 129,
   "id": "73ae1e16-1766-4b29-bf11-9de8bfaf168c",
   "metadata": {},
   "outputs": [
    {
     "data": {
      "text/plain": [
       "<Axes: >"
      ]
     },
     "execution_count": 129,
     "metadata": {},
     "output_type": "execute_result"
    },
    {
     "data": {
      "image/png": "[encoded data removed]",
      "text/plain": [
       "<Figure size 640x480 with 1 Axes>"
      ]
     },
     "metadata": {},
     "output_type": "display_data"
    }
   ],
   "source": [
    "sns.lineplot(EA_Final_NA, label=\"North America\")\n",
    "sns.lineplot(EA_Final_EU, label=\"Europe\")\n",
    "sns.lineplot(EA_Final_JP, label=\"Japan\")\n",
    "sns.lineplot(EA_Final_Other, label='Rest of the World')"
   ]
  },
  {
   "cell_type": "code",
   "execution_count": null,
   "id": "8737306d-9d9b-4659-abe2-7a41c389596d",
   "metadata": {},
   "outputs": [],
   "source": [
    "#EA sales in north america saw a great rise during 2000s.\n",
    "#Japan saw the least sales during the years.\n",
    "#although, all areas saw a sharp decline after 2013-2014."
   ]
  },
  {
   "cell_type": "code",
   "execution_count": 130,
   "id": "e0a11739-c118-436c-a596-7c1a58c242ec",
   "metadata": {},
   "outputs": [
    {
     "data": {
      "text/plain": [
       "<Axes: >"
      ]
     },
     "execution_count": 130,
     "metadata": {},
     "output_type": "execute_result"
    },
    {
     "data": {
      "image/png": "[encoded data removed]",
      "text/plain": [
       "<Figure size 640x480 with 1 Axes>"
      ]
     },
     "metadata": {},
     "output_type": "display_data"
    }
   ],
   "source": [
    "sns.lineplot(EA_Final_Global, label='Global Sales')"
   ]
  },
  {
   "cell_type": "code",
   "execution_count": null,
   "id": "aeab5dab-bbbd-496a-9150-bec79e84e4b4",
   "metadata": {},
   "outputs": [],
   "source": [
    "#global sales saw a rise during 2000s, and saw a decline nearing 2015."
   ]
  },
  {
   "cell_type": "markdown",
   "id": "8ac0d94c-d493-49b8-8e3b-245529ec1800",
   "metadata": {},
   "source": [
    "### Year"
   ]
  },
  {
   "cell_type": "code",
   "execution_count": 86,
   "id": "6e9172d7-c099-458c-b5d5-8cce16c1a0da",
   "metadata": {},
   "outputs": [
    {
     "data": {
      "text/plain": [
       "Year\n",
       "2009.0    1431\n",
       "2008.0    1428\n",
       "2010.0    1257\n",
       "2007.0    1201\n",
       "2011.0    1136\n",
       "2006.0    1008\n",
       "2005.0     936\n",
       "2002.0     829\n",
       "2003.0     775\n",
       "2004.0     744\n",
       "2012.0     655\n",
       "2015.0     614\n",
       "2014.0     580\n",
       "2013.0     546\n",
       "2001.0     482\n",
       "1998.0     379\n",
       "2000.0     349\n",
       "2016.0     342\n",
       "1999.0     338\n",
       "1997.0     289\n",
       "1996.0     263\n",
       "1995.0     219\n",
       "1994.0     121\n",
       "1993.0      60\n",
       "1981.0      46\n",
       "1992.0      43\n",
       "1991.0      41\n",
       "1982.0      36\n",
       "1986.0      21\n",
       "1989.0      17\n",
       "1983.0      17\n",
       "1990.0      16\n",
       "1987.0      16\n",
       "1988.0      15\n",
       "1985.0      14\n",
       "1984.0      14\n",
       "1980.0       9\n",
       "2017.0       3\n",
       "2020.0       1\n",
       "Name: count, dtype: int64"
      ]
     },
     "execution_count": 86,
     "metadata": {},
     "output_type": "execute_result"
    }
   ],
   "source": [
    "#let's find out which year saw the most and least global sales, EU sales, Japan Sales, etc.\n",
    "data['Year'].value_counts()"
   ]
  },
  {
   "cell_type": "code",
   "execution_count": 90,
   "id": "f767e402-3b48-4ec2-bf8e-517726a75a15",
   "metadata": {},
   "outputs": [
    {
     "data": {
      "text/plain": [
       "[1980.0,\n",
       " 1981.0,\n",
       " 1982.0,\n",
       " 1983.0,\n",
       " 1984.0,\n",
       " 1985.0,\n",
       " 1986.0,\n",
       " 1987.0,\n",
       " 1988.0,\n",
       " 1989.0,\n",
       " 1990.0,\n",
       " 1991.0,\n",
       " 1992.0,\n",
       " 1993.0,\n",
       " 1994.0,\n",
       " 1995.0,\n",
       " 1996.0,\n",
       " 1997.0,\n",
       " 1998.0,\n",
       " 1999.0,\n",
       " 2000.0,\n",
       " 2001.0,\n",
       " 2002.0,\n",
       " 2003.0,\n",
       " 2004.0,\n",
       " 2005.0,\n",
       " 2006.0,\n",
       " 2007.0,\n",
       " 2008.0,\n",
       " 2009.0,\n",
       " 2010.0,\n",
       " 2011.0,\n",
       " 2012.0,\n",
       " 2013.0,\n",
       " 2014.0,\n",
       " 2015.0,\n",
       " 2016.0,\n",
       " 2017.0,\n",
       " 2020.0]"
      ]
     },
     "execution_count": 90,
     "metadata": {},
     "output_type": "execute_result"
    }
   ],
   "source": [
    "years = list(data['Year'].unique())\n",
    "years = sorted(years)\n",
    "years"
   ]
  },
  {
   "cell_type": "code",
   "execution_count": 91,
   "id": "14220df3-a204-4a11-8585-52988b4566b9",
   "metadata": {},
   "outputs": [],
   "source": [
    "years = list(data['Year'].unique())\n",
    "years = sorted(years)"
   ]
  },
  {
   "cell_type": "code",
   "execution_count": 92,
   "id": "ad39e0dd-68cd-4423-be26-bc022c1179a8",
   "metadata": {},
   "outputs": [],
   "source": [
    "Y_Final_NA = dict()\n",
    "Y_Final_EU = dict()\n",
    "Y_Final_JP = dict()\n",
    "Y_Final_Other = dict()\n",
    "Y_Final_Global = dict()\n",
    "\n",
    "for i in years:\n",
    "  Y_Final_NA[i] = list()\n",
    "\n",
    "for i in years:\n",
    "  Y_Final_EU[i] = list()\n",
    "\n",
    "for i in years:\n",
    "  Y_Final_JP[i] = list()\n",
    "\n",
    "for i in years:\n",
    "  Y_Final_Other[i] = list()\n",
    "\n",
    "for i in years:\n",
    "  Y_Final_Global[i] = list()"
   ]
  },
  {
   "cell_type": "code",
   "execution_count": 93,
   "id": "47d20f77-b35d-4f14-8667-e5dccf0418e9",
   "metadata": {},
   "outputs": [],
   "source": [
    "for i in data.iterrows():\n",
    "  year = i[1][3]\n",
    "  Y_Final_NA[year].insert(0, i[1][6])\n",
    "  Y_Final_EU[year].insert(0, i[1][7])\n",
    "  Y_Final_JP[year].insert(0, i[1][8])\n",
    "  Y_Final_Other[year].insert(0, i[1][9])\n",
    "  Y_Final_Global[year].insert(0, i[1][10])"
   ]
  },
  {
   "cell_type": "code",
   "execution_count": 94,
   "id": "4b5f5a59-d0f0-4723-b36b-dac3a2a46607",
   "metadata": {},
   "outputs": [],
   "source": [
    "for i in Y_Final_NA.keys():\n",
    "  Y_Final_NA[i] = sum(Y_Final_NA[i])\n",
    "\n",
    "for i in Y_Final_EU.keys():\n",
    "  Y_Final_EU[i] = sum(Y_Final_EU[i])\n",
    "\n",
    "for i in Y_Final_JP.keys():\n",
    "  Y_Final_JP[i] = sum(Y_Final_JP[i])\n",
    "\n",
    "for i in Y_Final_Other.keys():\n",
    "  Y_Final_Other[i] = sum(Y_Final_Other[i])\n",
    "\n",
    "for i in Y_Final_Global.keys():\n",
    "  Y_Final_Global[i] = sum(Y_Final_Global[i])"
   ]
  },
  {
   "cell_type": "code",
   "execution_count": 95,
   "id": "4775107e-253c-4c4c-97b5-cc25c13bcd2d",
   "metadata": {},
   "outputs": [
    {
     "data": {
      "text/plain": [
       "<Axes: >"
      ]
     },
     "execution_count": 95,
     "metadata": {},
     "output_type": "execute_result"
    },
    {
     "data": {
      "image/png": "[encoded data removed]",
      "text/plain": [
       "<Figure size 640x480 with 1 Axes>"
      ]
     },
     "metadata": {},
     "output_type": "display_data"
    }
   ],
   "source": [
    "sns.lineplot(Y_Final_NA, label=\"North America\")\n",
    "sns.lineplot(Y_Final_EU, label=\"Europe\")\n",
    "sns.lineplot(Y_Final_JP, label=\"Japan\")\n",
    "sns.lineplot(Y_Final_Other, label='Rest of the World')"
   ]
  },
  {
   "cell_type": "code",
   "execution_count": null,
   "id": "4c19c4b3-5889-4e25-921a-1ed0751c1f5c",
   "metadata": {},
   "outputs": [],
   "source": [
    "#the most fruitful years were 2000-2015 for north america, and the highest\n",
    "#the most fruitful years for europe was also 2000-2010, saw a decline after that.\n",
    "#the japan sales had been consistent over the years, no sudden rise, but took off after 1995.\n",
    "#rest of the world saw a good rise fter 2005, and declined after 2015."
   ]
  },
  {
   "cell_type": "code",
   "execution_count": 96,
   "id": "8a4b8f87-4f04-4df2-880e-64b04672c8ff",
   "metadata": {},
   "outputs": [
    {
     "data": {
      "text/plain": [
       "<Axes: >"
      ]
     },
     "execution_count": 96,
     "metadata": {},
     "output_type": "execute_result"
    },
    {
     "data": {
      "image/png": "[encoded data removed]",
      "text/plain": [
       "<Figure size 640x480 with 1 Axes>"
      ]
     },
     "metadata": {},
     "output_type": "display_data"
    }
   ],
   "source": [
    "sns.lineplot(Y_Final_Global, label='Global Sales')"
   ]
  },
  {
   "cell_type": "code",
   "execution_count": null,
   "id": "83eb6421-28c7-450d-9f2e-7aa744d44f76",
   "metadata": {},
   "outputs": [],
   "source": [
    "#global sales took off after 1995, and saw a great increase from 2005-2010.\n",
    "#started sloping down after 2013-2014"
   ]
  },
  {
   "cell_type": "code",
   "execution_count": 97,
   "id": "c17d42e0-9c57-43ef-9ecd-b42f420b43d9",
   "metadata": {},
   "outputs": [],
   "source": [
    "#Year Wise Top selling and least selling games\n",
    "top_selling = dict()\n",
    "least_selling = dict()"
   ]
  },
  {
   "cell_type": "code",
   "execution_count": 98,
   "id": "f7e43b9b-8db2-4d96-9662-6598c79c5733",
   "metadata": {},
   "outputs": [],
   "source": [
    "#making empty dictionaries\n",
    "for i in years:\n",
    "  top_selling[i] = list()\n",
    "\n",
    "for i in years:\n",
    "  least_selling[i] = list()"
   ]
  },
  {
   "cell_type": "code",
   "execution_count": 100,
   "id": "40bedb8b-b450-441c-a64b-d75fbda8e89e",
   "metadata": {},
   "outputs": [],
   "source": [
    "for i in years:\n",
    "  x = data.loc[data['Year'] == i]\n",
    "  res = x['Name'].loc[x['Global_Sales'] == x['Global_Sales'].max()]\n",
    "  top_selling[i].insert(0,res.values[0])"
   ]
  },
  {
   "cell_type": "code",
   "execution_count": 101,
   "id": "e5849d38-cebc-4316-8d3a-ee1691e73c94",
   "metadata": {},
   "outputs": [
    {
     "data": {
      "text/html": [
       "<div>\n",
       "<style scoped>\n",
       "    .dataframe tbody tr th:only-of-type {\n",
       "        vertical-align: middle;\n",
       "    }\n",
       "\n",
       "    .dataframe tbody tr th {\n",
       "        vertical-align: top;\n",
       "    }\n",
       "\n",
       "    .dataframe thead th {\n",
       "        text-align: right;\n",
       "    }\n",
       "</style>\n",
       "<table border=\"1\" class=\"dataframe\">\n",
       "  <thead>\n",
       "    <tr style=\"text-align: right;\">\n",
       "      <th></th>\n",
       "      <th>Rank</th>\n",
       "      <th>Name</th>\n",
       "      <th>Platform</th>\n",
       "      <th>Year</th>\n",
       "      <th>Genre</th>\n",
       "      <th>Publisher</th>\n",
       "      <th>NA_Sales</th>\n",
       "      <th>EU_Sales</th>\n",
       "      <th>JP_Sales</th>\n",
       "      <th>Other_Sales</th>\n",
       "      <th>Global_Sales</th>\n",
       "    </tr>\n",
       "  </thead>\n",
       "  <tbody>\n",
       "    <tr>\n",
       "      <th>5957</th>\n",
       "      <td>5959</td>\n",
       "      <td>Imagine: Makeup Artist</td>\n",
       "      <td>DS</td>\n",
       "      <td>2020.0</td>\n",
       "      <td>Simulation</td>\n",
       "      <td>Ubisoft</td>\n",
       "      <td>0.27</td>\n",
       "      <td>0.0</td>\n",
       "      <td>0.0</td>\n",
       "      <td>0.02</td>\n",
       "      <td>0.29</td>\n",
       "    </tr>\n",
       "  </tbody>\n",
       "</table>\n",
       "</div>"
      ],
      "text/plain": [
       "      Rank                    Name Platform    Year       Genre Publisher  \\\n",
       "5957  5959  Imagine: Makeup Artist       DS  2020.0  Simulation   Ubisoft   \n",
       "\n",
       "      NA_Sales  EU_Sales  JP_Sales  Other_Sales  Global_Sales  \n",
       "5957      0.27       0.0       0.0         0.02          0.29  "
      ]
     },
     "execution_count": 101,
     "metadata": {},
     "output_type": "execute_result"
    }
   ],
   "source": [
    "x"
   ]
  },
  {
   "cell_type": "code",
   "execution_count": 102,
   "id": "ccd4d2d2-b488-4231-af5e-fd7eacd2a844",
   "metadata": {},
   "outputs": [
    {
     "data": {
      "text/plain": [
       "5957    Imagine: Makeup Artist\n",
       "Name: Name, dtype: object"
      ]
     },
     "execution_count": 102,
     "metadata": {},
     "output_type": "execute_result"
    }
   ],
   "source": [
    "res"
   ]
  },
  {
   "cell_type": "code",
   "execution_count": 103,
   "id": "0d474cd2-2a0d-4c2a-84b1-0116f971cc38",
   "metadata": {},
   "outputs": [
    {
     "data": {
      "text/plain": [
       "{1980.0: ['Asteroids', 'Asteroids'],\n",
       " 1981.0: ['Pitfall!', 'Pitfall!'],\n",
       " 1982.0: ['Pac-Man', 'Pac-Man'],\n",
       " 1983.0: ['Baseball', 'Baseball'],\n",
       " 1984.0: ['Duck Hunt', 'Duck Hunt'],\n",
       " 1985.0: ['Super Mario Bros.', 'Super Mario Bros.'],\n",
       " 1986.0: ['The Legend of Zelda', 'The Legend of Zelda'],\n",
       " 1987.0: ['Zelda II: The Adventure of Link',\n",
       "  'Zelda II: The Adventure of Link'],\n",
       " 1988.0: ['Super Mario Bros. 3', 'Super Mario Bros. 3'],\n",
       " 1989.0: ['Tetris', 'Tetris'],\n",
       " 1990.0: ['Super Mario World', 'Super Mario World'],\n",
       " 1991.0: ['The Legend of Zelda: A Link to the Past',\n",
       "  'The Legend of Zelda: A Link to the Past'],\n",
       " 1992.0: ['Super Mario Land 2: 6 Golden Coins',\n",
       "  'Super Mario Land 2: 6 Golden Coins'],\n",
       " 1993.0: ['Super Mario All-Stars', 'Super Mario All-Stars'],\n",
       " 1994.0: ['Donkey Kong Country', 'Donkey Kong Country'],\n",
       " 1995.0: [\"Donkey Kong Country 2: Diddy's Kong Quest\",\n",
       "  \"Donkey Kong Country 2: Diddy's Kong Quest\"],\n",
       " 1996.0: ['Pokemon Red/Pokemon Blue', 'Pokemon Red/Pokemon Blue'],\n",
       " 1997.0: ['Gran Turismo', 'Gran Turismo'],\n",
       " 1998.0: ['Pokémon Yellow: Special Pikachu Edition',\n",
       "  'Pokémon Yellow: Special Pikachu Edition'],\n",
       " 1999.0: ['Pokemon Gold/Pokemon Silver', 'Pokemon Gold/Pokemon Silver'],\n",
       " 2000.0: ['Pokémon Crystal Version', 'Pokémon Crystal Version'],\n",
       " 2001.0: ['Gran Turismo 3: A-Spec', 'Gran Turismo 3: A-Spec'],\n",
       " 2002.0: ['Grand Theft Auto: Vice City', 'Grand Theft Auto: Vice City'],\n",
       " 2003.0: ['Need for Speed Underground', 'Need for Speed Underground'],\n",
       " 2004.0: ['Grand Theft Auto: San Andreas', 'Grand Theft Auto: San Andreas'],\n",
       " 2005.0: ['Nintendogs', 'Nintendogs'],\n",
       " 2006.0: ['Wii Sports', 'Wii Sports'],\n",
       " 2007.0: ['Wii Fit', 'Wii Fit'],\n",
       " 2008.0: ['Mario Kart Wii', 'Mario Kart Wii'],\n",
       " 2009.0: ['Wii Sports Resort', 'Wii Sports Resort'],\n",
       " 2010.0: ['Kinect Adventures!', 'Kinect Adventures!'],\n",
       " 2011.0: ['Call of Duty: Modern Warfare 3', 'Call of Duty: Modern Warfare 3'],\n",
       " 2012.0: ['Call of Duty: Black Ops II', 'Call of Duty: Black Ops II'],\n",
       " 2013.0: ['Grand Theft Auto V', 'Grand Theft Auto V'],\n",
       " 2014.0: ['Grand Theft Auto V', 'Grand Theft Auto V'],\n",
       " 2015.0: ['Call of Duty: Black Ops 3', 'Call of Duty: Black Ops 3'],\n",
       " 2016.0: ['FIFA 17', 'FIFA 17'],\n",
       " 2017.0: ['Phantasy Star Online 2 Episode 4: Deluxe Package',\n",
       "  'Phantasy Star Online 2 Episode 4: Deluxe Package'],\n",
       " 2020.0: ['Imagine: Makeup Artist', 'Imagine: Makeup Artist']}"
      ]
     },
     "execution_count": 103,
     "metadata": {},
     "output_type": "execute_result"
    }
   ],
   "source": [
    "top_selling"
   ]
  },
  {
   "cell_type": "code",
   "execution_count": 104,
   "id": "2561d917-6568-4777-bd0c-a9571b69acc0",
   "metadata": {},
   "outputs": [],
   "source": [
    "for i in years:\n",
    "  x = data.loc[data['Year'] == i]\n",
    "  res = x['Name'].loc[x['Global_Sales'] == x['Global_Sales'].min()]\n",
    "  least_selling[i].insert(0,res.values[0])"
   ]
  },
  {
   "cell_type": "code",
   "execution_count": 105,
   "id": "d1c08614-bfba-475e-8950-c7ada2f2485c",
   "metadata": {},
   "outputs": [
    {
     "data": {
      "text/plain": [
       "{1980.0: ['Checkers'],\n",
       " 1981.0: ['RealSports Volleyball'],\n",
       " 1982.0: ['Krull'],\n",
       " 1983.0: [\"Mr. Do!'s Castle\"],\n",
       " 1984.0: ['Beamrider'],\n",
       " 1985.0: ['Strongest Tokyo University Shogi DS'],\n",
       " 1986.0: ['RealSports Boxing'],\n",
       " 1987.0: ['Super Baseball'],\n",
       " 1988.0: ['SimCity'],\n",
       " 1989.0: ['Adventures of Lolo'],\n",
       " 1990.0: [\"Famista '91\"],\n",
       " 1991.0: ['Lagoon'],\n",
       " 1992.0: ['Empire Deluxe'],\n",
       " 1993.0: [\"Rock N' Roll Racing\"],\n",
       " 1994.0: ['Mortal Kombat'],\n",
       " 1995.0: ['Psychic Detective'],\n",
       " 1996.0: ['Victory Spike'],\n",
       " 1997.0: ['Grand Prix Legends'],\n",
       " 1998.0: ['Pharaoh'],\n",
       " 1999.0: ['Vanark'],\n",
       " 2000.0: ['Deus Ex'],\n",
       " 2001.0: ['IL-2 Sturmovik'],\n",
       " 2002.0: ['Unreal Tournament 2003'],\n",
       " 2003.0: ['Blackthorne'],\n",
       " 2004.0: ['Ten Pin Alley 2'],\n",
       " 2005.0: ['Serious Sam II'],\n",
       " 2006.0: ['Chameleon: To Dye For!'],\n",
       " 2007.0: ['Dragon Zakura DS'],\n",
       " 2008.0: ['Turok'],\n",
       " 2009.0: ['Shinseiki Evangelion: Battle Orchestra Portable'],\n",
       " 2010.0: ['Sora no Otoshimono: DokiDoki Summer Vacation'],\n",
       " 2011.0: ['DokuSui: DokiDoki Suikoden'],\n",
       " 2012.0: ['Blazblue: Continuum Shift Extend'],\n",
       " 2013.0: ['Turbo: Super Stunt Squad'],\n",
       " 2014.0: ['Don Bradman Cricket 14'],\n",
       " 2015.0: ['WRC 5: FIA World Rally Championship'],\n",
       " 2016.0: ['Coven and Labyrinth of Refrain'],\n",
       " 2017.0: ['Phantasy Star Online 2 Episode 4: Deluxe Package'],\n",
       " 2020.0: ['Imagine: Makeup Artist']}"
      ]
     },
     "execution_count": 105,
     "metadata": {},
     "output_type": "execute_result"
    }
   ],
   "source": [
    "least_selling"
   ]
  },
  {
   "cell_type": "markdown",
   "id": "e243f041-bcff-493c-8150-e926c337ba70",
   "metadata": {},
   "source": [
    "### North America Sales"
   ]
  },
  {
   "cell_type": "code",
   "execution_count": 106,
   "id": "fadc3e0e-01c8-48f9-a554-b87fe8f103b5",
   "metadata": {},
   "outputs": [
    {
     "data": {
      "text/plain": [
       "<Axes: ylabel='NA_Sales'>"
      ]
     },
     "execution_count": 106,
     "metadata": {},
     "output_type": "execute_result"
    },
    {
     "data": {
      "image/png": "[encoded data removed]",
      "text/plain": [
       "<Figure size 640x480 with 1 Axes>"
      ]
     },
     "metadata": {},
     "output_type": "display_data"
    }
   ],
   "source": [
    "sns.scatterplot(data['NA_Sales'])"
   ]
  },
  {
   "cell_type": "code",
   "execution_count": 107,
   "id": "cca6afe8-a04b-463f-bdb7-c40752085a89",
   "metadata": {},
   "outputs": [
    {
     "data": {
      "text/plain": [
       "count    16291.000000\n",
       "mean         0.265647\n",
       "std          0.822432\n",
       "min          0.000000\n",
       "25%          0.000000\n",
       "50%          0.080000\n",
       "75%          0.240000\n",
       "max         41.490000\n",
       "Name: NA_Sales, dtype: float64"
      ]
     },
     "execution_count": 107,
     "metadata": {},
     "output_type": "execute_result"
    }
   ],
   "source": [
    "data['NA_Sales'].describe()"
   ]
  },
  {
   "cell_type": "code",
   "execution_count": 108,
   "id": "58787cd1-74b7-4032-8455-b0773759a923",
   "metadata": {},
   "outputs": [
    {
     "data": {
      "text/html": [
       "<div>\n",
       "<style scoped>\n",
       "    .dataframe tbody tr th:only-of-type {\n",
       "        vertical-align: middle;\n",
       "    }\n",
       "\n",
       "    .dataframe tbody tr th {\n",
       "        vertical-align: top;\n",
       "    }\n",
       "\n",
       "    .dataframe thead th {\n",
       "        text-align: right;\n",
       "    }\n",
       "</style>\n",
       "<table border=\"1\" class=\"dataframe\">\n",
       "  <thead>\n",
       "    <tr style=\"text-align: right;\">\n",
       "      <th></th>\n",
       "      <th>Rank</th>\n",
       "      <th>Name</th>\n",
       "      <th>Platform</th>\n",
       "      <th>Year</th>\n",
       "      <th>Genre</th>\n",
       "      <th>Publisher</th>\n",
       "      <th>NA_Sales</th>\n",
       "      <th>EU_Sales</th>\n",
       "      <th>JP_Sales</th>\n",
       "      <th>Other_Sales</th>\n",
       "      <th>Global_Sales</th>\n",
       "    </tr>\n",
       "  </thead>\n",
       "  <tbody>\n",
       "    <tr>\n",
       "      <th>0</th>\n",
       "      <td>1</td>\n",
       "      <td>Wii Sports</td>\n",
       "      <td>Wii</td>\n",
       "      <td>2006.0</td>\n",
       "      <td>Sports</td>\n",
       "      <td>Nintendo</td>\n",
       "      <td>41.49</td>\n",
       "      <td>29.02</td>\n",
       "      <td>3.77</td>\n",
       "      <td>8.46</td>\n",
       "      <td>82.74</td>\n",
       "    </tr>\n",
       "  </tbody>\n",
       "</table>\n",
       "</div>"
      ],
      "text/plain": [
       "   Rank        Name Platform    Year   Genre Publisher  NA_Sales  EU_Sales  \\\n",
       "0     1  Wii Sports      Wii  2006.0  Sports  Nintendo     41.49     29.02   \n",
       "\n",
       "   JP_Sales  Other_Sales  Global_Sales  \n",
       "0      3.77         8.46         82.74  "
      ]
     },
     "execution_count": 108,
     "metadata": {},
     "output_type": "execute_result"
    }
   ],
   "source": [
    "#highest North America Sales\n",
    "data.loc[data['NA_Sales'] == 41.490000]"
   ]
  },
  {
   "cell_type": "code",
   "execution_count": 109,
   "id": "e3fd0786-a5e2-425a-8d67-46e8c5514091",
   "metadata": {},
   "outputs": [
    {
     "data": {
      "text/html": [
       "<div>\n",
       "<style scoped>\n",
       "    .dataframe tbody tr th:only-of-type {\n",
       "        vertical-align: middle;\n",
       "    }\n",
       "\n",
       "    .dataframe tbody tr th {\n",
       "        vertical-align: top;\n",
       "    }\n",
       "\n",
       "    .dataframe thead th {\n",
       "        text-align: right;\n",
       "    }\n",
       "</style>\n",
       "<table border=\"1\" class=\"dataframe\">\n",
       "  <thead>\n",
       "    <tr style=\"text-align: right;\">\n",
       "      <th></th>\n",
       "      <th>Rank</th>\n",
       "      <th>Name</th>\n",
       "      <th>Platform</th>\n",
       "      <th>Year</th>\n",
       "      <th>Genre</th>\n",
       "      <th>Publisher</th>\n",
       "      <th>NA_Sales</th>\n",
       "      <th>EU_Sales</th>\n",
       "      <th>JP_Sales</th>\n",
       "      <th>Other_Sales</th>\n",
       "      <th>Global_Sales</th>\n",
       "    </tr>\n",
       "  </thead>\n",
       "  <tbody>\n",
       "    <tr>\n",
       "      <th>0</th>\n",
       "      <td>1</td>\n",
       "      <td>Wii Sports</td>\n",
       "      <td>Wii</td>\n",
       "      <td>2006.0</td>\n",
       "      <td>Sports</td>\n",
       "      <td>Nintendo</td>\n",
       "      <td>41.49</td>\n",
       "      <td>29.02</td>\n",
       "      <td>3.77</td>\n",
       "      <td>8.46</td>\n",
       "      <td>82.74</td>\n",
       "    </tr>\n",
       "    <tr>\n",
       "      <th>1</th>\n",
       "      <td>2</td>\n",
       "      <td>Super Mario Bros.</td>\n",
       "      <td>NES</td>\n",
       "      <td>1985.0</td>\n",
       "      <td>Platform</td>\n",
       "      <td>Nintendo</td>\n",
       "      <td>29.08</td>\n",
       "      <td>3.58</td>\n",
       "      <td>6.81</td>\n",
       "      <td>0.77</td>\n",
       "      <td>40.24</td>\n",
       "    </tr>\n",
       "    <tr>\n",
       "      <th>2</th>\n",
       "      <td>3</td>\n",
       "      <td>Mario Kart Wii</td>\n",
       "      <td>Wii</td>\n",
       "      <td>2008.0</td>\n",
       "      <td>Racing</td>\n",
       "      <td>Nintendo</td>\n",
       "      <td>15.85</td>\n",
       "      <td>12.88</td>\n",
       "      <td>3.79</td>\n",
       "      <td>3.31</td>\n",
       "      <td>35.82</td>\n",
       "    </tr>\n",
       "    <tr>\n",
       "      <th>3</th>\n",
       "      <td>4</td>\n",
       "      <td>Wii Sports Resort</td>\n",
       "      <td>Wii</td>\n",
       "      <td>2009.0</td>\n",
       "      <td>Sports</td>\n",
       "      <td>Nintendo</td>\n",
       "      <td>15.75</td>\n",
       "      <td>11.01</td>\n",
       "      <td>3.28</td>\n",
       "      <td>2.96</td>\n",
       "      <td>33.00</td>\n",
       "    </tr>\n",
       "    <tr>\n",
       "      <th>4</th>\n",
       "      <td>5</td>\n",
       "      <td>Pokemon Red/Pokemon Blue</td>\n",
       "      <td>GB</td>\n",
       "      <td>1996.0</td>\n",
       "      <td>Role-Playing</td>\n",
       "      <td>Nintendo</td>\n",
       "      <td>11.27</td>\n",
       "      <td>8.89</td>\n",
       "      <td>10.22</td>\n",
       "      <td>1.00</td>\n",
       "      <td>31.37</td>\n",
       "    </tr>\n",
       "    <tr>\n",
       "      <th>...</th>\n",
       "      <td>...</td>\n",
       "      <td>...</td>\n",
       "      <td>...</td>\n",
       "      <td>...</td>\n",
       "      <td>...</td>\n",
       "      <td>...</td>\n",
       "      <td>...</td>\n",
       "      <td>...</td>\n",
       "      <td>...</td>\n",
       "      <td>...</td>\n",
       "      <td>...</td>\n",
       "    </tr>\n",
       "    <tr>\n",
       "      <th>6080</th>\n",
       "      <td>6082</td>\n",
       "      <td>I Spy: Spooky Mansion</td>\n",
       "      <td>Wii</td>\n",
       "      <td>2010.0</td>\n",
       "      <td>Puzzle</td>\n",
       "      <td>Storm City Games</td>\n",
       "      <td>0.27</td>\n",
       "      <td>0.00</td>\n",
       "      <td>0.00</td>\n",
       "      <td>0.02</td>\n",
       "      <td>0.29</td>\n",
       "    </tr>\n",
       "    <tr>\n",
       "      <th>6083</th>\n",
       "      <td>6085</td>\n",
       "      <td>Wappy Dog</td>\n",
       "      <td>DS</td>\n",
       "      <td>2011.0</td>\n",
       "      <td>Simulation</td>\n",
       "      <td>Activision</td>\n",
       "      <td>0.27</td>\n",
       "      <td>0.00</td>\n",
       "      <td>0.00</td>\n",
       "      <td>0.02</td>\n",
       "      <td>0.29</td>\n",
       "    </tr>\n",
       "    <tr>\n",
       "      <th>6147</th>\n",
       "      <td>6149</td>\n",
       "      <td>Triple Play 2000</td>\n",
       "      <td>N64</td>\n",
       "      <td>1999.0</td>\n",
       "      <td>Sports</td>\n",
       "      <td>Electronic Arts</td>\n",
       "      <td>0.27</td>\n",
       "      <td>0.01</td>\n",
       "      <td>0.00</td>\n",
       "      <td>0.00</td>\n",
       "      <td>0.28</td>\n",
       "    </tr>\n",
       "    <tr>\n",
       "      <th>6171</th>\n",
       "      <td>6173</td>\n",
       "      <td>Remington Super Slam Hunting: Africa</td>\n",
       "      <td>Wii</td>\n",
       "      <td>2010.0</td>\n",
       "      <td>Sports</td>\n",
       "      <td>Mastiff</td>\n",
       "      <td>0.27</td>\n",
       "      <td>0.00</td>\n",
       "      <td>0.00</td>\n",
       "      <td>0.02</td>\n",
       "      <td>0.28</td>\n",
       "    </tr>\n",
       "    <tr>\n",
       "      <th>6177</th>\n",
       "      <td>6179</td>\n",
       "      <td>Sesame Street: Elmo's A-to-Zoo Adventure</td>\n",
       "      <td>DS</td>\n",
       "      <td>2010.0</td>\n",
       "      <td>Misc</td>\n",
       "      <td>Warner Bros. Interactive Entertainment</td>\n",
       "      <td>0.27</td>\n",
       "      <td>0.00</td>\n",
       "      <td>0.00</td>\n",
       "      <td>0.02</td>\n",
       "      <td>0.28</td>\n",
       "    </tr>\n",
       "  </tbody>\n",
       "</table>\n",
       "<p>3738 rows × 11 columns</p>\n",
       "</div>"
      ],
      "text/plain": [
       "      Rank                                      Name Platform    Year  \\\n",
       "0        1                                Wii Sports      Wii  2006.0   \n",
       "1        2                         Super Mario Bros.      NES  1985.0   \n",
       "2        3                            Mario Kart Wii      Wii  2008.0   \n",
       "3        4                         Wii Sports Resort      Wii  2009.0   \n",
       "4        5                  Pokemon Red/Pokemon Blue       GB  1996.0   \n",
       "...    ...                                       ...      ...     ...   \n",
       "6080  6082                     I Spy: Spooky Mansion      Wii  2010.0   \n",
       "6083  6085                                 Wappy Dog       DS  2011.0   \n",
       "6147  6149                          Triple Play 2000      N64  1999.0   \n",
       "6171  6173      Remington Super Slam Hunting: Africa      Wii  2010.0   \n",
       "6177  6179  Sesame Street: Elmo's A-to-Zoo Adventure       DS  2010.0   \n",
       "\n",
       "             Genre                               Publisher  NA_Sales  \\\n",
       "0           Sports                                Nintendo     41.49   \n",
       "1         Platform                                Nintendo     29.08   \n",
       "2           Racing                                Nintendo     15.85   \n",
       "3           Sports                                Nintendo     15.75   \n",
       "4     Role-Playing                                Nintendo     11.27   \n",
       "...            ...                                     ...       ...   \n",
       "6080        Puzzle                        Storm City Games      0.27   \n",
       "6083    Simulation                              Activision      0.27   \n",
       "6147        Sports                         Electronic Arts      0.27   \n",
       "6171        Sports                                 Mastiff      0.27   \n",
       "6177          Misc  Warner Bros. Interactive Entertainment      0.27   \n",
       "\n",
       "      EU_Sales  JP_Sales  Other_Sales  Global_Sales  \n",
       "0        29.02      3.77         8.46         82.74  \n",
       "1         3.58      6.81         0.77         40.24  \n",
       "2        12.88      3.79         3.31         35.82  \n",
       "3        11.01      3.28         2.96         33.00  \n",
       "4         8.89     10.22         1.00         31.37  \n",
       "...        ...       ...          ...           ...  \n",
       "6080      0.00      0.00         0.02          0.29  \n",
       "6083      0.00      0.00         0.02          0.29  \n",
       "6147      0.01      0.00         0.00          0.28  \n",
       "6171      0.00      0.00         0.02          0.28  \n",
       "6177      0.00      0.00         0.02          0.28  \n",
       "\n",
       "[3738 rows x 11 columns]"
      ]
     },
     "execution_count": 109,
     "metadata": {},
     "output_type": "execute_result"
    }
   ],
   "source": [
    "#more than average north america sales\n",
    "data.loc[data['NA_Sales'] > 0.26]"
   ]
  },
  {
   "cell_type": "markdown",
   "id": "eef15e2a-2142-4ecd-b054-91511bd9d9fa",
   "metadata": {},
   "source": [
    "### Europe Sales"
   ]
  },
  {
   "cell_type": "code",
   "execution_count": 110,
   "id": "29bd3468-56aa-4f05-9e3f-3b5996fccb26",
   "metadata": {},
   "outputs": [
    {
     "data": {
      "text/plain": [
       "<Axes: ylabel='EU_Sales'>"
      ]
     },
     "execution_count": 110,
     "metadata": {},
     "output_type": "execute_result"
    },
    {
     "data": {
      "image/png": "[encoded data removed]",
      "text/plain": [
       "<Figure size 640x480 with 1 Axes>"
      ]
     },
     "metadata": {},
     "output_type": "display_data"
    }
   ],
   "source": [
    "sns.scatterplot(data['EU_Sales'])"
   ]
  },
  {
   "cell_type": "code",
   "execution_count": 111,
   "id": "f48507ae-f9fe-4492-b2b7-d3414a780200",
   "metadata": {},
   "outputs": [
    {
     "data": {
      "text/html": [
       "<div>\n",
       "<style scoped>\n",
       "    .dataframe tbody tr th:only-of-type {\n",
       "        vertical-align: middle;\n",
       "    }\n",
       "\n",
       "    .dataframe tbody tr th {\n",
       "        vertical-align: top;\n",
       "    }\n",
       "\n",
       "    .dataframe thead th {\n",
       "        text-align: right;\n",
       "    }\n",
       "</style>\n",
       "<table border=\"1\" class=\"dataframe\">\n",
       "  <thead>\n",
       "    <tr style=\"text-align: right;\">\n",
       "      <th></th>\n",
       "      <th>Rank</th>\n",
       "      <th>Name</th>\n",
       "      <th>Platform</th>\n",
       "      <th>Year</th>\n",
       "      <th>Genre</th>\n",
       "      <th>Publisher</th>\n",
       "      <th>NA_Sales</th>\n",
       "      <th>EU_Sales</th>\n",
       "      <th>JP_Sales</th>\n",
       "      <th>Other_Sales</th>\n",
       "      <th>Global_Sales</th>\n",
       "    </tr>\n",
       "  </thead>\n",
       "  <tbody>\n",
       "    <tr>\n",
       "      <th>0</th>\n",
       "      <td>1</td>\n",
       "      <td>Wii Sports</td>\n",
       "      <td>Wii</td>\n",
       "      <td>2006.0</td>\n",
       "      <td>Sports</td>\n",
       "      <td>Nintendo</td>\n",
       "      <td>41.49</td>\n",
       "      <td>29.02</td>\n",
       "      <td>3.77</td>\n",
       "      <td>8.46</td>\n",
       "      <td>82.74</td>\n",
       "    </tr>\n",
       "  </tbody>\n",
       "</table>\n",
       "</div>"
      ],
      "text/plain": [
       "   Rank        Name Platform    Year   Genre Publisher  NA_Sales  EU_Sales  \\\n",
       "0     1  Wii Sports      Wii  2006.0  Sports  Nintendo     41.49     29.02   \n",
       "\n",
       "   JP_Sales  Other_Sales  Global_Sales  \n",
       "0      3.77         8.46         82.74  "
      ]
     },
     "execution_count": 111,
     "metadata": {},
     "output_type": "execute_result"
    }
   ],
   "source": [
    "#highest Europe Sales\n",
    "data.loc[data['EU_Sales'] == data['EU_Sales'].max()]"
   ]
  },
  {
   "cell_type": "code",
   "execution_count": 112,
   "id": "b2454688-c38d-4240-8f44-1c3e7e3e52c7",
   "metadata": {},
   "outputs": [
    {
     "data": {
      "text/plain": [
       "count    16291.000000\n",
       "mean         0.147731\n",
       "std          0.509303\n",
       "min          0.000000\n",
       "25%          0.000000\n",
       "50%          0.020000\n",
       "75%          0.110000\n",
       "max         29.020000\n",
       "Name: EU_Sales, dtype: float64"
      ]
     },
     "execution_count": 112,
     "metadata": {},
     "output_type": "execute_result"
    }
   ],
   "source": [
    "data['EU_Sales'].describe()"
   ]
  },
  {
   "cell_type": "code",
   "execution_count": 113,
   "id": "c1a684f0-e0ab-4917-b0e6-288460300e1c",
   "metadata": {},
   "outputs": [
    {
     "data": {
      "text/html": [
       "<div>\n",
       "<style scoped>\n",
       "    .dataframe tbody tr th:only-of-type {\n",
       "        vertical-align: middle;\n",
       "    }\n",
       "\n",
       "    .dataframe tbody tr th {\n",
       "        vertical-align: top;\n",
       "    }\n",
       "\n",
       "    .dataframe thead th {\n",
       "        text-align: right;\n",
       "    }\n",
       "</style>\n",
       "<table border=\"1\" class=\"dataframe\">\n",
       "  <thead>\n",
       "    <tr style=\"text-align: right;\">\n",
       "      <th></th>\n",
       "      <th>Rank</th>\n",
       "      <th>Name</th>\n",
       "      <th>Platform</th>\n",
       "      <th>Year</th>\n",
       "      <th>Genre</th>\n",
       "      <th>Publisher</th>\n",
       "      <th>NA_Sales</th>\n",
       "      <th>EU_Sales</th>\n",
       "      <th>JP_Sales</th>\n",
       "      <th>Other_Sales</th>\n",
       "      <th>Global_Sales</th>\n",
       "    </tr>\n",
       "  </thead>\n",
       "  <tbody>\n",
       "    <tr>\n",
       "      <th>0</th>\n",
       "      <td>1</td>\n",
       "      <td>Wii Sports</td>\n",
       "      <td>Wii</td>\n",
       "      <td>2006.0</td>\n",
       "      <td>Sports</td>\n",
       "      <td>Nintendo</td>\n",
       "      <td>41.49</td>\n",
       "      <td>29.02</td>\n",
       "      <td>3.77</td>\n",
       "      <td>8.46</td>\n",
       "      <td>82.74</td>\n",
       "    </tr>\n",
       "    <tr>\n",
       "      <th>1</th>\n",
       "      <td>2</td>\n",
       "      <td>Super Mario Bros.</td>\n",
       "      <td>NES</td>\n",
       "      <td>1985.0</td>\n",
       "      <td>Platform</td>\n",
       "      <td>Nintendo</td>\n",
       "      <td>29.08</td>\n",
       "      <td>3.58</td>\n",
       "      <td>6.81</td>\n",
       "      <td>0.77</td>\n",
       "      <td>40.24</td>\n",
       "    </tr>\n",
       "    <tr>\n",
       "      <th>2</th>\n",
       "      <td>3</td>\n",
       "      <td>Mario Kart Wii</td>\n",
       "      <td>Wii</td>\n",
       "      <td>2008.0</td>\n",
       "      <td>Racing</td>\n",
       "      <td>Nintendo</td>\n",
       "      <td>15.85</td>\n",
       "      <td>12.88</td>\n",
       "      <td>3.79</td>\n",
       "      <td>3.31</td>\n",
       "      <td>35.82</td>\n",
       "    </tr>\n",
       "    <tr>\n",
       "      <th>3</th>\n",
       "      <td>4</td>\n",
       "      <td>Wii Sports Resort</td>\n",
       "      <td>Wii</td>\n",
       "      <td>2009.0</td>\n",
       "      <td>Sports</td>\n",
       "      <td>Nintendo</td>\n",
       "      <td>15.75</td>\n",
       "      <td>11.01</td>\n",
       "      <td>3.28</td>\n",
       "      <td>2.96</td>\n",
       "      <td>33.00</td>\n",
       "    </tr>\n",
       "    <tr>\n",
       "      <th>4</th>\n",
       "      <td>5</td>\n",
       "      <td>Pokemon Red/Pokemon Blue</td>\n",
       "      <td>GB</td>\n",
       "      <td>1996.0</td>\n",
       "      <td>Role-Playing</td>\n",
       "      <td>Nintendo</td>\n",
       "      <td>11.27</td>\n",
       "      <td>8.89</td>\n",
       "      <td>10.22</td>\n",
       "      <td>1.00</td>\n",
       "      <td>31.37</td>\n",
       "    </tr>\n",
       "    <tr>\n",
       "      <th>...</th>\n",
       "      <td>...</td>\n",
       "      <td>...</td>\n",
       "      <td>...</td>\n",
       "      <td>...</td>\n",
       "      <td>...</td>\n",
       "      <td>...</td>\n",
       "      <td>...</td>\n",
       "      <td>...</td>\n",
       "      <td>...</td>\n",
       "      <td>...</td>\n",
       "      <td>...</td>\n",
       "    </tr>\n",
       "    <tr>\n",
       "      <th>8209</th>\n",
       "      <td>8211</td>\n",
       "      <td>Ashes Cricket 2009</td>\n",
       "      <td>PS3</td>\n",
       "      <td>2009.0</td>\n",
       "      <td>Sports</td>\n",
       "      <td>Codemasters</td>\n",
       "      <td>0.00</td>\n",
       "      <td>0.16</td>\n",
       "      <td>0.00</td>\n",
       "      <td>0.02</td>\n",
       "      <td>0.17</td>\n",
       "    </tr>\n",
       "    <tr>\n",
       "      <th>8324</th>\n",
       "      <td>8326</td>\n",
       "      <td>Buzz! Brain of the UK</td>\n",
       "      <td>PS3</td>\n",
       "      <td>2009.0</td>\n",
       "      <td>Misc</td>\n",
       "      <td>Sony Computer Entertainment</td>\n",
       "      <td>0.00</td>\n",
       "      <td>0.15</td>\n",
       "      <td>0.00</td>\n",
       "      <td>0.02</td>\n",
       "      <td>0.17</td>\n",
       "    </tr>\n",
       "    <tr>\n",
       "      <th>8402</th>\n",
       "      <td>8404</td>\n",
       "      <td>I'm A Celebrity: Get Me Out of Here!</td>\n",
       "      <td>Wii</td>\n",
       "      <td>2009.0</td>\n",
       "      <td>Misc</td>\n",
       "      <td>Mindscape</td>\n",
       "      <td>0.00</td>\n",
       "      <td>0.16</td>\n",
       "      <td>0.00</td>\n",
       "      <td>0.01</td>\n",
       "      <td>0.17</td>\n",
       "    </tr>\n",
       "    <tr>\n",
       "      <th>8594</th>\n",
       "      <td>8596</td>\n",
       "      <td>Take A Break's: Puzzle Master</td>\n",
       "      <td>DS</td>\n",
       "      <td>2009.0</td>\n",
       "      <td>Puzzle</td>\n",
       "      <td>Ubisoft</td>\n",
       "      <td>0.00</td>\n",
       "      <td>0.15</td>\n",
       "      <td>0.00</td>\n",
       "      <td>0.01</td>\n",
       "      <td>0.16</td>\n",
       "    </tr>\n",
       "    <tr>\n",
       "      <th>8598</th>\n",
       "      <td>8600</td>\n",
       "      <td>The Crew</td>\n",
       "      <td>PC</td>\n",
       "      <td>2014.0</td>\n",
       "      <td>Racing</td>\n",
       "      <td>Ubisoft</td>\n",
       "      <td>0.00</td>\n",
       "      <td>0.15</td>\n",
       "      <td>0.00</td>\n",
       "      <td>0.01</td>\n",
       "      <td>0.16</td>\n",
       "    </tr>\n",
       "  </tbody>\n",
       "</table>\n",
       "<p>3444 rows × 11 columns</p>\n",
       "</div>"
      ],
      "text/plain": [
       "      Rank                                  Name Platform    Year  \\\n",
       "0        1                            Wii Sports      Wii  2006.0   \n",
       "1        2                     Super Mario Bros.      NES  1985.0   \n",
       "2        3                        Mario Kart Wii      Wii  2008.0   \n",
       "3        4                     Wii Sports Resort      Wii  2009.0   \n",
       "4        5              Pokemon Red/Pokemon Blue       GB  1996.0   \n",
       "...    ...                                   ...      ...     ...   \n",
       "8209  8211                    Ashes Cricket 2009      PS3  2009.0   \n",
       "8324  8326                 Buzz! Brain of the UK      PS3  2009.0   \n",
       "8402  8404  I'm A Celebrity: Get Me Out of Here!      Wii  2009.0   \n",
       "8594  8596         Take A Break's: Puzzle Master       DS  2009.0   \n",
       "8598  8600                              The Crew       PC  2014.0   \n",
       "\n",
       "             Genre                    Publisher  NA_Sales  EU_Sales  JP_Sales  \\\n",
       "0           Sports                     Nintendo     41.49     29.02      3.77   \n",
       "1         Platform                     Nintendo     29.08      3.58      6.81   \n",
       "2           Racing                     Nintendo     15.85     12.88      3.79   \n",
       "3           Sports                     Nintendo     15.75     11.01      3.28   \n",
       "4     Role-Playing                     Nintendo     11.27      8.89     10.22   \n",
       "...            ...                          ...       ...       ...       ...   \n",
       "8209        Sports                  Codemasters      0.00      0.16      0.00   \n",
       "8324          Misc  Sony Computer Entertainment      0.00      0.15      0.00   \n",
       "8402          Misc                    Mindscape      0.00      0.16      0.00   \n",
       "8594        Puzzle                      Ubisoft      0.00      0.15      0.00   \n",
       "8598        Racing                      Ubisoft      0.00      0.15      0.00   \n",
       "\n",
       "      Other_Sales  Global_Sales  \n",
       "0            8.46         82.74  \n",
       "1            0.77         40.24  \n",
       "2            3.31         35.82  \n",
       "3            2.96         33.00  \n",
       "4            1.00         31.37  \n",
       "...           ...           ...  \n",
       "8209         0.02          0.17  \n",
       "8324         0.02          0.17  \n",
       "8402         0.01          0.17  \n",
       "8594         0.01          0.16  \n",
       "8598         0.01          0.16  \n",
       "\n",
       "[3444 rows x 11 columns]"
      ]
     },
     "execution_count": 113,
     "metadata": {},
     "output_type": "execute_result"
    }
   ],
   "source": [
    "#more than average sales in Europe\n",
    "data.loc[data['EU_Sales'] > data['EU_Sales'].mean()]"
   ]
  },
  {
   "cell_type": "markdown",
   "id": "b4753a55-383e-4220-9256-c465c3703174",
   "metadata": {},
   "source": [
    "### Japan Sales"
   ]
  },
  {
   "cell_type": "code",
   "execution_count": 114,
   "id": "ef41b8a5-7436-4308-88ab-7e0e26a5331f",
   "metadata": {},
   "outputs": [
    {
     "data": {
      "text/plain": [
       "<Axes: ylabel='JP_Sales'>"
      ]
     },
     "execution_count": 114,
     "metadata": {},
     "output_type": "execute_result"
    },
    {
     "data": {
      "image/png": "[encoded data removed]",
      "text/plain": [
       "<Figure size 640x480 with 1 Axes>"
      ]
     },
     "metadata": {},
     "output_type": "display_data"
    }
   ],
   "source": [
    "sns.scatterplot(data['JP_Sales'])"
   ]
  },
  {
   "cell_type": "code",
   "execution_count": 115,
   "id": "4b245a98-5fcd-470a-bf4b-e27631bd4d88",
   "metadata": {},
   "outputs": [
    {
     "data": {
      "text/html": [
       "<div>\n",
       "<style scoped>\n",
       "    .dataframe tbody tr th:only-of-type {\n",
       "        vertical-align: middle;\n",
       "    }\n",
       "\n",
       "    .dataframe tbody tr th {\n",
       "        vertical-align: top;\n",
       "    }\n",
       "\n",
       "    .dataframe thead th {\n",
       "        text-align: right;\n",
       "    }\n",
       "</style>\n",
       "<table border=\"1\" class=\"dataframe\">\n",
       "  <thead>\n",
       "    <tr style=\"text-align: right;\">\n",
       "      <th></th>\n",
       "      <th>Rank</th>\n",
       "      <th>Name</th>\n",
       "      <th>Platform</th>\n",
       "      <th>Year</th>\n",
       "      <th>Genre</th>\n",
       "      <th>Publisher</th>\n",
       "      <th>NA_Sales</th>\n",
       "      <th>EU_Sales</th>\n",
       "      <th>JP_Sales</th>\n",
       "      <th>Other_Sales</th>\n",
       "      <th>Global_Sales</th>\n",
       "    </tr>\n",
       "  </thead>\n",
       "  <tbody>\n",
       "    <tr>\n",
       "      <th>4</th>\n",
       "      <td>5</td>\n",
       "      <td>Pokemon Red/Pokemon Blue</td>\n",
       "      <td>GB</td>\n",
       "      <td>1996.0</td>\n",
       "      <td>Role-Playing</td>\n",
       "      <td>Nintendo</td>\n",
       "      <td>11.27</td>\n",
       "      <td>8.89</td>\n",
       "      <td>10.22</td>\n",
       "      <td>1.0</td>\n",
       "      <td>31.37</td>\n",
       "    </tr>\n",
       "  </tbody>\n",
       "</table>\n",
       "</div>"
      ],
      "text/plain": [
       "   Rank                      Name Platform    Year         Genre Publisher  \\\n",
       "4     5  Pokemon Red/Pokemon Blue       GB  1996.0  Role-Playing  Nintendo   \n",
       "\n",
       "   NA_Sales  EU_Sales  JP_Sales  Other_Sales  Global_Sales  \n",
       "4     11.27      8.89     10.22          1.0         31.37  "
      ]
     },
     "execution_count": 115,
     "metadata": {},
     "output_type": "execute_result"
    }
   ],
   "source": [
    "#highest selling in Japan\n",
    "data.loc[data['JP_Sales'] == data['JP_Sales'].max()]"
   ]
  },
  {
   "cell_type": "code",
   "execution_count": 116,
   "id": "251fd6f5-24f8-4d9e-9aaa-a613090831fa",
   "metadata": {},
   "outputs": [
    {
     "data": {
      "text/html": [
       "<div>\n",
       "<style scoped>\n",
       "    .dataframe tbody tr th:only-of-type {\n",
       "        vertical-align: middle;\n",
       "    }\n",
       "\n",
       "    .dataframe tbody tr th {\n",
       "        vertical-align: top;\n",
       "    }\n",
       "\n",
       "    .dataframe thead th {\n",
       "        text-align: right;\n",
       "    }\n",
       "</style>\n",
       "<table border=\"1\" class=\"dataframe\">\n",
       "  <thead>\n",
       "    <tr style=\"text-align: right;\">\n",
       "      <th></th>\n",
       "      <th>Rank</th>\n",
       "      <th>Name</th>\n",
       "      <th>Platform</th>\n",
       "      <th>Year</th>\n",
       "      <th>Genre</th>\n",
       "      <th>Publisher</th>\n",
       "      <th>NA_Sales</th>\n",
       "      <th>EU_Sales</th>\n",
       "      <th>JP_Sales</th>\n",
       "      <th>Other_Sales</th>\n",
       "      <th>Global_Sales</th>\n",
       "    </tr>\n",
       "  </thead>\n",
       "  <tbody>\n",
       "    <tr>\n",
       "      <th>0</th>\n",
       "      <td>1</td>\n",
       "      <td>Wii Sports</td>\n",
       "      <td>Wii</td>\n",
       "      <td>2006.0</td>\n",
       "      <td>Sports</td>\n",
       "      <td>Nintendo</td>\n",
       "      <td>41.49</td>\n",
       "      <td>29.02</td>\n",
       "      <td>3.77</td>\n",
       "      <td>8.46</td>\n",
       "      <td>82.74</td>\n",
       "    </tr>\n",
       "    <tr>\n",
       "      <th>1</th>\n",
       "      <td>2</td>\n",
       "      <td>Super Mario Bros.</td>\n",
       "      <td>NES</td>\n",
       "      <td>1985.0</td>\n",
       "      <td>Platform</td>\n",
       "      <td>Nintendo</td>\n",
       "      <td>29.08</td>\n",
       "      <td>3.58</td>\n",
       "      <td>6.81</td>\n",
       "      <td>0.77</td>\n",
       "      <td>40.24</td>\n",
       "    </tr>\n",
       "    <tr>\n",
       "      <th>2</th>\n",
       "      <td>3</td>\n",
       "      <td>Mario Kart Wii</td>\n",
       "      <td>Wii</td>\n",
       "      <td>2008.0</td>\n",
       "      <td>Racing</td>\n",
       "      <td>Nintendo</td>\n",
       "      <td>15.85</td>\n",
       "      <td>12.88</td>\n",
       "      <td>3.79</td>\n",
       "      <td>3.31</td>\n",
       "      <td>35.82</td>\n",
       "    </tr>\n",
       "    <tr>\n",
       "      <th>3</th>\n",
       "      <td>4</td>\n",
       "      <td>Wii Sports Resort</td>\n",
       "      <td>Wii</td>\n",
       "      <td>2009.0</td>\n",
       "      <td>Sports</td>\n",
       "      <td>Nintendo</td>\n",
       "      <td>15.75</td>\n",
       "      <td>11.01</td>\n",
       "      <td>3.28</td>\n",
       "      <td>2.96</td>\n",
       "      <td>33.00</td>\n",
       "    </tr>\n",
       "    <tr>\n",
       "      <th>4</th>\n",
       "      <td>5</td>\n",
       "      <td>Pokemon Red/Pokemon Blue</td>\n",
       "      <td>GB</td>\n",
       "      <td>1996.0</td>\n",
       "      <td>Role-Playing</td>\n",
       "      <td>Nintendo</td>\n",
       "      <td>11.27</td>\n",
       "      <td>8.89</td>\n",
       "      <td>10.22</td>\n",
       "      <td>1.00</td>\n",
       "      <td>31.37</td>\n",
       "    </tr>\n",
       "    <tr>\n",
       "      <th>...</th>\n",
       "      <td>...</td>\n",
       "      <td>...</td>\n",
       "      <td>...</td>\n",
       "      <td>...</td>\n",
       "      <td>...</td>\n",
       "      <td>...</td>\n",
       "      <td>...</td>\n",
       "      <td>...</td>\n",
       "      <td>...</td>\n",
       "      <td>...</td>\n",
       "      <td>...</td>\n",
       "    </tr>\n",
       "    <tr>\n",
       "      <th>11717</th>\n",
       "      <td>11719</td>\n",
       "      <td>The Idolmaster: Gravure For You! Vol. 3</td>\n",
       "      <td>PS3</td>\n",
       "      <td>2011.0</td>\n",
       "      <td>Misc</td>\n",
       "      <td>Namco Bandai Games</td>\n",
       "      <td>0.00</td>\n",
       "      <td>0.00</td>\n",
       "      <td>0.08</td>\n",
       "      <td>0.00</td>\n",
       "      <td>0.08</td>\n",
       "    </tr>\n",
       "    <tr>\n",
       "      <th>11728</th>\n",
       "      <td>11730</td>\n",
       "      <td>Tennis no Oji-Sama Gyutto! DokiDoki Survival -...</td>\n",
       "      <td>DS</td>\n",
       "      <td>2011.0</td>\n",
       "      <td>Sports</td>\n",
       "      <td>Konami Digital Entertainment</td>\n",
       "      <td>0.00</td>\n",
       "      <td>0.00</td>\n",
       "      <td>0.08</td>\n",
       "      <td>0.00</td>\n",
       "      <td>0.08</td>\n",
       "    </tr>\n",
       "    <tr>\n",
       "      <th>11729</th>\n",
       "      <td>11731</td>\n",
       "      <td>Nicola Kanshuu: Model Oshare * Audition Platina</td>\n",
       "      <td>3DS</td>\n",
       "      <td>2012.0</td>\n",
       "      <td>Action</td>\n",
       "      <td>Alchemist</td>\n",
       "      <td>0.00</td>\n",
       "      <td>0.00</td>\n",
       "      <td>0.08</td>\n",
       "      <td>0.00</td>\n",
       "      <td>0.08</td>\n",
       "    </tr>\n",
       "    <tr>\n",
       "      <th>11732</th>\n",
       "      <td>11734</td>\n",
       "      <td>Fairy Tail: Portable Guild 2</td>\n",
       "      <td>PSP</td>\n",
       "      <td>2011.0</td>\n",
       "      <td>Fighting</td>\n",
       "      <td>Konami Digital Entertainment</td>\n",
       "      <td>0.00</td>\n",
       "      <td>0.00</td>\n",
       "      <td>0.08</td>\n",
       "      <td>0.00</td>\n",
       "      <td>0.08</td>\n",
       "    </tr>\n",
       "    <tr>\n",
       "      <th>11733</th>\n",
       "      <td>11735</td>\n",
       "      <td>Yoru no Nai Kuni</td>\n",
       "      <td>PS4</td>\n",
       "      <td>2015.0</td>\n",
       "      <td>Role-Playing</td>\n",
       "      <td>Tecmo Koei</td>\n",
       "      <td>0.00</td>\n",
       "      <td>0.00</td>\n",
       "      <td>0.08</td>\n",
       "      <td>0.00</td>\n",
       "      <td>0.08</td>\n",
       "    </tr>\n",
       "  </tbody>\n",
       "</table>\n",
       "<p>2921 rows × 11 columns</p>\n",
       "</div>"
      ],
      "text/plain": [
       "        Rank                                               Name Platform  \\\n",
       "0          1                                         Wii Sports      Wii   \n",
       "1          2                                  Super Mario Bros.      NES   \n",
       "2          3                                     Mario Kart Wii      Wii   \n",
       "3          4                                  Wii Sports Resort      Wii   \n",
       "4          5                           Pokemon Red/Pokemon Blue       GB   \n",
       "...      ...                                                ...      ...   \n",
       "11717  11719            The Idolmaster: Gravure For You! Vol. 3      PS3   \n",
       "11728  11730  Tennis no Oji-Sama Gyutto! DokiDoki Survival -...       DS   \n",
       "11729  11731    Nicola Kanshuu: Model Oshare * Audition Platina      3DS   \n",
       "11732  11734                       Fairy Tail: Portable Guild 2      PSP   \n",
       "11733  11735                                   Yoru no Nai Kuni      PS4   \n",
       "\n",
       "         Year         Genre                     Publisher  NA_Sales  EU_Sales  \\\n",
       "0      2006.0        Sports                      Nintendo     41.49     29.02   \n",
       "1      1985.0      Platform                      Nintendo     29.08      3.58   \n",
       "2      2008.0        Racing                      Nintendo     15.85     12.88   \n",
       "3      2009.0        Sports                      Nintendo     15.75     11.01   \n",
       "4      1996.0  Role-Playing                      Nintendo     11.27      8.89   \n",
       "...       ...           ...                           ...       ...       ...   \n",
       "11717  2011.0          Misc            Namco Bandai Games      0.00      0.00   \n",
       "11728  2011.0        Sports  Konami Digital Entertainment      0.00      0.00   \n",
       "11729  2012.0        Action                     Alchemist      0.00      0.00   \n",
       "11732  2011.0      Fighting  Konami Digital Entertainment      0.00      0.00   \n",
       "11733  2015.0  Role-Playing                    Tecmo Koei      0.00      0.00   \n",
       "\n",
       "       JP_Sales  Other_Sales  Global_Sales  \n",
       "0          3.77         8.46         82.74  \n",
       "1          6.81         0.77         40.24  \n",
       "2          3.79         3.31         35.82  \n",
       "3          3.28         2.96         33.00  \n",
       "4         10.22         1.00         31.37  \n",
       "...         ...          ...           ...  \n",
       "11717      0.08         0.00          0.08  \n",
       "11728      0.08         0.00          0.08  \n",
       "11729      0.08         0.00          0.08  \n",
       "11732      0.08         0.00          0.08  \n",
       "11733      0.08         0.00          0.08  \n",
       "\n",
       "[2921 rows x 11 columns]"
      ]
     },
     "execution_count": 116,
     "metadata": {},
     "output_type": "execute_result"
    }
   ],
   "source": [
    "#more than average selling in japan\n",
    "data.loc[data['JP_Sales'] > data['JP_Sales'].mean()]"
   ]
  },
  {
   "cell_type": "markdown",
   "id": "80933af4-ad57-4cb3-97a9-994e1dbe794f",
   "metadata": {},
   "source": [
    "### Other Sales"
   ]
  },
  {
   "cell_type": "code",
   "execution_count": 117,
   "id": "f6a9dacf-84d1-4f09-a939-b5936f1e0086",
   "metadata": {},
   "outputs": [
    {
     "data": {
      "text/plain": [
       "<Axes: ylabel='Other_Sales'>"
      ]
     },
     "execution_count": 117,
     "metadata": {},
     "output_type": "execute_result"
    },
    {
     "data": {
      "image/png": "[encoded data removed]",
      "text/plain": [
       "<Figure size 640x480 with 1 Axes>"
      ]
     },
     "metadata": {},
     "output_type": "display_data"
    }
   ],
   "source": [
    "sns.scatterplot(data['Other_Sales'])"
   ]
  },
  {
   "cell_type": "code",
   "execution_count": 118,
   "id": "c1bec2cd-9b83-4170-a048-d1ac2636d508",
   "metadata": {},
   "outputs": [
    {
     "data": {
      "text/html": [
       "<div>\n",
       "<style scoped>\n",
       "    .dataframe tbody tr th:only-of-type {\n",
       "        vertical-align: middle;\n",
       "    }\n",
       "\n",
       "    .dataframe tbody tr th {\n",
       "        vertical-align: top;\n",
       "    }\n",
       "\n",
       "    .dataframe thead th {\n",
       "        text-align: right;\n",
       "    }\n",
       "</style>\n",
       "<table border=\"1\" class=\"dataframe\">\n",
       "  <thead>\n",
       "    <tr style=\"text-align: right;\">\n",
       "      <th></th>\n",
       "      <th>Rank</th>\n",
       "      <th>Name</th>\n",
       "      <th>Platform</th>\n",
       "      <th>Year</th>\n",
       "      <th>Genre</th>\n",
       "      <th>Publisher</th>\n",
       "      <th>NA_Sales</th>\n",
       "      <th>EU_Sales</th>\n",
       "      <th>JP_Sales</th>\n",
       "      <th>Other_Sales</th>\n",
       "      <th>Global_Sales</th>\n",
       "    </tr>\n",
       "  </thead>\n",
       "  <tbody>\n",
       "    <tr>\n",
       "      <th>17</th>\n",
       "      <td>18</td>\n",
       "      <td>Grand Theft Auto: San Andreas</td>\n",
       "      <td>PS2</td>\n",
       "      <td>2004.0</td>\n",
       "      <td>Action</td>\n",
       "      <td>Take-Two Interactive</td>\n",
       "      <td>9.43</td>\n",
       "      <td>0.4</td>\n",
       "      <td>0.41</td>\n",
       "      <td>10.57</td>\n",
       "      <td>20.81</td>\n",
       "    </tr>\n",
       "  </tbody>\n",
       "</table>\n",
       "</div>"
      ],
      "text/plain": [
       "    Rank                           Name Platform    Year   Genre  \\\n",
       "17    18  Grand Theft Auto: San Andreas      PS2  2004.0  Action   \n",
       "\n",
       "               Publisher  NA_Sales  EU_Sales  JP_Sales  Other_Sales  \\\n",
       "17  Take-Two Interactive      9.43       0.4      0.41        10.57   \n",
       "\n",
       "    Global_Sales  \n",
       "17         20.81  "
      ]
     },
     "execution_count": 118,
     "metadata": {},
     "output_type": "execute_result"
    }
   ],
   "source": [
    "data.loc[data['Other_Sales'] == data['Other_Sales'].max()]"
   ]
  },
  {
   "cell_type": "code",
   "execution_count": 119,
   "id": "4a5742bb-9c30-4449-a827-bc92ad0f4067",
   "metadata": {},
   "outputs": [
    {
     "data": {
      "text/html": [
       "<div>\n",
       "<style scoped>\n",
       "    .dataframe tbody tr th:only-of-type {\n",
       "        vertical-align: middle;\n",
       "    }\n",
       "\n",
       "    .dataframe tbody tr th {\n",
       "        vertical-align: top;\n",
       "    }\n",
       "\n",
       "    .dataframe thead th {\n",
       "        text-align: right;\n",
       "    }\n",
       "</style>\n",
       "<table border=\"1\" class=\"dataframe\">\n",
       "  <thead>\n",
       "    <tr style=\"text-align: right;\">\n",
       "      <th></th>\n",
       "      <th>Rank</th>\n",
       "      <th>Name</th>\n",
       "      <th>Platform</th>\n",
       "      <th>Year</th>\n",
       "      <th>Genre</th>\n",
       "      <th>Publisher</th>\n",
       "      <th>NA_Sales</th>\n",
       "      <th>EU_Sales</th>\n",
       "      <th>JP_Sales</th>\n",
       "      <th>Other_Sales</th>\n",
       "      <th>Global_Sales</th>\n",
       "    </tr>\n",
       "  </thead>\n",
       "  <tbody>\n",
       "    <tr>\n",
       "      <th>0</th>\n",
       "      <td>1</td>\n",
       "      <td>Wii Sports</td>\n",
       "      <td>Wii</td>\n",
       "      <td>2006.0</td>\n",
       "      <td>Sports</td>\n",
       "      <td>Nintendo</td>\n",
       "      <td>41.49</td>\n",
       "      <td>29.02</td>\n",
       "      <td>3.77</td>\n",
       "      <td>8.46</td>\n",
       "      <td>82.74</td>\n",
       "    </tr>\n",
       "    <tr>\n",
       "      <th>1</th>\n",
       "      <td>2</td>\n",
       "      <td>Super Mario Bros.</td>\n",
       "      <td>NES</td>\n",
       "      <td>1985.0</td>\n",
       "      <td>Platform</td>\n",
       "      <td>Nintendo</td>\n",
       "      <td>29.08</td>\n",
       "      <td>3.58</td>\n",
       "      <td>6.81</td>\n",
       "      <td>0.77</td>\n",
       "      <td>40.24</td>\n",
       "    </tr>\n",
       "    <tr>\n",
       "      <th>2</th>\n",
       "      <td>3</td>\n",
       "      <td>Mario Kart Wii</td>\n",
       "      <td>Wii</td>\n",
       "      <td>2008.0</td>\n",
       "      <td>Racing</td>\n",
       "      <td>Nintendo</td>\n",
       "      <td>15.85</td>\n",
       "      <td>12.88</td>\n",
       "      <td>3.79</td>\n",
       "      <td>3.31</td>\n",
       "      <td>35.82</td>\n",
       "    </tr>\n",
       "    <tr>\n",
       "      <th>3</th>\n",
       "      <td>4</td>\n",
       "      <td>Wii Sports Resort</td>\n",
       "      <td>Wii</td>\n",
       "      <td>2009.0</td>\n",
       "      <td>Sports</td>\n",
       "      <td>Nintendo</td>\n",
       "      <td>15.75</td>\n",
       "      <td>11.01</td>\n",
       "      <td>3.28</td>\n",
       "      <td>2.96</td>\n",
       "      <td>33.00</td>\n",
       "    </tr>\n",
       "    <tr>\n",
       "      <th>4</th>\n",
       "      <td>5</td>\n",
       "      <td>Pokemon Red/Pokemon Blue</td>\n",
       "      <td>GB</td>\n",
       "      <td>1996.0</td>\n",
       "      <td>Role-Playing</td>\n",
       "      <td>Nintendo</td>\n",
       "      <td>11.27</td>\n",
       "      <td>8.89</td>\n",
       "      <td>10.22</td>\n",
       "      <td>1.00</td>\n",
       "      <td>31.37</td>\n",
       "    </tr>\n",
       "    <tr>\n",
       "      <th>...</th>\n",
       "      <td>...</td>\n",
       "      <td>...</td>\n",
       "      <td>...</td>\n",
       "      <td>...</td>\n",
       "      <td>...</td>\n",
       "      <td>...</td>\n",
       "      <td>...</td>\n",
       "      <td>...</td>\n",
       "      <td>...</td>\n",
       "      <td>...</td>\n",
       "      <td>...</td>\n",
       "    </tr>\n",
       "    <tr>\n",
       "      <th>8862</th>\n",
       "      <td>8864</td>\n",
       "      <td>Doraemon 3: Nobi Dai no Machi SOS!</td>\n",
       "      <td>N64</td>\n",
       "      <td>2000.0</td>\n",
       "      <td>Platform</td>\n",
       "      <td>Epoch</td>\n",
       "      <td>0.00</td>\n",
       "      <td>0.00</td>\n",
       "      <td>0.09</td>\n",
       "      <td>0.06</td>\n",
       "      <td>0.15</td>\n",
       "    </tr>\n",
       "    <tr>\n",
       "      <th>9260</th>\n",
       "      <td>9262</td>\n",
       "      <td>SNK vs. Capcom: The Match of the Millennium</td>\n",
       "      <td>PS2</td>\n",
       "      <td>2006.0</td>\n",
       "      <td>Fighting</td>\n",
       "      <td>Sega</td>\n",
       "      <td>0.00</td>\n",
       "      <td>0.02</td>\n",
       "      <td>0.00</td>\n",
       "      <td>0.12</td>\n",
       "      <td>0.14</td>\n",
       "    </tr>\n",
       "    <tr>\n",
       "      <th>9819</th>\n",
       "      <td>9821</td>\n",
       "      <td>Densha De Go! 64</td>\n",
       "      <td>N64</td>\n",
       "      <td>1999.0</td>\n",
       "      <td>Simulation</td>\n",
       "      <td>Taito</td>\n",
       "      <td>0.00</td>\n",
       "      <td>0.00</td>\n",
       "      <td>0.05</td>\n",
       "      <td>0.07</td>\n",
       "      <td>0.12</td>\n",
       "    </tr>\n",
       "    <tr>\n",
       "      <th>10637</th>\n",
       "      <td>10639</td>\n",
       "      <td>International Superstar Soccer 64 (weekly JP s...</td>\n",
       "      <td>N64</td>\n",
       "      <td>1997.0</td>\n",
       "      <td>Sports</td>\n",
       "      <td>Konami Digital Entertainment</td>\n",
       "      <td>0.00</td>\n",
       "      <td>0.00</td>\n",
       "      <td>0.05</td>\n",
       "      <td>0.05</td>\n",
       "      <td>0.10</td>\n",
       "    </tr>\n",
       "    <tr>\n",
       "      <th>11224</th>\n",
       "      <td>11226</td>\n",
       "      <td>FIFA 12</td>\n",
       "      <td>PS2</td>\n",
       "      <td>2011.0</td>\n",
       "      <td>Sports</td>\n",
       "      <td>Electronic Arts</td>\n",
       "      <td>0.00</td>\n",
       "      <td>0.02</td>\n",
       "      <td>0.00</td>\n",
       "      <td>0.06</td>\n",
       "      <td>0.09</td>\n",
       "    </tr>\n",
       "  </tbody>\n",
       "</table>\n",
       "<p>3442 rows × 11 columns</p>\n",
       "</div>"
      ],
      "text/plain": [
       "        Rank                                               Name Platform  \\\n",
       "0          1                                         Wii Sports      Wii   \n",
       "1          2                                  Super Mario Bros.      NES   \n",
       "2          3                                     Mario Kart Wii      Wii   \n",
       "3          4                                  Wii Sports Resort      Wii   \n",
       "4          5                           Pokemon Red/Pokemon Blue       GB   \n",
       "...      ...                                                ...      ...   \n",
       "8862    8864                 Doraemon 3: Nobi Dai no Machi SOS!      N64   \n",
       "9260    9262        SNK vs. Capcom: The Match of the Millennium      PS2   \n",
       "9819    9821                                   Densha De Go! 64      N64   \n",
       "10637  10639  International Superstar Soccer 64 (weekly JP s...      N64   \n",
       "11224  11226                                            FIFA 12      PS2   \n",
       "\n",
       "         Year         Genre                     Publisher  NA_Sales  EU_Sales  \\\n",
       "0      2006.0        Sports                      Nintendo     41.49     29.02   \n",
       "1      1985.0      Platform                      Nintendo     29.08      3.58   \n",
       "2      2008.0        Racing                      Nintendo     15.85     12.88   \n",
       "3      2009.0        Sports                      Nintendo     15.75     11.01   \n",
       "4      1996.0  Role-Playing                      Nintendo     11.27      8.89   \n",
       "...       ...           ...                           ...       ...       ...   \n",
       "8862   2000.0      Platform                         Epoch      0.00      0.00   \n",
       "9260   2006.0      Fighting                          Sega      0.00      0.02   \n",
       "9819   1999.0    Simulation                         Taito      0.00      0.00   \n",
       "10637  1997.0        Sports  Konami Digital Entertainment      0.00      0.00   \n",
       "11224  2011.0        Sports               Electronic Arts      0.00      0.02   \n",
       "\n",
       "       JP_Sales  Other_Sales  Global_Sales  \n",
       "0          3.77         8.46         82.74  \n",
       "1          6.81         0.77         40.24  \n",
       "2          3.79         3.31         35.82  \n",
       "3          3.28         2.96         33.00  \n",
       "4         10.22         1.00         31.37  \n",
       "...         ...          ...           ...  \n",
       "8862       0.09         0.06          0.15  \n",
       "9260       0.00         0.12          0.14  \n",
       "9819       0.05         0.07          0.12  \n",
       "10637      0.05         0.05          0.10  \n",
       "11224      0.00         0.06          0.09  \n",
       "\n",
       "[3442 rows x 11 columns]"
      ]
     },
     "execution_count": 119,
     "metadata": {},
     "output_type": "execute_result"
    }
   ],
   "source": [
    "data.loc[data['Other_Sales'] > data['Other_Sales'].mean()]"
   ]
  },
  {
   "cell_type": "markdown",
   "id": "ac988578-46e8-486d-b788-d97a5f3eb4f4",
   "metadata": {},
   "source": [
    "### Global Sales"
   ]
  },
  {
   "cell_type": "code",
   "execution_count": 120,
   "id": "6b5a9121-a9e3-4bae-8400-eb10a6be0e64",
   "metadata": {},
   "outputs": [
    {
     "data": {
      "text/plain": [
       "<Axes: ylabel='Global_Sales'>"
      ]
     },
     "execution_count": 120,
     "metadata": {},
     "output_type": "execute_result"
    },
    {
     "data": {
      "image/png": "[encoded data removed]",
      "text/plain": [
       "<Figure size 640x480 with 1 Axes>"
      ]
     },
     "metadata": {},
     "output_type": "display_data"
    }
   ],
   "source": [
    "sns.scatterplot(data['Global_Sales'])"
   ]
  },
  {
   "cell_type": "code",
   "execution_count": 121,
   "id": "9c8e49cb-016c-40b9-b137-24943099ed2d",
   "metadata": {},
   "outputs": [
    {
     "data": {
      "text/html": [
       "<div>\n",
       "<style scoped>\n",
       "    .dataframe tbody tr th:only-of-type {\n",
       "        vertical-align: middle;\n",
       "    }\n",
       "\n",
       "    .dataframe tbody tr th {\n",
       "        vertical-align: top;\n",
       "    }\n",
       "\n",
       "    .dataframe thead th {\n",
       "        text-align: right;\n",
       "    }\n",
       "</style>\n",
       "<table border=\"1\" class=\"dataframe\">\n",
       "  <thead>\n",
       "    <tr style=\"text-align: right;\">\n",
       "      <th></th>\n",
       "      <th>Rank</th>\n",
       "      <th>Name</th>\n",
       "      <th>Platform</th>\n",
       "      <th>Year</th>\n",
       "      <th>Genre</th>\n",
       "      <th>Publisher</th>\n",
       "      <th>NA_Sales</th>\n",
       "      <th>EU_Sales</th>\n",
       "      <th>JP_Sales</th>\n",
       "      <th>Other_Sales</th>\n",
       "      <th>Global_Sales</th>\n",
       "    </tr>\n",
       "  </thead>\n",
       "  <tbody>\n",
       "    <tr>\n",
       "      <th>0</th>\n",
       "      <td>1</td>\n",
       "      <td>Wii Sports</td>\n",
       "      <td>Wii</td>\n",
       "      <td>2006.0</td>\n",
       "      <td>Sports</td>\n",
       "      <td>Nintendo</td>\n",
       "      <td>41.49</td>\n",
       "      <td>29.02</td>\n",
       "      <td>3.77</td>\n",
       "      <td>8.46</td>\n",
       "      <td>82.74</td>\n",
       "    </tr>\n",
       "  </tbody>\n",
       "</table>\n",
       "</div>"
      ],
      "text/plain": [
       "   Rank        Name Platform    Year   Genre Publisher  NA_Sales  EU_Sales  \\\n",
       "0     1  Wii Sports      Wii  2006.0  Sports  Nintendo     41.49     29.02   \n",
       "\n",
       "   JP_Sales  Other_Sales  Global_Sales  \n",
       "0      3.77         8.46         82.74  "
      ]
     },
     "execution_count": 121,
     "metadata": {},
     "output_type": "execute_result"
    }
   ],
   "source": [
    "data.loc[data['Global_Sales'] == data['Global_Sales'].max()]"
   ]
  },
  {
   "cell_type": "code",
   "execution_count": 122,
   "id": "52504e13-98b6-46bf-843f-29494f6019a2",
   "metadata": {},
   "outputs": [
    {
     "data": {
      "text/html": [
       "<div>\n",
       "<style scoped>\n",
       "    .dataframe tbody tr th:only-of-type {\n",
       "        vertical-align: middle;\n",
       "    }\n",
       "\n",
       "    .dataframe tbody tr th {\n",
       "        vertical-align: top;\n",
       "    }\n",
       "\n",
       "    .dataframe thead th {\n",
       "        text-align: right;\n",
       "    }\n",
       "</style>\n",
       "<table border=\"1\" class=\"dataframe\">\n",
       "  <thead>\n",
       "    <tr style=\"text-align: right;\">\n",
       "      <th></th>\n",
       "      <th>Rank</th>\n",
       "      <th>Name</th>\n",
       "      <th>Platform</th>\n",
       "      <th>Year</th>\n",
       "      <th>Genre</th>\n",
       "      <th>Publisher</th>\n",
       "      <th>NA_Sales</th>\n",
       "      <th>EU_Sales</th>\n",
       "      <th>JP_Sales</th>\n",
       "      <th>Other_Sales</th>\n",
       "      <th>Global_Sales</th>\n",
       "    </tr>\n",
       "  </thead>\n",
       "  <tbody>\n",
       "    <tr>\n",
       "      <th>0</th>\n",
       "      <td>1</td>\n",
       "      <td>Wii Sports</td>\n",
       "      <td>Wii</td>\n",
       "      <td>2006.0</td>\n",
       "      <td>Sports</td>\n",
       "      <td>Nintendo</td>\n",
       "      <td>41.49</td>\n",
       "      <td>29.02</td>\n",
       "      <td>3.77</td>\n",
       "      <td>8.46</td>\n",
       "      <td>82.74</td>\n",
       "    </tr>\n",
       "    <tr>\n",
       "      <th>1</th>\n",
       "      <td>2</td>\n",
       "      <td>Super Mario Bros.</td>\n",
       "      <td>NES</td>\n",
       "      <td>1985.0</td>\n",
       "      <td>Platform</td>\n",
       "      <td>Nintendo</td>\n",
       "      <td>29.08</td>\n",
       "      <td>3.58</td>\n",
       "      <td>6.81</td>\n",
       "      <td>0.77</td>\n",
       "      <td>40.24</td>\n",
       "    </tr>\n",
       "    <tr>\n",
       "      <th>2</th>\n",
       "      <td>3</td>\n",
       "      <td>Mario Kart Wii</td>\n",
       "      <td>Wii</td>\n",
       "      <td>2008.0</td>\n",
       "      <td>Racing</td>\n",
       "      <td>Nintendo</td>\n",
       "      <td>15.85</td>\n",
       "      <td>12.88</td>\n",
       "      <td>3.79</td>\n",
       "      <td>3.31</td>\n",
       "      <td>35.82</td>\n",
       "    </tr>\n",
       "    <tr>\n",
       "      <th>3</th>\n",
       "      <td>4</td>\n",
       "      <td>Wii Sports Resort</td>\n",
       "      <td>Wii</td>\n",
       "      <td>2009.0</td>\n",
       "      <td>Sports</td>\n",
       "      <td>Nintendo</td>\n",
       "      <td>15.75</td>\n",
       "      <td>11.01</td>\n",
       "      <td>3.28</td>\n",
       "      <td>2.96</td>\n",
       "      <td>33.00</td>\n",
       "    </tr>\n",
       "    <tr>\n",
       "      <th>4</th>\n",
       "      <td>5</td>\n",
       "      <td>Pokemon Red/Pokemon Blue</td>\n",
       "      <td>GB</td>\n",
       "      <td>1996.0</td>\n",
       "      <td>Role-Playing</td>\n",
       "      <td>Nintendo</td>\n",
       "      <td>11.27</td>\n",
       "      <td>8.89</td>\n",
       "      <td>10.22</td>\n",
       "      <td>1.00</td>\n",
       "      <td>31.37</td>\n",
       "    </tr>\n",
       "    <tr>\n",
       "      <th>...</th>\n",
       "      <td>...</td>\n",
       "      <td>...</td>\n",
       "      <td>...</td>\n",
       "      <td>...</td>\n",
       "      <td>...</td>\n",
       "      <td>...</td>\n",
       "      <td>...</td>\n",
       "      <td>...</td>\n",
       "      <td>...</td>\n",
       "      <td>...</td>\n",
       "      <td>...</td>\n",
       "    </tr>\n",
       "    <tr>\n",
       "      <th>3682</th>\n",
       "      <td>3684</td>\n",
       "      <td>Are You Smarter than a 5th Grader? Make the Grade</td>\n",
       "      <td>Wii</td>\n",
       "      <td>2008.0</td>\n",
       "      <td>Misc</td>\n",
       "      <td>THQ</td>\n",
       "      <td>0.51</td>\n",
       "      <td>0.00</td>\n",
       "      <td>0.00</td>\n",
       "      <td>0.04</td>\n",
       "      <td>0.55</td>\n",
       "    </tr>\n",
       "    <tr>\n",
       "      <th>3683</th>\n",
       "      <td>3685</td>\n",
       "      <td>American Idol</td>\n",
       "      <td>PS2</td>\n",
       "      <td>2003.0</td>\n",
       "      <td>Misc</td>\n",
       "      <td>Codemasters</td>\n",
       "      <td>0.27</td>\n",
       "      <td>0.21</td>\n",
       "      <td>0.00</td>\n",
       "      <td>0.07</td>\n",
       "      <td>0.55</td>\n",
       "    </tr>\n",
       "    <tr>\n",
       "      <th>3684</th>\n",
       "      <td>3686</td>\n",
       "      <td>Top Gun: Fire at Will!</td>\n",
       "      <td>PS</td>\n",
       "      <td>1996.0</td>\n",
       "      <td>Misc</td>\n",
       "      <td>Microprose</td>\n",
       "      <td>0.30</td>\n",
       "      <td>0.21</td>\n",
       "      <td>0.00</td>\n",
       "      <td>0.04</td>\n",
       "      <td>0.55</td>\n",
       "    </tr>\n",
       "    <tr>\n",
       "      <th>3685</th>\n",
       "      <td>3687</td>\n",
       "      <td>Red Dead Revolver</td>\n",
       "      <td>XB</td>\n",
       "      <td>2004.0</td>\n",
       "      <td>Shooter</td>\n",
       "      <td>Take-Two Interactive</td>\n",
       "      <td>0.40</td>\n",
       "      <td>0.12</td>\n",
       "      <td>0.00</td>\n",
       "      <td>0.02</td>\n",
       "      <td>0.55</td>\n",
       "    </tr>\n",
       "    <tr>\n",
       "      <th>3686</th>\n",
       "      <td>3688</td>\n",
       "      <td>Dragon Ball Z: Shin Budokai</td>\n",
       "      <td>PSP</td>\n",
       "      <td>2006.0</td>\n",
       "      <td>Fighting</td>\n",
       "      <td>Atari</td>\n",
       "      <td>0.26</td>\n",
       "      <td>0.08</td>\n",
       "      <td>0.13</td>\n",
       "      <td>0.07</td>\n",
       "      <td>0.55</td>\n",
       "    </tr>\n",
       "  </tbody>\n",
       "</table>\n",
       "<p>3634 rows × 11 columns</p>\n",
       "</div>"
      ],
      "text/plain": [
       "      Rank                                               Name Platform  \\\n",
       "0        1                                         Wii Sports      Wii   \n",
       "1        2                                  Super Mario Bros.      NES   \n",
       "2        3                                     Mario Kart Wii      Wii   \n",
       "3        4                                  Wii Sports Resort      Wii   \n",
       "4        5                           Pokemon Red/Pokemon Blue       GB   \n",
       "...    ...                                                ...      ...   \n",
       "3682  3684  Are You Smarter than a 5th Grader? Make the Grade      Wii   \n",
       "3683  3685                                      American Idol      PS2   \n",
       "3684  3686                             Top Gun: Fire at Will!       PS   \n",
       "3685  3687                                  Red Dead Revolver       XB   \n",
       "3686  3688                        Dragon Ball Z: Shin Budokai      PSP   \n",
       "\n",
       "        Year         Genre             Publisher  NA_Sales  EU_Sales  \\\n",
       "0     2006.0        Sports              Nintendo     41.49     29.02   \n",
       "1     1985.0      Platform              Nintendo     29.08      3.58   \n",
       "2     2008.0        Racing              Nintendo     15.85     12.88   \n",
       "3     2009.0        Sports              Nintendo     15.75     11.01   \n",
       "4     1996.0  Role-Playing              Nintendo     11.27      8.89   \n",
       "...      ...           ...                   ...       ...       ...   \n",
       "3682  2008.0          Misc                   THQ      0.51      0.00   \n",
       "3683  2003.0          Misc           Codemasters      0.27      0.21   \n",
       "3684  1996.0          Misc            Microprose      0.30      0.21   \n",
       "3685  2004.0       Shooter  Take-Two Interactive      0.40      0.12   \n",
       "3686  2006.0      Fighting                 Atari      0.26      0.08   \n",
       "\n",
       "      JP_Sales  Other_Sales  Global_Sales  \n",
       "0         3.77         8.46         82.74  \n",
       "1         6.81         0.77         40.24  \n",
       "2         3.79         3.31         35.82  \n",
       "3         3.28         2.96         33.00  \n",
       "4        10.22         1.00         31.37  \n",
       "...        ...          ...           ...  \n",
       "3682      0.00         0.04          0.55  \n",
       "3683      0.00         0.07          0.55  \n",
       "3684      0.00         0.04          0.55  \n",
       "3685      0.00         0.02          0.55  \n",
       "3686      0.13         0.07          0.55  \n",
       "\n",
       "[3634 rows x 11 columns]"
      ]
     },
     "execution_count": 122,
     "metadata": {},
     "output_type": "execute_result"
    }
   ],
   "source": [
    "data.loc[data['Global_Sales'] > data['Global_Sales'].mean()]"
   ]
  },
  {
   "cell_type": "code",
   "execution_count": null,
   "id": "7e80635c-cba8-443c-b719-a90ecef5bde3",
   "metadata": {},
   "outputs": [],
   "source": []
  },
  {
   "cell_type": "code",
   "execution_count": null,
   "id": "b632bcf1-986f-478a-b20b-5173d3a03e9e",
   "metadata": {},
   "outputs": [],
   "source": []
  },
  {
   "cell_type": "code",
   "execution_count": null,
   "id": "f4fc8d92-39ed-4a39-be06-bd7701c0619f",
   "metadata": {},
   "outputs": [],
   "source": []
  },
  {
   "cell_type": "code",
   "execution_count": null,
   "id": "f73b49b0-729c-4357-9fcc-d82c3f4a57d9",
   "metadata": {},
   "outputs": [],
   "source": []
  },
  {
   "cell_type": "code",
   "execution_count": null,
   "id": "03fc10bb-b28c-41a7-9fb3-7762fddb8363",
   "metadata": {},
   "outputs": [],
   "source": []
  },
  {
   "cell_type": "code",
   "execution_count": null,
   "id": "4aa15ac7-2ce9-4f4b-b193-41ba5d98cf85",
   "metadata": {},
   "outputs": [],
   "source": []
  },
  {
   "cell_type": "code",
   "execution_count": null,
   "id": "d694b4d2-9f03-4e1e-98ae-39382c999698",
   "metadata": {},
   "outputs": [],
   "source": []
  },
  {
   "cell_type": "code",
   "execution_count": null,
   "id": "bdfea2ef-c2f7-49b0-9e12-2f0966de6aab",
   "metadata": {},
   "outputs": [],
   "source": []
  },
  {
   "cell_type": "code",
   "execution_count": null,
   "id": "39906518-2e99-47b1-bede-9e5dc000bca8",
   "metadata": {},
   "outputs": [],
   "source": []
  },
  {
   "cell_type": "code",
   "execution_count": null,
   "id": "a85914f1-6b7a-411c-9595-09a1e72ae105",
   "metadata": {},
   "outputs": [],
   "source": []
  },
  {
   "cell_type": "code",
   "execution_count": null,
   "id": "49c256be-da04-4aa8-b24a-ae7a527f07f2",
   "metadata": {},
   "outputs": [],
   "source": []
  },
  {
   "cell_type": "code",
   "execution_count": null,
   "id": "fe9a6079-8e53-45dd-96af-54f3d5a5d371",
   "metadata": {},
   "outputs": [],
   "source": []
  },
  {
   "cell_type": "code",
   "execution_count": null,
   "id": "5099a0b0-b545-4465-a4e0-38907f3c2aaa",
   "metadata": {},
   "outputs": [],
   "source": []
  },
  {
   "cell_type": "code",
   "execution_count": null,
   "id": "3b5bb00c-cc16-409f-9937-4ccdb1d312b2",
   "metadata": {},
   "outputs": [],
   "source": []
  },
  {
   "cell_type": "code",
   "execution_count": null,
   "id": "e5464954-2adb-42f3-bb3b-dee61c51642e",
   "metadata": {},
   "outputs": [],
   "source": []
  }
 ],
 "metadata": {
  "kernelspec": {
   "display_name": "Python 3 (ipykernel)",
   "language": "python",
   "name": "python3"
  },
  "language_info": {
   "codemirror_mode": {
    "name": "ipython",
    "version": 3
   },
   "file_extension": ".py",
   "mimetype": "text/x-python",
   "name": "python",
   "nbconvert_exporter": "python",
   "pygments_lexer": "ipython3",
   "version": "3.11.4"
  }
 },
 "nbformat": 4,
 "nbformat_minor": 5
}
